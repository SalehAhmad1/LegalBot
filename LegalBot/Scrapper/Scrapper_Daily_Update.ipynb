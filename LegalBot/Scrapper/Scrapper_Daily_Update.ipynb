{
 "cells": [
  {
   "cell_type": "markdown",
   "metadata": {},
   "source": [
    "# Import All Required Libraries and Packages"
   ]
  },
  {
   "cell_type": "code",
   "execution_count": 1,
   "metadata": {},
   "outputs": [],
   "source": [
    "import time\n",
    "from concurrent.futures import ThreadPoolExecutor, as_completed\n",
    "import numpy as np\n",
    "import os\n",
    "import requests\n",
    "import fitz\n",
    "import tempfile\n",
    "\n",
    "from selenium import webdriver\n",
    "from selenium.webdriver.common.by import By\n",
    "\n",
    "from selenium.webdriver.chrome.service import Service as ChromeService\n",
    "from webdriver_manager.chrome import ChromeDriverManager\n",
    "\n",
    "from selenium.webdriver.edge.service import Service as EdgeService\n",
    "from webdriver_manager.microsoft import EdgeChromiumDriverManager"
   ]
  },
  {
   "cell_type": "markdown",
   "metadata": {},
   "source": [
    "# Current Year"
   ]
  },
  {
   "cell_type": "code",
   "execution_count": 2,
   "metadata": {},
   "outputs": [
    {
     "data": {
      "text/plain": [
       "2024"
      ]
     },
     "execution_count": 2,
     "metadata": {},
     "output_type": "execute_result"
    }
   ],
   "source": [
    "current_year = time.gmtime().tm_year\n",
    "current_year"
   ]
  },
  {
   "cell_type": "markdown",
   "metadata": {},
   "source": [
    "# Setting Important HREF Links for the Daily Updates Tabs"
   ]
  },
  {
   "cell_type": "code",
   "execution_count": 3,
   "metadata": {},
   "outputs": [],
   "source": [
    "URL_DAILY_UPDATE = {\n",
    "    'UK' : 'https://www.legislation.gov.uk/new/uk',\n",
    "    'Wales' : 'https://www.legislation.gov.uk/new/wales',\n",
    "    'Scotland' : 'https://www.legislation.gov.uk/new/scotland',\n",
    "    'Northern Ireland' : 'https://www.legislation.gov.uk/new/ni',\n",
    "}"
   ]
  },
  {
   "cell_type": "markdown",
   "metadata": {},
   "source": [
    "# Definign Some Functions Which Will be Used for The Daily Updates"
   ]
  },
  {
   "cell_type": "code",
   "execution_count": 4,
   "metadata": {},
   "outputs": [],
   "source": [
    "def verify_daily_update(driver):\n",
    "    '''A function that chechs if a new published daily update exists in a tab'''\n",
    "    h5_content = driver.find_element(By.CLASS_NAME, 'p_content').find_element(By.TAG_NAME, 'h5').text\n",
    "    if h5_content == 'Nothing published on this date':\n",
    "        return False\n",
    "    return True\n",
    "\n",
    "def extract_content_from_pdf(pdf_url):\n",
    "    '''\n",
    "    A function that extracts the content from a pdf file if the title is a PDF.\n",
    "    '''\n",
    "    response = requests.get(f'{pdf_url}')\n",
    "    \n",
    "    with tempfile.NamedTemporaryFile(delete=False, suffix='.pdf') as temp_pdf_file:\n",
    "        temp_pdf_path = temp_pdf_file.name\n",
    "        response = requests.get(pdf_url)\n",
    "        temp_pdf_file.write(response.content)\n",
    "\n",
    "    # Open the temporary PDF file and extract text content\n",
    "    pdf_document = fitz.open(temp_pdf_path)\n",
    "    text_content = ''\n",
    "    for page_num in range(pdf_document.page_count):\n",
    "        page = pdf_document.load_page(page_num)\n",
    "        text_content += page.get_text()\n",
    "    pdf_document.close()\n",
    "\n",
    "    return text_content\n",
    "\n",
    "def extract_content(driver, title_url):\n",
    "    '''Function that extracts the content from a tab. NOte: This is same as in Scrapper.ipynb'''\n",
    "    driver.get(title_url)\n",
    "    time.sleep(1)\n",
    "    Title_Content_Div = driver.find_element(By.CSS_SELECTOR, 'div.legToc')\n",
    "    NavBar = Title_Content_Div.find_element(By.ID, 'legSubNav')\n",
    "    NavBarLists = NavBar.find_elements(By.TAG_NAME, 'li')\n",
    "    ContentTab = NavBarLists[1] #It may be clickable or not. If not, the media type is PDF not text\n",
    "    Content_Link_Tag = None\n",
    "    try:  #If Not PDF\n",
    "        Content_Link_Tag = ContentTab.find_element(By.TAG_NAME, 'a')\n",
    "    except:\n",
    "        Content_Link_Tag = None\n",
    "    \n",
    "    if Content_Link_Tag != None:\n",
    "        Content_Link_Tag_Href = Content_Link_Tag.get_attribute('href')\n",
    "        driver.get(Content_Link_Tag_Href)\n",
    "        time.sleep(1)\n",
    "        '''Now get the content'''\n",
    "        '''Multiple Pages of the content page'''\n",
    "        Page_Number = 1\n",
    "        All_Provisions_Text = ''\n",
    "        while True:\n",
    "            Content_Box = driver.find_element(By.ID, 'content')\n",
    "            Content_Text = Content_Box.find_element(By.ID, 'viewLegContents').find_element(By.CLASS_NAME, 'LegSnippet')\n",
    "            page_Text = Content_Text.text\n",
    "            All_Provisions_Text += page_Text\n",
    "            print(f'Page Number: {Page_Number}')\n",
    "            \n",
    "            '''Now check for button'''\n",
    "            Button_Panel = driver.find_element(By.CLASS_NAME, 'prevNextNav')\n",
    "            try:\n",
    "                Next_Button = Button_Panel.find_element(By.TAG_NAME, 'ul').find_elements(By.TAG_NAME, 'li')[-1].find_element(By.TAG_NAME, 'a')\n",
    "                print(f'Next Button found: {Next_Button.text}')\n",
    "                try:\n",
    "                    Next_Button.click()\n",
    "                    time.sleep(1)\n",
    "                    Page_Number += 1\n",
    "                except:\n",
    "                    print(f'You are probably on the very last Provision page')\n",
    "                    print(f'Provision Page Number: {Page_Number}')\n",
    "                    break\n",
    "            except:\n",
    "                print(f'No Next Button Found - Last Provision Page')\n",
    "                print(f'Provision Page Number: {Page_Number}')\n",
    "                break\n",
    "        return All_Provisions_Text\n",
    "    \n",
    "    elif Content_Link_Tag == None:\n",
    "        Tag_PDF_href = driver.find_element(By.CSS_SELECTOR, 'div.LegSnippet').find_element(By.TAG_NAME, 'a').get_attribute('href')\n",
    "        pdf_content = extract_content_from_pdf(Tag_PDF_href)\n",
    "        return pdf_content\n",
    "\n",
    "def get_daily_update(driver, url):\n",
    "    '''\n",
    "    A function that extracts the daily update from a tab.\n",
    "    What is a tab? Each country's new title's website is a tab.\n",
    "    '''\n",
    "    driver.get(url)\n",
    "    time.sleep(1)\n",
    "    \n",
    "    if verify_daily_update(driver) == True:\n",
    "        New_Titles = {}\n",
    "        Titles_Href_List = []\n",
    "        Title_Name_List = []\n",
    "\n",
    "        Content_div = driver.find_element(By.CLASS_NAME, 'p_content')\n",
    "        Legislation_Name = Content_div.find_element(By.TAG_NAME, 'h5').text\n",
    "        Title_URLS = Content_div.find_elements(By.TAG_NAME, 'h6')\n",
    "\n",
    "        for idxNewTitle, title in enumerate(Title_URLS):\n",
    "            href = title.find_element(By.TAG_NAME, 'a').get_attribute('href')\n",
    "            name = title.text.split('-')[-1].strip()\n",
    "            Titles_Href_List.append(href)\n",
    "            Title_Name_List.append(name)\n",
    "\n",
    "        if len(Titles_Href_List) > 0:\n",
    "            New_Titles[f'{Legislation_Name}'] = dict(zip(Title_Name_List, Titles_Href_List))\n",
    "            return New_Titles\n",
    "        else:\n",
    "            return None\n",
    "        \n",
    "def create_dirs(path):\n",
    "    if not os.path.exists(path):\n",
    "        os.makedirs(path)"
   ]
  },
  {
   "cell_type": "code",
   "execution_count": 5,
   "metadata": {},
   "outputs": [],
   "source": [
    "def get_legislation_type(legislation_name):\n",
    "    '''\n",
    "    A function that returns the list of countries and the legislation type in which the legislation is in.\n",
    "    '''\n",
    "    All_Content_Folder = './Scraped_Content'\n",
    "    dict_web_structure = {}\n",
    "    dict_web_structure[str(legislation_name)] = [{'Country': Country, 'LegislationType': LegislationType} for idxCountry, Country in enumerate(os.listdir(All_Content_Folder)) for idxLegislationType, LegislationType in enumerate(os.listdir(f'{All_Content_Folder}/{Country}')) if legislation_name in os.listdir(f'{All_Content_Folder}/{Country}/{LegislationType}')]\n",
    "    return dict_web_structure\n",
    "\n",
    "import re\n",
    "def replace_slashes(filename):\n",
    "    # Replace backslashes and forward slashes with unique placeholders\n",
    "    filename = filename.replace('\\\\', '__BS__') #Back Slash\n",
    "    filename = filename.replace('/', '__FS__') #Front Slash\n",
    "    return filename\n",
    "\n",
    "def restore_slashes(filename):\n",
    "    # Restore the placeholders back to original slashes\n",
    "    filename = filename.replace('__BS__', '\\\\') #Back Slash\n",
    "    filename = filename.replace('__FS__', '/') #Front Slash\n",
    "    return filename\n",
    "\n",
    "def append_problem(title_name, title_path, problem):\n",
    "    create_dirs(\n",
    "        path='./Problematic_Titles/'\n",
    "    )\n",
    "\n",
    "    #create a file called \"problematic_files.txt\" and int save the titlename and its path and its reason\n",
    "    with open('./Problematic_Titles/problematic_files.txt', 'a') as f:\n",
    "        f.write(title_name + '\\n')\n",
    "        f.write(title_path + '\\n')\n",
    "        f.write(f'{problem}' + '\\n')\n",
    "        f.write('---\\n')\n",
    "    f.close()"
   ]
  },
  {
   "cell_type": "markdown",
   "metadata": {},
   "source": [
    "## From the below, drivers just uncomment what works for you."
   ]
  },
  {
   "cell_type": "code",
   "execution_count": 6,
   "metadata": {},
   "outputs": [],
   "source": [
    "# driver = webdriver.Chrome(service=ChromeService(ChromeDriverManager().install()))\n",
    "driver = webdriver.Edge(service=EdgeService(EdgeChromiumDriverManager().install()))"
   ]
  },
  {
   "cell_type": "code",
   "execution_count": 7,
   "metadata": {},
   "outputs": [
    {
     "name": "stdout",
     "output_type": "stream",
     "text": [
      "UK - {'UK Statutory Instruments': {'The Air Navigation (Restriction of Flying) (Southport, Merseyside) (Emergency) (Revocation) Regulations 2024': 'https://www.legislation.gov.uk/uksi/2024/862/contents/made', 'The Air Navigation (Restriction of Flying) (Liverpool) (Emergency) (Revocation) Regulations 2024': 'https://www.legislation.gov.uk/uksi/2024/861/contents/made', 'The Air Navigation (Restriction of Flying) (Salisbury) Regulations 2024': 'https://www.legislation.gov.uk/uksi/2024/857/contents/made', 'The Air Navigation (Restriction of Flying) (Newcastle, County Down) (Amendment) Regulations 2024': 'https://www.legislation.gov.uk/uksi/2024/856/contents/made', 'The Air Navigation (Restriction of Flying) (Shropshire) Regulations 2024': 'https://www.legislation.gov.uk/uksi/2024/855/contents/made'}}\n",
      "UK - {'UK Statutory Instruments': [{'Country': 'NothernIreland', 'LegislationType': 'May contain legislation that applies to NothernIreland'}, {'Country': 'Wales', 'LegislationType': 'May contain legislation that applies to Wales'}, {'Country': 'Scotland', 'LegislationType': 'May contain legislation that applies to Scotland'}, {'Country': 'UK', 'LegislationType': 'Exclusively or primarily applies to UK'}]} - UK Statutory Instruments - The Air Navigation (Restriction of Flying) (Southport, Merseyside) (Emergency) (Revocation) Regulations 2024 - https://www.legislation.gov.uk/uksi/2024/862/contents/made\n",
      "Successfully created file: ./New_Content/NothernIreland/May contain legislation that applies to NothernIreland/UK Statutory Instruments/2024/The Air Navigation (Restriction of Flying) (Southport, Merseyside) (Emergency) (Revocation) Regulations 2024.txt\n",
      "Successfully created file: ./New_Content/Wales/May contain legislation that applies to Wales/UK Statutory Instruments/2024/The Air Navigation (Restriction of Flying) (Southport, Merseyside) (Emergency) (Revocation) Regulations 2024.txt\n",
      "Successfully created file: ./New_Content/Scotland/May contain legislation that applies to Scotland/UK Statutory Instruments/2024/The Air Navigation (Restriction of Flying) (Southport, Merseyside) (Emergency) (Revocation) Regulations 2024.txt\n",
      "Successfully created file: ./New_Content/UK/Exclusively or primarily applies to UK/UK Statutory Instruments/2024/The Air Navigation (Restriction of Flying) (Southport, Merseyside) (Emergency) (Revocation) Regulations 2024.txt\n",
      "UK - {'UK Statutory Instruments': [{'Country': 'NothernIreland', 'LegislationType': 'May contain legislation that applies to NothernIreland'}, {'Country': 'Wales', 'LegislationType': 'May contain legislation that applies to Wales'}, {'Country': 'Scotland', 'LegislationType': 'May contain legislation that applies to Scotland'}, {'Country': 'UK', 'LegislationType': 'Exclusively or primarily applies to UK'}]} - UK Statutory Instruments - The Air Navigation (Restriction of Flying) (Liverpool) (Emergency) (Revocation) Regulations 2024 - https://www.legislation.gov.uk/uksi/2024/861/contents/made\n",
      "Successfully created file: ./New_Content/NothernIreland/May contain legislation that applies to NothernIreland/UK Statutory Instruments/2024/The Air Navigation (Restriction of Flying) (Liverpool) (Emergency) (Revocation) Regulations 2024.txt\n",
      "Successfully created file: ./New_Content/Wales/May contain legislation that applies to Wales/UK Statutory Instruments/2024/The Air Navigation (Restriction of Flying) (Liverpool) (Emergency) (Revocation) Regulations 2024.txt\n",
      "Successfully created file: ./New_Content/Scotland/May contain legislation that applies to Scotland/UK Statutory Instruments/2024/The Air Navigation (Restriction of Flying) (Liverpool) (Emergency) (Revocation) Regulations 2024.txt\n",
      "Successfully created file: ./New_Content/UK/Exclusively or primarily applies to UK/UK Statutory Instruments/2024/The Air Navigation (Restriction of Flying) (Liverpool) (Emergency) (Revocation) Regulations 2024.txt\n",
      "UK - {'UK Statutory Instruments': [{'Country': 'NothernIreland', 'LegislationType': 'May contain legislation that applies to NothernIreland'}, {'Country': 'Wales', 'LegislationType': 'May contain legislation that applies to Wales'}, {'Country': 'Scotland', 'LegislationType': 'May contain legislation that applies to Scotland'}, {'Country': 'UK', 'LegislationType': 'Exclusively or primarily applies to UK'}]} - UK Statutory Instruments - The Air Navigation (Restriction of Flying) (Salisbury) Regulations 2024 - https://www.legislation.gov.uk/uksi/2024/857/contents/made\n",
      "Successfully created file: ./New_Content/NothernIreland/May contain legislation that applies to NothernIreland/UK Statutory Instruments/2024/The Air Navigation (Restriction of Flying) (Salisbury) Regulations 2024.txt\n",
      "Successfully created file: ./New_Content/Wales/May contain legislation that applies to Wales/UK Statutory Instruments/2024/The Air Navigation (Restriction of Flying) (Salisbury) Regulations 2024.txt\n",
      "Successfully created file: ./New_Content/Scotland/May contain legislation that applies to Scotland/UK Statutory Instruments/2024/The Air Navigation (Restriction of Flying) (Salisbury) Regulations 2024.txt\n",
      "Successfully created file: ./New_Content/UK/Exclusively or primarily applies to UK/UK Statutory Instruments/2024/The Air Navigation (Restriction of Flying) (Salisbury) Regulations 2024.txt\n",
      "UK - {'UK Statutory Instruments': [{'Country': 'NothernIreland', 'LegislationType': 'May contain legislation that applies to NothernIreland'}, {'Country': 'Wales', 'LegislationType': 'May contain legislation that applies to Wales'}, {'Country': 'Scotland', 'LegislationType': 'May contain legislation that applies to Scotland'}, {'Country': 'UK', 'LegislationType': 'Exclusively or primarily applies to UK'}]} - UK Statutory Instruments - The Air Navigation (Restriction of Flying) (Newcastle, County Down) (Amendment) Regulations 2024 - https://www.legislation.gov.uk/uksi/2024/856/contents/made\n",
      "Successfully created file: ./New_Content/NothernIreland/May contain legislation that applies to NothernIreland/UK Statutory Instruments/2024/The Air Navigation (Restriction of Flying) (Newcastle, County Down) (Amendment) Regulations 2024.txt\n",
      "Successfully created file: ./New_Content/Wales/May contain legislation that applies to Wales/UK Statutory Instruments/2024/The Air Navigation (Restriction of Flying) (Newcastle, County Down) (Amendment) Regulations 2024.txt\n",
      "Successfully created file: ./New_Content/Scotland/May contain legislation that applies to Scotland/UK Statutory Instruments/2024/The Air Navigation (Restriction of Flying) (Newcastle, County Down) (Amendment) Regulations 2024.txt\n",
      "Successfully created file: ./New_Content/UK/Exclusively or primarily applies to UK/UK Statutory Instruments/2024/The Air Navigation (Restriction of Flying) (Newcastle, County Down) (Amendment) Regulations 2024.txt\n",
      "UK - {'UK Statutory Instruments': [{'Country': 'NothernIreland', 'LegislationType': 'May contain legislation that applies to NothernIreland'}, {'Country': 'Wales', 'LegislationType': 'May contain legislation that applies to Wales'}, {'Country': 'Scotland', 'LegislationType': 'May contain legislation that applies to Scotland'}, {'Country': 'UK', 'LegislationType': 'Exclusively or primarily applies to UK'}]} - UK Statutory Instruments - The Air Navigation (Restriction of Flying) (Shropshire) Regulations 2024 - https://www.legislation.gov.uk/uksi/2024/855/contents/made\n",
      "Successfully created file: ./New_Content/NothernIreland/May contain legislation that applies to NothernIreland/UK Statutory Instruments/2024/The Air Navigation (Restriction of Flying) (Shropshire) Regulations 2024.txt\n",
      "Successfully created file: ./New_Content/Wales/May contain legislation that applies to Wales/UK Statutory Instruments/2024/The Air Navigation (Restriction of Flying) (Shropshire) Regulations 2024.txt\n",
      "Successfully created file: ./New_Content/Scotland/May contain legislation that applies to Scotland/UK Statutory Instruments/2024/The Air Navigation (Restriction of Flying) (Shropshire) Regulations 2024.txt\n",
      "Successfully created file: ./New_Content/UK/Exclusively or primarily applies to UK/UK Statutory Instruments/2024/The Air Navigation (Restriction of Flying) (Shropshire) Regulations 2024.txt\n",
      "Wales - {'Wales Statutory Instruments': {'The Historic Environment (Wales) Act 2023 (Commencement) Order 2024 / Gorchymyn Deddf yr Amgylchedd Hanesyddol (Cymru) 2023 (Cychwyn) 2024': 'https://www.legislation.gov.uk/wsi/2024/860/contents/made'}}\n",
      "Wales - {'Wales Statutory Instruments': [{'Country': 'Wales', 'LegislationType': 'Exclusively or primarily applies to Wales'}, {'Country': 'UK', 'LegislationType': 'May contain legislation that applies to UK'}]} - Wales Statutory Instruments - The Historic Environment (Wales) Act 2023 (Commencement) Order 2024 / Gorchymyn Deddf yr Amgylchedd Hanesyddol (Cymru) 2023 (Cychwyn) 2024 - https://www.legislation.gov.uk/wsi/2024/860/contents/made\n",
      "Successfully created file: ./New_Content/Wales/Exclusively or primarily applies to Wales/Wales Statutory Instruments/2024/The Historic Environment (Wales) Act 2023 (Commencement) Order 2024 __FS__ Gorchymyn Deddf yr Amgylchedd Hanesyddol (Cymru) 2023 (Cychwyn) 2024.txt\n",
      "Successfully created file: ./New_Content/UK/May contain legislation that applies to UK/Wales Statutory Instruments/2024/The Historic Environment (Wales) Act 2023 (Commencement) Order 2024 __FS__ Gorchymyn Deddf yr Amgylchedd Hanesyddol (Cymru) 2023 (Cychwyn) 2024.txt\n",
      "Scotland - {'Scottish Statutory Instruments': {'Spey) (Temporary Prohibition on Use of Road and Specified Turns) Order 2024': 'https://www.legislation.gov.uk/ssi/2024/213/contents/made'}}\n",
      "Scotland - {'Scottish Statutory Instruments': [{'Country': 'Scotland', 'LegislationType': 'Exclusively or primarily applies to Scotland'}, {'Country': 'UK', 'LegislationType': 'May contain legislation that applies to UK'}]} - Scottish Statutory Instruments - Spey) (Temporary Prohibition on Use of Road and Specified Turns) Order 2024 - https://www.legislation.gov.uk/ssi/2024/213/contents/made\n",
      "Successfully created file: ./New_Content/Scotland/Exclusively or primarily applies to Scotland/Scottish Statutory Instruments/2024/Spey) (Temporary Prohibition on Use of Road and Specified Turns) Order 2024.txt\n",
      "Successfully created file: ./New_Content/UK/May contain legislation that applies to UK/Scottish Statutory Instruments/2024/Spey) (Temporary Prohibition on Use of Road and Specified Turns) Order 2024.txt\n",
      "Northern Ireland - None\n"
     ]
    }
   ],
   "source": [
    "for Country_Key in URL_DAILY_UPDATE.keys():\n",
    "    New_Titles = get_daily_update(driver, URL_DAILY_UPDATE[Country_Key])\n",
    "    print(f'{Country_Key} - {New_Titles}')\n",
    "    if New_Titles != {} and New_Titles is not None:\n",
    "        for idxLegislation, legislation_name in enumerate(New_Titles.keys()):\n",
    "            for title_name, title_url in New_Titles[legislation_name].items():\n",
    "                '''Now since we have the title url, we can extract the title data'''\n",
    "                legislation_type = get_legislation_type(legislation_name)\n",
    "                print(f'{Country_Key} - {legislation_type} - {legislation_name} - {title_name} - {title_url}')\n",
    "\n",
    "                Title_Data_Content = extract_content(driver, title_url)\n",
    "\n",
    "                for item in legislation_type[legislation_name]:\n",
    "                    key_country = item['Country']\n",
    "                    key_legislation_type = item['LegislationType']\n",
    "\n",
    "                    txt_file_path = f'./New_Content/{key_country}/{key_legislation_type}/{legislation_name}/{current_year}'\n",
    "                    validated_file_name = replace_slashes(title_name)\n",
    "                    validated_file_name = os.path.join(txt_file_path, validated_file_name+'.txt')\n",
    "\n",
    "                    create_dirs(path=txt_file_path)\n",
    "\n",
    "                    try:\n",
    "                        with open(f'{validated_file_name}', 'w') as f:\n",
    "                            f.write(Title_Data_Content)\n",
    "                        f.close()\n",
    "                        print(f'Successfully created file: {validated_file_name}')\n",
    "                    except Exception as e:\n",
    "                        error_message = str(e)\n",
    "                        print(f'Error Message: {error_message}')\n",
    "                        append_problem(title_name=title_name, \n",
    "                                        title_path=validated_file_name, \n",
    "                                        problem=error_message)\n",
    "                        print(f'Failed to create file: {validated_file_name}')\n",
    "                    \n",
    "driver.quit()"
   ]
  }
 ],
 "metadata": {
  "kernelspec": {
   "display_name": "env",
   "language": "python",
   "name": "python3"
  },
  "language_info": {
   "codemirror_mode": {
    "name": "ipython",
    "version": 3
   },
   "file_extension": ".py",
   "mimetype": "text/x-python",
   "name": "python",
   "nbconvert_exporter": "python",
   "pygments_lexer": "ipython3",
   "version": "3.11.6"
  }
 },
 "nbformat": 4,
 "nbformat_minor": 2
}
