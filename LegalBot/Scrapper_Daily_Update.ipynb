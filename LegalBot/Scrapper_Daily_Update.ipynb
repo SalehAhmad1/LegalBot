{
 "cells": [
  {
   "cell_type": "code",
   "execution_count": 1,
   "metadata": {},
   "outputs": [],
   "source": [
    "import time\n",
    "from concurrent.futures import ThreadPoolExecutor, as_completed\n",
    "import numpy as np\n",
    "import os\n",
    "\n",
    "from selenium import webdriver\n",
    "from selenium.webdriver.common.by import By\n",
    "from selenium.webdriver.chrome.service import Service as ChromeService\n",
    "from webdriver_manager.chrome import ChromeDriverManager\n",
    "from selenium import webdriver\n",
    "from selenium.webdriver.common.by import By\n",
    "from selenium.webdriver.chrome.service import Service as ChromeService\n",
    "from webdriver_manager.chrome import ChromeDriverManager\n",
    "from selenium import webdriver\n",
    "from selenium.webdriver.common.by import By"
   ]
  },
  {
   "cell_type": "code",
   "execution_count": 2,
   "metadata": {},
   "outputs": [],
   "source": [
    "URL_DAILY_UPDATE = {\n",
    "    'UK' : 'https://www.legislation.gov.uk/new/uk',\n",
    "    'Wales' : 'https://www.legislation.gov.uk/new/wales',\n",
    "    'Scotland' : 'https://www.legislation.gov.uk/new/scotland',\n",
    "    'Northern Ireland' : 'https://www.legislation.gov.uk/new/ni',\n",
    "}"
   ]
  },
  {
   "cell_type": "code",
   "execution_count": 10,
   "metadata": {},
   "outputs": [],
   "source": [
    "def verify_daily_update(driver):\n",
    "    h5_content = driver.find_element(By.CLASS_NAME, 'p_content').find_element(By.TAG_NAME, 'h5').text\n",
    "    if h5_content == 'Nothing published on this date':\n",
    "        return False\n",
    "    return True\n",
    "\n",
    "def get_daily_update(driver, url):\n",
    "    driver.get(url)\n",
    "    time.sleep(1)\n",
    "    \n",
    "    if verify_daily_update(driver) == True:\n",
    "        Content_div = driver.find_element(By.CLASS_NAME, 'p_content')\n",
    "        Legislation_Name = Content_div.find_element(By.TAG_NAME, 'h5').text\n",
    "        Title_Name = Content_div.find_element(By.TAG_NAME, 'h6').text.split('-')[-1].strip()\n",
    "        Title_URL = Content_div.find_element(By.TAG_NAME, 'h6').find_element(By.TAG_NAME, 'a').get_attribute('href')\n",
    "        \n",
    "        print(f'{Legislation_Name} - {Title_Name} - {Title_URL}')"
   ]
  },
  {
   "cell_type": "code",
   "execution_count": 14,
   "metadata": {},
   "outputs": [],
   "source": [
    "driver = webdriver.Chrome(service=ChromeService(ChromeDriverManager().install()))\n",
    "get_daily_update(driver, URL_DAILY_UPDATE['Scotland'])"
   ]
  },
  {
   "cell_type": "code",
   "execution_count": null,
   "metadata": {},
   "outputs": [],
   "source": []
  }
 ],
 "metadata": {
  "kernelspec": {
   "display_name": "env",
   "language": "python",
   "name": "python3"
  },
  "language_info": {
   "codemirror_mode": {
    "name": "ipython",
    "version": 3
   },
   "file_extension": ".py",
   "mimetype": "text/x-python",
   "name": "python",
   "nbconvert_exporter": "python",
   "pygments_lexer": "ipython3",
   "version": "3.11.6"
  }
 },
 "nbformat": 4,
 "nbformat_minor": 2
}
