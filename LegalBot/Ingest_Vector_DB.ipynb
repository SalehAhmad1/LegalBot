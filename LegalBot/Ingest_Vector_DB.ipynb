{
 "cells": [
  {
   "cell_type": "markdown",
   "metadata": {},
   "source": [
    "# Import All Required Libraries and Packages"
   ]
  },
  {
   "cell_type": "code",
   "execution_count": null,
   "metadata": {},
   "outputs": [],
   "source": [
    "import os\n",
    "import warnings\n",
    "warnings.filterwarnings(\"ignore\")\n",
    "warnings.filterwarnings(\"ignore\", category=DeprecationWarning)\n",
    "\n",
    "from RAG_v1 import *"
   ]
  },
  {
   "cell_type": "markdown",
   "metadata": {},
   "source": [
    "# Initiate the Chatbot Class Object to:\n",
    "## - Ingest Data into the Vector DB of the Respective Country"
   ]
  },
  {
   "cell_type": "code",
   "execution_count": null,
   "metadata": {},
   "outputs": [],
   "source": [
    "RAG_App_Object = RAG_Bot(['Uk', 'Wales', 'NothernIreland', 'Scotland'], #Collection Names as is\n",
    "                         text_splitter='SpaCy',\n",
    "                         embedding_model=\"SentenceTransformers\") \n",
    "\n",
    "print(f'\\nValidating the liveness of the collections:\\n')\n",
    "RAG_App_Object.vector_db.validate_collection()"
   ]
  },
  {
   "cell_type": "markdown",
   "metadata": {},
   "source": [
    "# Emptying the Vector DB to Make Sure It is Empty Before Ingesting New Data In it"
   ]
  },
  {
   "cell_type": "code",
   "execution_count": null,
   "metadata": {},
   "outputs": [],
   "source": [
    "# RAG_App_Object.vector_db.delete_all_collections()"
   ]
  },
  {
   "cell_type": "markdown",
   "metadata": {},
   "source": [
    "# Define Some Important Paths for the Ingestion Function/Code To Use"
   ]
  },
  {
   "cell_type": "code",
   "execution_count": null,
   "metadata": {},
   "outputs": [],
   "source": [
    "path_scraped_content_home = os.path.join('./Scrapper/Scraped_Content')\n",
    "path_scraped_content_home"
   ]
  },
  {
   "cell_type": "markdown",
   "metadata": {},
   "source": [
    "## All Required Functions for Ingestion"
   ]
  },
  {
   "cell_type": "code",
   "execution_count": null,
   "metadata": {},
   "outputs": [],
   "source": [
    "def read_file_text_content(file_path:str=None):\n",
    "    if file_path is None:\n",
    "        raise ValueError('File path cannot be None. Check the txt file path')\n",
    "    else:\n",
    "        with open(file_path, 'r') as f:\n",
    "            return f.read()"
   ]
  },
  {
   "cell_type": "markdown",
   "metadata": {},
   "source": [
    "# Cell that Iterates over the Scrapped Content and Adds the files to the Vector DB"
   ]
  },
  {
   "cell_type": "code",
   "execution_count": null,
   "metadata": {},
   "outputs": [],
   "source": [
    "log_file = 'processed_files.log'\n",
    "\n",
    "# Load already processed files into a set\n",
    "if os.path.exists(log_file):\n",
    "    with open(log_file, 'r') as f:\n",
    "        processed_files = set(f.read().splitlines())\n",
    "else:\n",
    "    processed_files = set()\n",
    "\n",
    "with open(log_file, 'a') as f:  # Open the log file in append mode\n",
    "    for idxCountry, Country in enumerate(os.listdir(path_scraped_content_home)):\n",
    "        country = Country\n",
    "        if Country == 'UK':\n",
    "            country = 'Uk'\n",
    "        Path_Country = os.path.join(path_scraped_content_home, Country)\n",
    "        for idxLegislationType, LegislationType in enumerate(os.listdir(Path_Country)):\n",
    "            Path_LegislationType = os.path.join(Path_Country, LegislationType)\n",
    "            for idxLeg, Legislation in enumerate(os.listdir(Path_LegislationType)):\n",
    "                Path_Legislation = os.path.join(Path_LegislationType, Legislation)\n",
    "                for idxYear, Year in enumerate(os.listdir(Path_Legislation)):\n",
    "                    Path_Year = os.path.join(Path_Legislation, Year)\n",
    "                    for idxFile, File in enumerate(os.listdir(Path_Year)):\n",
    "                        Path_File = os.path.join(Path_Year, File)\n",
    "\n",
    "                        # Create a unique identifier for the file\n",
    "                        file_id = f\"{country}|{LegislationType}|{Legislation}|{Year}|{File}\"\n",
    "\n",
    "                        # Skip if the file has already been processed\n",
    "                        if file_id in processed_files:\n",
    "                            continue\n",
    "\n",
    "                        # print(f'Country: {country}, LegType: {LegislationType}, Legislation: {Legislation}, Year: {Year}, Title_File: {File}')\n",
    "                        try:\n",
    "                            RAG_App_Object.add_text(\n",
    "                                collection_name=country,\n",
    "                                text=read_file_text_content(Path_File),\n",
    "                                metadata={\n",
    "                                    'Country': country,\n",
    "                                    'LegislationType': LegislationType,\n",
    "                                    'Legislation': Legislation,\n",
    "                                    'Year': Year,\n",
    "                                    'Title': File\n",
    "                                }\n",
    "                            )\n",
    "                            # Log the successfully processed file\n",
    "                            f.write(f'{file_id}\\n')\n",
    "                            f.flush()  # Ensure the log is written immediately\n",
    "                        except Exception as e:\n",
    "                            print(f\"Error processing {file_id}: {str(e)}\")\n"
   ]
  }
 ],
 "metadata": {
  "kernelspec": {
   "display_name": "env",
   "language": "python",
   "name": "python3"
  },
  "language_info": {
   "codemirror_mode": {
    "name": "ipython",
    "version": 3
   },
   "file_extension": ".py",
   "mimetype": "text/x-python",
   "name": "python",
   "nbconvert_exporter": "python",
   "pygments_lexer": "ipython3",
   "version": "3.11.6"
  }
 },
 "nbformat": 4,
 "nbformat_minor": 2
}
