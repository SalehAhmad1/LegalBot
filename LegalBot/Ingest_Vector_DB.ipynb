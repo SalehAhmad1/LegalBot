{
 "cells": [
  {
   "cell_type": "markdown",
   "metadata": {},
   "source": [
    "# Import All Required Libraries and Packages"
   ]
  },
  {
   "cell_type": "code",
   "execution_count": 9,
   "metadata": {},
   "outputs": [],
   "source": [
    "import os\n",
    "import warnings\n",
    "warnings.filterwarnings(\"ignore\")\n",
    "warnings.filterwarnings(\"ignore\", category=DeprecationWarning)\n",
    "\n",
    "from RAG_v1 import *"
   ]
  },
  {
   "cell_type": "markdown",
   "metadata": {},
   "source": [
    "# Initiate the Chatbot Class Object to:\n",
    "## - Ingest Data into the Vector DB of the Respective Country"
   ]
  },
  {
   "cell_type": "code",
   "execution_count": 10,
   "metadata": {},
   "outputs": [
    {
     "name": "stdout",
     "output_type": "stream",
     "text": [
      "Cluster_URL: https://gwqaighsqp6gtrk8kwmnmg.c0.us-west3.gcp.weaviate.cloud, Cluster_API: 2xKmTTGUawzXYItFrMR9JgTjY2oRkfzHFLWN\n",
      "Creating 4 Weaviate Clusters - Option 3\n",
      "The collection: Uk already exists in the Weaviate Cluster\n",
      "The collection: Wales already exists in the Weaviate Cluster\n",
      "The collection: NothernIreland already exists in the Weaviate Cluster\n",
      "The collection: Scotland already exists in the Weaviate Cluster\n",
      "\n",
      "Validating the liveness of the collections:\n",
      "\n",
      "Cluster Status: False\n",
      "Existing Collections: dict_keys(['Nothernireland', 'Wales', 'Scotland', 'Uk'])\n"
     ]
    }
   ],
   "source": [
    "RAG_App_Object = RAG_Bot(['Uk', 'Wales', 'NothernIreland', 'Scotland']) #Collection Names as is\n",
    "\n",
    "print(f'\\nValidating the liveness of the collections:\\n')\n",
    "RAG_App_Object.vector_db.validate_collection()"
   ]
  },
  {
   "cell_type": "markdown",
   "metadata": {},
   "source": [
    "# Define Some Important Paths for the Ingestion Function/Code To Use"
   ]
  },
  {
   "cell_type": "code",
   "execution_count": 11,
   "metadata": {},
   "outputs": [
    {
     "data": {
      "text/plain": [
       "'./Scrapper/Scraped_Content'"
      ]
     },
     "execution_count": 11,
     "metadata": {},
     "output_type": "execute_result"
    }
   ],
   "source": [
    "path_scraped_content_home = os.path.join('./Scrapper/Scraped_Content')\n",
    "path_scraped_content_home"
   ]
  },
  {
   "cell_type": "markdown",
   "metadata": {},
   "source": [
    "## All Required Functions for Ingestion"
   ]
  },
  {
   "cell_type": "code",
   "execution_count": 12,
   "metadata": {},
   "outputs": [],
   "source": [
    "def read_file_text_content(file_path:str=None):\n",
    "    if file_path is None:\n",
    "        raise ValueError('File path cannot be None. Check the txt file path')\n",
    "    else:\n",
    "        with open(file_path, 'r') as f:\n",
    "            return f.read()"
   ]
  },
  {
   "cell_type": "markdown",
   "metadata": {},
   "source": [
    "# Cell that Iterates over the Scrapped Content and Adds the files to the Vector DB"
   ]
  },
  {
   "cell_type": "code",
   "execution_count": 13,
   "metadata": {},
   "outputs": [
    {
     "name": "stdout",
     "output_type": "stream",
     "text": [
      "Country: Uk, LegType: Exclusively or primarily applies to UK, Legislation: UK Public General Acts, Year: 2024, Title_File: Paternity Leave (Bereavement) Act 2024.txt\n",
      "File with data with ids: ['3268193b-1604-41af-97eb-dbf031e60490', '2f0b2603-fe2a-482a-9e22-c5906420a3cf', 'a815d6bb-0dc7-4666-b7f1-60464242e964', '4808bc44-63df-408e-ae65-aecf58272293']\n"
     ]
    }
   ],
   "source": [
    "for idxCountry, Country in enumerate(os.listdir(path_scraped_content_home)):\n",
    "    country = Country\n",
    "    if Country == 'UK':\n",
    "        country = 'Uk'\n",
    "    Path_Country = os.path.join(path_scraped_content_home, Country)\n",
    "    for idxLegislationType, LegislationType in enumerate(os.listdir(Path_Country)):\n",
    "        Path_LegislationType = os.path.join(Path_Country, LegislationType)\n",
    "        for idxLeg, Legislation in enumerate(os.listdir(Path_LegislationType)):\n",
    "            Path_Legislation = os.path.join(Path_LegislationType, Legislation)\n",
    "            for idxYear, Year in enumerate(os.listdir(Path_Legislation)):\n",
    "                Path_Year = os.path.join(Path_Legislation, Year)\n",
    "                for idxFile, File in enumerate(os.listdir(Path_Year)):\n",
    "                    Path_File = os.path.join(Path_Year, File)\n",
    "                    print(f'Country: {country}, LegType: {LegislationType}, Legislation: {Legislation}, Year: {Year}, Title_File: {File}')\n",
    "                    RAG_App_Object.add_text(\n",
    "                        collection_name=country,\n",
    "                        text=read_file_text_content(Path_File),\n",
    "                        metadata={\n",
    "                            'Country': country,\n",
    "                            'LegislationType': LegislationType,\n",
    "                            'Legislation': Legislation,\n",
    "                            'Year': Year,\n",
    "                            'Title': File\n",
    "                        }\n",
    "                    )\n",
    "                    break\n",
    "                break\n",
    "            break\n",
    "        break\n",
    "    break"
   ]
  }
 ],
 "metadata": {
  "kernelspec": {
   "display_name": "env",
   "language": "python",
   "name": "python3"
  },
  "language_info": {
   "codemirror_mode": {
    "name": "ipython",
    "version": 3
   },
   "file_extension": ".py",
   "mimetype": "text/x-python",
   "name": "python",
   "nbconvert_exporter": "python",
   "pygments_lexer": "ipython3",
   "version": "3.11.9"
  }
 },
 "nbformat": 4,
 "nbformat_minor": 2
}
