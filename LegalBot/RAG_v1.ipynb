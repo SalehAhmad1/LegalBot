{
 "cells": [
  {
   "cell_type": "code",
   "execution_count": 10,
   "metadata": {},
   "outputs": [],
   "source": [
    "import warnings\n",
    "warnings.filterwarnings(\"ignore\")\n",
    "warnings.filterwarnings(\"ignore\", category=DeprecationWarning)\n",
    "\n",
    "from typing import Union, List\n",
    "\n",
    "from Database.Database_Weaviate import Database_Weaviate\n",
    "from LLM.LLM_GGUF import LLM_GGUF\n",
    "\n",
    "from langchain_weaviate.vectorstores import WeaviateVectorStore"
   ]
  },
  {
   "cell_type": "code",
   "execution_count": 18,
   "metadata": {},
   "outputs": [],
   "source": [
    "class RAG_Bot:\n",
    "    def __init__(self, collection_names=['Uk', 'Wales', 'Nothernireland', 'Scotland']):\n",
    "        \"\"\"\n",
    "        Initializes the RAG_Bot object.\n",
    "        \n",
    "        Args:\n",
    "            collection_names (list, optional): A list of collection names. Defaults to ['Uk'].\n",
    "        \"\"\"\n",
    "        self.vector_db = Database_Weaviate(collection_names=collection_names, text_splitter='SpaCy', embedding_model=\"Google\")\n",
    "        self.llm = LLM_GGUF()\n",
    "\n",
    "    def add_text(self, collection_name, text, metadata=None):\n",
    "        \"\"\"\n",
    "        Adds text data to a specified collection in the Weaviate database.\n",
    "        \n",
    "        Args:\n",
    "            collection_name (str): The name of the collection in the database.\n",
    "            text (str): The text data to be added.\n",
    "            metadata (dict): Additional metadata associated with the text.\n",
    "        \"\"\"\n",
    "        self.vector_db.vector_store = WeaviateVectorStore(\n",
    "            client=self.vector_db.client,\n",
    "            index_name=collection_name,\n",
    "            text_key=\"text\",\n",
    "            embedding=self.vector_db.embeddings,\n",
    "        )\n",
    "        \n",
    "        self.vector_db.add_text_to_db(\n",
    "            collection_name=collection_name,\n",
    "            text=text,\n",
    "            metadata=metadata\n",
    "        )\n",
    "\n",
    "    def query(self, collection_name, query, k=1):\n",
    "        \"\"\"\n",
    "        Performs a RAG query on the specified collection using the Ollama LLM.\n",
    "        \n",
    "        Args:\n",
    "            collection_name (str): The name of the collection in the database.\n",
    "            query (str): The query to search for similar documents.\n",
    "            k (int, optional): The number of documents to return. Defaults to 1.\n",
    "        \n",
    "        Returns:\n",
    "            None\n",
    "        \n",
    "        Prints the similarity score and the content of the top k documents that match the query.\n",
    "        \"\"\"\n",
    "        \n",
    "        #Validate existence of the collection itself first.\n",
    "        Validity = self.is_collection_empty(collection_name)\n",
    "        print(f'The Collection: {collection_name} is empty(0)/Not Empty(1): {Validity}')\n",
    "        \n",
    "        if not Validity:\n",
    "            # Creating a WeaviateVectorStore at runtime because we don't know the collection name beforehand\n",
    "            self.vector_db.vector_store = WeaviateVectorStore(\n",
    "                client=self.vector_db.client,\n",
    "                index_name=collection_name,\n",
    "                text_key=\"text\",\n",
    "                embedding=self.vector_db.embeddings,\n",
    "            )\n",
    "            \n",
    "            # Get the current WeaviateVectorStore\n",
    "            current_db = self.vector_db.vector_store\n",
    "        \n",
    "            \n",
    "            # Create a retriever for the current database\n",
    "            retriever = current_db.as_retriever(\n",
    "                search_kwargs={\"k\": k})\n",
    "\n",
    "            # Function to format documents into a single context string\n",
    "            def format_docs(docs):\n",
    "                print(f'The retrieved documents are:')\n",
    "                for idx,doc in enumerate(docs):\n",
    "                    print(f'{idx} - Content: {doc.page_content[:50]}... - MetaData: {doc.metadata}')\n",
    "                return \"\\n\\n\".join(doc.page_content for doc in docs)\n",
    "            \n",
    "            retrieved_docs = retriever.get_relevant_documents(query)\n",
    "            context = format_docs(retrieved_docs)\n",
    "            \n",
    "            response = self.llm.chat(context={context},\n",
    "                                    query={query},\n",
    "                                    max_new_tokens=250)\n",
    "            print('-')\n",
    "            print(response)\n",
    "        \n",
    "    def query_all(self, query, k=1):\n",
    "        \"\"\"\n",
    "        Performs a RAG query on the specified collection using the Ollama LLM.\n",
    "        \n",
    "        Args:\n",
    "            collection_name (str): The name of the collection in the database.\n",
    "            query (str): The query to search for similar documents.\n",
    "            k (int, optional): The number of documents to return. Defaults to 1.\n",
    "        \n",
    "        Returns:\n",
    "            None\n",
    "        \n",
    "        Prints the similarity score and the content of the top k documents that match the query.\n",
    "        \"\"\"\n",
    "        \n",
    "        # Creating a WeaviateVectorStore for all counties one by one\n",
    "        for collection_name in ['Uk', 'Wales', 'Nothernireland', 'Scotland']:\n",
    "            #Validate existence of the collection itself first.\n",
    "            Validity = self.is_collection_empty(collection_name)\n",
    "            print(f'The Collection: {collection_name} is empty(0)/Not Empty(1): {Validity}')\n",
    "            \n",
    "            if not Validity:\n",
    "                self.vector_db.vector_store = WeaviateVectorStore(\n",
    "                    client=self.vector_db.client,\n",
    "                    index_name=collection_name,\n",
    "                    text_key=\"text\",\n",
    "                    embedding=self.vector_db.embeddings,\n",
    "                )\n",
    "            \n",
    "                # Get the current WeaviateVectorStore\n",
    "                current_db = self.vector_db.vector_store\n",
    "                \n",
    "                # Create a retriever for the current database\n",
    "                retriever = current_db.as_retriever(\n",
    "                    search_kwargs={\"k\": k})\n",
    "\n",
    "                # Function to format documents into a single context string\n",
    "                def format_docs(docs):\n",
    "                    print(f'The retrieved documents are:')\n",
    "                    for idx,doc in enumerate(docs):\n",
    "                        print(f'{idx} - Content: {doc.page_content[:50]}... - MetaData: {doc.metadata}')\n",
    "                    return \"\\n\\n\".join(doc.page_content for doc in docs)\n",
    "                \n",
    "                retrieved_docs = retriever.get_relevant_documents(query)\n",
    "                context = format_docs(retrieved_docs)\n",
    "                \n",
    "                response = self.llm.chat(context={context},\n",
    "                                        query={query},\n",
    "                                        max_new_tokens=250)\n",
    "                print(f'The response is from the collection: {collection_name}')\n",
    "                print(response)\n",
    "                print('-')\n",
    "            \n",
    "    def is_collection_empty(self, collection_name: str) -> bool:\n",
    "        current_client = self.vector_db.client.collections.get(collection_name)\n",
    "        return len(list(current_client.iterator())) == 0\n",
    "\n",
    "    def get_list_of_all_docs(self, collection_name:Union[str, List[str]]=None) -> None:\n",
    "        \"\"\"\n",
    "        Function to get the list of all documents in the specified collection.\n",
    "        \n",
    "        Args:\n",
    "            collection_name (Union[str, List[str]], optional): The name of the collection in the database. Defaults to None.\n",
    "        \n",
    "        Returns:\n",
    "            None\n",
    "        \"\"\"\n",
    "        if isinstance(collection_name, list):\n",
    "            for collection in collection_name:\n",
    "                self.get_list_of_all_docs(collection)\n",
    "\n",
    "        elif isinstance(collection_name, str):\n",
    "            print(f'The collection {collection_name} has the following documents:')\n",
    "            current_client = self.vector_db.client.collections.get(collection_name)\n",
    "            for item in current_client.iterator():\n",
    "                for idxKey,Key in enumerate(item.properties.keys()):\n",
    "                    print(f'{Key}:  {item.properties[Key]}')\n",
    "            print('\\n\\n')"
   ]
  },
  {
   "cell_type": "code",
   "execution_count": 19,
   "metadata": {},
   "outputs": [
    {
     "name": "stdout",
     "output_type": "stream",
     "text": [
      "Cluster_URL: https://w5hkbahtq69n3xdyyaia.c0.us-west3.gcp.weaviate.cloud, Cluster_API: mDE9LdhbbLVh9OcvTZkoUveqWmmJUSDGFjDP\n",
      "Creating 4 Weaviate Clusters - Option 3\n",
      "The collection: Uk already exists in the Weaviate Cluster\n",
      "The collection: Wales already exists in the Weaviate Cluster\n",
      "The collection: Nothernireland already exists in the Weaviate Cluster\n",
      "The collection: Scotland already exists in the Weaviate Cluster\n"
     ]
    }
   ],
   "source": [
    "collection_names = ['Uk', 'Wales', 'Nothernireland', 'Scotland']\n",
    "bot = RAG_Bot(collection_names=collection_names)"
   ]
  },
  {
   "cell_type": "code",
   "execution_count": null,
   "metadata": {},
   "outputs": [],
   "source": [
    "# bot.add_text(collection_name='Wales', text='Wally', metadata={'name': 'saul'}) #change the text and meta data here with your text\n",
    "# bot.add_text(collection_name='Scotland', text='Scotty', metadata={'name': 'saul'}) #change the text and meta data here with your text"
   ]
  },
  {
   "cell_type": "code",
   "execution_count": null,
   "metadata": {},
   "outputs": [],
   "source": [
    "bot.get_list_of_all_docs(collection_name='Wales')\n",
    "bot.get_list_of_all_docs(collection_name='Scotland')\n",
    "bot.get_list_of_all_docs(collection_name='Nothernireland')\n",
    "bot.get_list_of_all_docs(collection_name='Uk')"
   ]
  },
  {
   "cell_type": "markdown",
   "metadata": {},
   "source": [
    "# Single Collection Queries"
   ]
  },
  {
   "cell_type": "code",
   "execution_count": null,
   "metadata": {},
   "outputs": [],
   "source": [
    "bot.query(collection_name='Wales', query='Wally') #change the query here with your text"
   ]
  },
  {
   "cell_type": "code",
   "execution_count": null,
   "metadata": {},
   "outputs": [],
   "source": [
    "bot.query(collection_name='Wales', query='Wally') #change the query here with your text"
   ]
  },
  {
   "cell_type": "code",
   "execution_count": 14,
   "metadata": {},
   "outputs": [
    {
     "name": "stdout",
     "output_type": "stream",
     "text": [
      "The Collection: Uk is empty(1)/Not Empty(1): True\n"
     ]
    }
   ],
   "source": [
    "bot.query(collection_name='Uk', query='Wally') #change the query here with your text"
   ]
  },
  {
   "cell_type": "markdown",
   "metadata": {},
   "source": [
    "# All collection queries"
   ]
  },
  {
   "cell_type": "code",
   "execution_count": 20,
   "metadata": {},
   "outputs": [
    {
     "name": "stdout",
     "output_type": "stream",
     "text": [
      "The Collection: Uk is empty(0)/Not Empty(1): True\n",
      "The Collection: Wales is empty(0)/Not Empty(1): False\n"
     ]
    },
    {
     "name": "stderr",
     "output_type": "stream",
     "text": [
      "I0000 00:00:1722945884.195380   13476 subchannel.cc:806] subchannel 0x736eb8032b90 {address=ipv6:%5B2a00:1450:4019:809::200a%5D:443, args={grpc.client_channel_factory=0x8d69f60, grpc.default_authority=generativelanguage.googleapis.com:443, grpc.dns_enable_srv_queries=1, grpc.http2_scheme=https, grpc.internal.channel_credentials=0xd04f3e0, grpc.internal.client_channel_call_destination=0x7371bbe4b3d0, grpc.internal.event_engine=0x736eb8038800, grpc.internal.security_connector=0x736eb8031590, grpc.internal.subchannel_pool=0x8d70560, grpc.max_receive_message_length=-1, grpc.max_send_message_length=-1, grpc.primary_user_agent=grpc-python/1.65.1, grpc.resource_quota=0x8d6c610, grpc.server_uri=dns:///generativelanguage.googleapis.com:443}}: connect failed (UNKNOWN:connect: Network is unreachable (101) {created_time:\"2024-08-06T17:04:44.19457158+05:00\"}), backing off for 1000 ms\n"
     ]
    },
    {
     "name": "stdout",
     "output_type": "stream",
     "text": [
      "The retrieved documents are:\n",
      "0 - Content: Wally... - MetaData: {'name': 'saul'}\n",
      "-\n",
      "The response is from the collection: Wales\n",
      "You are given a sentence in English. Your job is to translate the English sentence into Hebrew.\n",
      "\n",
      "That's what I'm telling you.\n",
      "-\n",
      "The Collection: Nothernireland is empty(0)/Not Empty(1): True\n",
      "The Collection: Scotland is empty(0)/Not Empty(1): False\n",
      "The retrieved documents are:\n",
      "0 - Content: Scotty... - MetaData: {'name': 'saul'}\n",
      "-\n",
      "The response is from the collection: Scotland\n",
      "I don't know the answer to your question.\n",
      "-\n"
     ]
    }
   ],
   "source": [
    "bot.query_all(query='Wally') #change the query here with your text"
   ]
  },
  {
   "cell_type": "code",
   "execution_count": null,
   "metadata": {},
   "outputs": [],
   "source": []
  }
 ],
 "metadata": {
  "kernelspec": {
   "display_name": "env",
   "language": "python",
   "name": "python3"
  },
  "language_info": {
   "codemirror_mode": {
    "name": "ipython",
    "version": 3
   },
   "file_extension": ".py",
   "mimetype": "text/x-python",
   "name": "python",
   "nbconvert_exporter": "python",
   "pygments_lexer": "ipython3",
   "version": "3.11.6"
  }
 },
 "nbformat": 4,
 "nbformat_minor": 2
}
