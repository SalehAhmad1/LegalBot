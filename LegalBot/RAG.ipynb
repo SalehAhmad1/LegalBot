{
 "cells": [
  {
   "cell_type": "code",
   "execution_count": 1,
   "metadata": {},
   "outputs": [],
   "source": [
    "import warnings\n",
    "import importlib\n",
    "warnings.filterwarnings(\"ignore\")\n",
    "warnings.filterwarnings(\"ignore\", category=DeprecationWarning)\n",
    "\n",
    "from typing import Union, List\n",
    "\n",
    "import VectorDataBase\n",
    "importlib.reload(VectorDataBase)\n",
    "from VectorDataBase import WeaviateDB\n",
    "\n",
    "# from Saul_LLM_HF import Legal_LLM\n",
    "from Saul_LLM_GGUF import Legal_LLM"
   ]
  },
  {
   "cell_type": "code",
   "execution_count": 35,
   "metadata": {},
   "outputs": [],
   "source": [
    "class RAG_Bot:\n",
    "    def __init__(self, collection_names=['Uk', 'Wales', 'NothernIreland', 'Scotland']):\n",
    "        \"\"\"\n",
    "        Initializes the RAG_Bot object.\n",
    "        \n",
    "        Args:\n",
    "            collection_names (list, optional): A list of collection names. Defaults to ['Uk'].\n",
    "        \"\"\"\n",
    "        self.vector_db = WeaviateDB(collection_names=collection_names)\n",
    "        self.llm = Legal_LLM()\n",
    "\n",
    "    def add_text(self, collection_name, text, metadata=None):\n",
    "        \"\"\"\n",
    "        Adds text data to a specified collection in the Weaviate database.\n",
    "        \n",
    "        Args:\n",
    "            collection_name (str): The name of the collection in the database.\n",
    "            text (str): The text data to be added.\n",
    "            metadata (dict): Additional metadata associated with the text.\n",
    "        \"\"\"\n",
    "        self.vector_db.add_text_to_db(\n",
    "            collection_name=collection_name,\n",
    "            text=text,\n",
    "            metadata=metadata\n",
    "        )\n",
    "\n",
    "    def query(self, collection_name, query, k=1):\n",
    "        \"\"\"\n",
    "        Performs a RAG query on the specified collection using the Ollama LLM.\n",
    "        \n",
    "        Args:\n",
    "            collection_name (str): The name of the collection in the database.\n",
    "            query (str): The query to search for similar documents.\n",
    "            k (int, optional): The number of documents to return. Defaults to 1.\n",
    "        \n",
    "        Returns:\n",
    "            None\n",
    "        \n",
    "        Prints the similarity score and the content of the top k documents that match the query.\n",
    "        \"\"\"\n",
    "        current_db = self.vector_db.vector_stores[collection_name]\n",
    "        \n",
    "        # Create a retriever for the current database\n",
    "        retriever = current_db.as_retriever(\n",
    "            search_kwargs={\"k\": k})\n",
    "\n",
    "        # Function to format documents into a single context string\n",
    "        def format_docs(docs):\n",
    "            print(f'The retrieved documents are:')\n",
    "            for idx,doc in enumerate(docs):\n",
    "                print(f'{idx} - Content: {doc.page_content[:50]}... - MetaData: {doc.metadata}')\n",
    "            return \"\\n\\n\".join(doc.page_content for doc in docs)\n",
    "        \n",
    "        retrieved_docs = retriever.get_relevant_documents(query)\n",
    "        context = format_docs(retrieved_docs)\n",
    "        \n",
    "        response = self.llm.chat(context={context},\n",
    "                                query={query},\n",
    "                                max_new_tokens=250)\n",
    "        print('-')\n",
    "        print(response)\n",
    "\n",
    "    def get_list_of_all_docs(self, collection_name:Union[str, List[str]]=None) -> None:\n",
    "        if isinstance(collection_name, list):\n",
    "            for collection in collection_name:\n",
    "                self.get_list_of_all_docs(collection)\n",
    "\n",
    "        elif isinstance(collection_name, str):\n",
    "            print(f'The collection {collection_name} has the following documents:')\n",
    "            current_client = self.vector_db.clients[collection_name].collections.get(collection_name)\n",
    "            for item in current_client.iterator():\n",
    "                for idxKey,Key in enumerate(item.properties.keys()):\n",
    "                    print(f'{Key}:  {item.properties[Key]}')\n",
    "            print('\\n\\n')"
   ]
  },
  {
   "cell_type": "code",
   "execution_count": 36,
   "metadata": {},
   "outputs": [
    {
     "name": "stdout",
     "output_type": "stream",
     "text": [
      "Vector Stores Available: ['Uk']\n"
     ]
    }
   ],
   "source": [
    "app = RAG_Bot(\n",
    "    # ['Uk', 'Wales', 'NothernIreland', 'Scotland']\n",
    "    ['Uk']\n",
    ")"
   ]
  },
  {
   "cell_type": "code",
   "execution_count": 37,
   "metadata": {},
   "outputs": [
    {
     "name": "stdout",
     "output_type": "stream",
     "text": [
      "The collection Uk has the following documents:\n",
      "text: - Child labor is a grave social issue that deprives children of their childhood, \n",
      "    education, and the opportunity for a better future. It often involves hazardous work that \n",
      "    poses significant risks to their physical and mental health. Despite global efforts to eradicate it, \n",
      "    millions of children worldwide are still engaged in labor due to poverty, lack of access to education, \n",
      "    and inadequate enforcement of labor laws. Ending child labor requires a multifaceted approach, including \n",
      "    strengthening legal frameworks, improving educational opportunities, and addressing the root causes of poverty and inequality.\n",
      "title: - None\n",
      "legislation: - None\n",
      "legislationType: - None\n",
      "year: - None\n",
      "country: - Uk\n"
     ]
    }
   ],
   "source": [
    "app.get_list_of_all_docs(['Uk'])"
   ]
  },
  {
   "cell_type": "code",
   "execution_count": 17,
   "metadata": {},
   "outputs": [
    {
     "name": "stdout",
     "output_type": "stream",
     "text": [
      "Validating collection: Uk - Cluster Status:True\n",
      "Validating collection: Wales - Cluster Status:True\n",
      "Validating collection: NothernIreland - Cluster Status:True\n",
      "Validating collection: Scotland - Cluster Status:True\n"
     ]
    }
   ],
   "source": [
    "# app.vector_db.validate_collection()"
   ]
  },
  {
   "cell_type": "code",
   "execution_count": 18,
   "metadata": {},
   "outputs": [],
   "source": [
    "# app.vector_db.delete_collection('Wales')\n",
    "# app.vector_db.delete_collection('Uk')\n",
    "# app.vector_db.delete_collection('NothernIreland')\n",
    "# app.vector_db.delete_collection('Scotland')"
   ]
  },
  {
   "cell_type": "code",
   "execution_count": 9,
   "metadata": {},
   "outputs": [
    {
     "name": "stdout",
     "output_type": "stream",
     "text": [
      "In add_text_to_db adding to Collection: Uk - Text: Child labor is a grave social issue that deprives ... - MetaData: {'country': 'Uk'}\n",
      "File with data with ids: ['08cdc62e-87bf-4c14-8b6d-3b381c2badc7']\n"
     ]
    }
   ],
   "source": [
    "# Add a sample text\n",
    "app.add_text(\n",
    "    collection_name='Uk',\n",
    "    text='''Child labor is a grave social issue that deprives children of their childhood, \n",
    "    education, and the opportunity for a better future. It often involves hazardous work that \n",
    "    poses significant risks to their physical and mental health. Despite global efforts to eradicate it, \n",
    "    millions of children worldwide are still engaged in labor due to poverty, lack of access to education, \n",
    "    and inadequate enforcement of labor laws. Ending child labor requires a multifaceted approach, including \n",
    "    strengthening legal frameworks, improving educational opportunities, and addressing the root causes of poverty and inequality.''',\n",
    "    metadata={'country': 'Uk'}\n",
    ")"
   ]
  },
  {
   "cell_type": "code",
   "execution_count": 19,
   "metadata": {},
   "outputs": [
    {
     "name": "stdout",
     "output_type": "stream",
     "text": [
      "The collection Uk has the following documents:\n",
      "Object(uuid=_WeaviateUUIDInt('08cdc62e-87bf-4c14-8b6d-3b381c2badc7'), metadata=MetadataReturn(creation_time=None, last_update_time=None, distance=None, certainty=None, score=None, explain_score=None, is_consistent=None, rerank_score=None), properties={'text': 'Child labor is a grave social issue that deprives children of their childhood, \\n    education, and the opportunity for a better future. It often involves hazardous work that \\n    poses significant risks to their physical and mental health. Despite global efforts to eradicate it, \\n    millions of children worldwide are still engaged in labor due to poverty, lack of access to education, \\n    and inadequate enforcement of labor laws. Ending child labor requires a multifaceted approach, including \\n    strengthening legal frameworks, improving educational opportunities, and addressing the root causes of poverty and inequality.', 'legislationType': None, 'legislation': None, 'year': None, 'title': None, 'country': 'Uk'}, references=None, vector={}, collection='Uk')\n",
      "Object(uuid=_WeaviateUUIDInt('0eb52d58-532a-43c3-bb46-94a762fe6289'), metadata=MetadataReturn(creation_time=None, last_update_time=None, distance=None, certainty=None, score=None, explain_score=None, is_consistent=None, rerank_score=None), properties={'text': 'Draft Order laid before the Assembly under sections 195T(5), 303I(4), 377ZA(4) and 459(7B) of the Proceeds of Crime Act 2002 (c.29) for approval by resolution of the Assembly\\nDRAFT STATUTORY RULES OF NORTHERN IRELAND\\n2024 No. 0000\\nPROCEEDS OF CRIME\\nThe Proceeds of Crime Act 2002 (Search, Recovery of Cryptoassets and Investigations: Codes of Practice) Order (Northern Ireland) 2024\\nMade\\n00th June 2024\\nComing into operation-\\n17th July 2024\\nThe Department of Justice makes the following Order in exercise of the powers conferred by section 195T(5); section 303I(4) (as applied by section 303Z25(1)); and section 377ZA(4) of the Proceeds of Crime Act 2002(1) (“the Act”).\\nThe Department of Justice has—\\n(a)', 'title': 'The Proceeds of Crime Act 2002 (Search, Recovery of Cryptoassets and Investigations: Codes of Practice) Order (Northern Ireland) 2024\\nSuperseded by 2024 No. 139.txt', 'legislation': 'Northern Ireland Draft Statutory Rules', 'legislationType': 'May contain legislation that applies to UK', 'year': '2024', 'country': 'Uk'}, references=None, vector={}, collection='Uk')\n",
      "Object(uuid=_WeaviateUUIDInt('104cdd7d-a296-4fde-930b-a1a4cde6a48c'), metadata=MetadataReturn(creation_time=None, last_update_time=None, distance=None, certainty=None, score=None, explain_score=None, is_consistent=None, rerank_score=None), properties={'text': 'The Department of Justice has—\\n(a)\\nunder section 195T(7) of the Act, revised the code of practice prepared under section 195T(1) of the Act (in connection with powers under the Act relating to the search, seizure and detention of property) and, in accordance with section 195T(3) of the Act, published a draft of the revised code of practice, considered any representations made about the draft, modified the draft as the Department thought appropriate in light of any such representations and, under section 195T(4) of the Act, laid a draft of the revised code of practice before the Assembly;\\n(b)', 'legislationType': 'May contain legislation that applies to UK', 'legislation': 'Northern Ireland Draft Statutory Rules', 'year': '2024', 'title': 'The Proceeds of Crime Act 2002 (Search, Recovery of Cryptoassets and Investigations: Codes of Practice) Order (Northern Ireland) 2024\\nSuperseded by 2024 No. 139.txt', 'country': 'Uk'}, references=None, vector={}, collection='Uk')\n",
      "Object(uuid=_WeaviateUUIDInt('10a07328-b3e0-4f1b-9e00-ab2cd2a1e09a'), metadata=MetadataReturn(creation_time=None, last_update_time=None, distance=None, certainty=None, score=None, explain_score=None, is_consistent=None, rerank_score=None), properties={'text': '(c)\\nunder section 377ZA(9) of the Act, revised the code of practice prepared under section 377ZA(1) of the Act (in connection with powers under the Act relating to investigations) and, in accordance with section 377ZA(2) of the Act, published a draft of the revised code of practice, considered any representations made about the draft, modified the draft as the Department thought appropriate in light of any such representations and, under section 377ZA(3) of the Act, laid a draft of the revised code of practice before the Assembly.\\nIn accordance with section 459(7B)(2) of the Act, a draft of this order was laid before and approved by a resolution of the Assembly.\\nAccordingly, the Department of Justice, in exercise of the powers conferred by section 459(2) of the Act, makes the following Order.\\n(1)', 'title': 'The Proceeds of Crime Act 2002 (Search, Recovery of Cryptoassets and Investigations: Codes of Practice) Order (Northern Ireland) 2024\\nSuperseded by 2024 No. 139.txt', 'legislation': 'Northern Ireland Draft Statutory Rules', 'legislationType': 'May contain legislation that applies to UK', 'year': '2024', 'country': 'Uk'}, references=None, vector={}, collection='Uk')\n",
      "Object(uuid=_WeaviateUUIDInt('117672d2-1784-4f39-9dde-d46280d1280f'), metadata=MetadataReturn(creation_time=None, last_update_time=None, distance=None, certainty=None, score=None, explain_score=None, is_consistent=None, rerank_score=None), properties={'text': '(b)\\nunder section 303I(1) of the Act, as applied by section 303Z25(1) of the Act, prepared a code of practice (in connection with powers under the Act relating to the recovery of cryptoassets: search powers) and, in accordance with section 303I(2) of the Act, as so applied, published a draft of the code of practice, considered any representations made about the draft, modified the draft as the Department thought appropriate in light of any such representations and, under section 303I(3) of the Act, laid a draft code of practice before the Assembly; and\\n(c)', 'title': 'The Proceeds of Crime Act 2002 (Search, Recovery of Cryptoassets and Investigations: Codes of Practice) Order (Northern Ireland) 2024\\nSuperseded by 2024 No. 139.txt', 'legislation': 'Northern Ireland Draft Statutory Rules', 'legislationType': 'May contain legislation that applies to UK', 'year': '2024', 'country': 'Uk'}, references=None, vector={}, collection='Uk')\n",
      "Object(uuid=_WeaviateUUIDInt('125d1d64-8d98-4cad-b111-8c9e88f71353'), metadata=MetadataReturn(creation_time=None, last_update_time=None, distance=None, certainty=None, score=None, explain_score=None, is_consistent=None, rerank_score=None), properties={'text': 'The Department of Justice has—\\n(a)\\nunder section 195T(7) of the Act, revised the code of practice prepared under section 195T(1) of the Act (in connection with powers under the Act relating to the search, seizure and detention of property) and, in accordance with section 195T(3) of the Act, published a draft of the revised code of practice, considered any representations made about the draft, modified the draft as the Department thought appropriate in light of any such representations and, under section 195T(4) of the Act, laid a draft of the revised code of practice before the Assembly;\\n(b)', 'year': '2024', 'legislation': 'Northern Ireland Draft Statutory Rules', 'title': 'The Proceeds of Crime Act 2002 (Search, Recovery of Cryptoassets and Investigations: Codes of Practice) Order (Northern Ireland) 2024\\nSuperseded by 2024 No. 139.txt', 'legislationType': 'May contain legislation that applies to UK', 'country': 'Uk'}, references=None, vector={}, collection='Uk')\n",
      "Object(uuid=_WeaviateUUIDInt('1cf681ff-74b9-44c7-98f6-a09e5df54c42'), metadata=MetadataReturn(creation_time=None, last_update_time=None, distance=None, certainty=None, score=None, explain_score=None, is_consistent=None, rerank_score=None), properties={'text': '(1)\\n2002 c.29. Section 195T was inserted by Section 57(2) of the Police and Crime Act 2009 (c.26), as amended by Article 18(1) and (2)(m) and (n) of the Northern Ireland Act 1998 (Devolution of Policing and Justice Functions) Order 2012 (S.I. 2012/2595). Section 303I was inserted by section 15 of the Criminal Finances Act 2017 and section 303Z25 was inserted by paragraph 1 of Schedule 9 to the Economic Crime and Corporate Transparency Act 2023 (c.56). Section 377ZA was inserted by Article 12 of, and paragraphs 47 and 68 of Schedule 14 to, the Northern Ireland Act 1998 (Devolution of Policing and Justice Functions) Order 2010 (S.I. 2010/976).\\n(2)\\nSection 459(7B) was inserted by paragraph 74(1) and (4) of Schedule 14 to the Northern Ireland Act 1998 (Devolution of Policing and Justice Functions) Order 2010 (S.I. 2010/976).Citation and commencement', 'legislationType': 'May contain legislation that applies to UK', 'legislation': 'Northern Ireland Draft Statutory Rules', 'year': '2024', 'title': 'The Proceeds of Crime Act 2002 (Search, Recovery of Cryptoassets and Investigations: Codes of Practice) Order (Northern Ireland) 2024\\nSuperseded by 2024 No. 139.txt', 'country': 'Uk'}, references=None, vector={}, collection='Uk')\n",
      "Object(uuid=_WeaviateUUIDInt('2169cccc-b63e-4c5c-a720-58cc03954ee5'), metadata=MetadataReturn(creation_time=None, last_update_time=None, distance=None, certainty=None, score=None, explain_score=None, is_consistent=None, rerank_score=None), properties={'text': '(c)\\nsubsection (4A) were omitted.”\\n(4)\\nIn section 80D (special cases)—\\n(a)\\nafter subsection (1) insert—\\n“(1A)\\nRegulations under section 80A or 80B may—\\n(a)\\nmake provision specifying circumstances in which a bereaved employee may work for the employer during a period of leave under that section without bringing the particular period of leave, or the employee’s entitlement to leave under that section, to an end;\\n(b)\\nmake provision about redundancy of a bereaved employee after a period of leave under that section.”;\\n(b)\\nin subsection (2), after “subsection (1)” insert “or (1A)(b)”;\\n(c)\\nafter subsection (2) insert—\\n“(3)\\nIn subsection (1A), “bereaved employee” means an employee who—\\n(a)\\ntakes leave under section 80A in a case where the child’s mother dies, or\\n(b)\\ntakes leave under section 80B in a case where a person with whom the child is placed or expected to be placed for adoption dies.”\\nCommencement Information\\nI1\\nS. 1 not in force at Royal Assent, see s. 2(2)Prospective\\n2', 'title': 'Paternity Leave (Bereavement) Act 2024.txt', 'legislation': 'UK Public General Acts', 'legislationType': 'Exclusively or primarily applies to UK', 'year': '2024', 'country': 'Uk'}, references=None, vector={}, collection='Uk')\n",
      "Object(uuid=_WeaviateUUIDInt('4abe7eeb-2f68-411d-912a-6f2b266c892c'), metadata=MetadataReturn(creation_time=None, last_update_time=None, distance=None, certainty=None, score=None, explain_score=None, is_consistent=None, rerank_score=None), properties={'text': '4.  The following Orders are revoked—\\n(a)\\nThe Proceeds of Crime Act 2002 (Search, Seizure and Detention of Property: Code of Practice) Order (Northern Ireland) 2021(1); and\\n(b)\\nThe Proceeds of Crime Act 2002 (Investigations: Code of Practice) Order (Northern Ireland) 2021(2).\\n(1)\\nS.R. 2021/168.\\n(2)\\nS.R. 2021/170.Sealed with the Official Seal of the Department of Justice on 00th June 2024\\nName\\nMinister of JusticeEXPLANATORY NOTE\\n(This note is not part of the Order)\\nThis Order brings into operation two revised codes of practice and one new code of practice issued by the Department of Justice under the Proceeds of Crime Act 2002 (c.29) (“the Act”).\\nThey are necessitated by certain amendments made to the Act by the Economic Crime and Corporate Transparency Act 2023 (c.56) (“the 2023 Act”). The amendments made by the 2023 Act concern cryptoassets.\\nArticles 2 and 3 bring into operation, on 17th July 2024:', 'legislationType': 'May contain legislation that applies to UK', 'legislation': 'Northern Ireland Draft Statutory Rules', 'year': '2024', 'title': 'The Proceeds of Crime Act 2002 (Search, Recovery of Cryptoassets and Investigations: Codes of Practice) Order (Northern Ireland) 2024\\nSuperseded by 2024 No. 139.txt', 'country': 'Uk'}, references=None, vector={}, collection='Uk')\n",
      "Object(uuid=_WeaviateUUIDInt('4bb69a60-311e-4c13-8d33-bcdf3e840899'), metadata=MetadataReturn(creation_time=None, last_update_time=None, distance=None, certainty=None, score=None, explain_score=None, is_consistent=None, rerank_score=None), properties={'text': '(a)\\nsubsection (1)(a) were omitted;\\n(b)\\nafter subsection (1) there were inserted—\\n“(1A)\\nBut in a case where both the child and the mother die, the regulations may provide that an employee who satisfies those conditions is entitled to leave under this section despite the fact that the leave cannot be taken for that purpose.”;\\n(c)\\nsubsection (4A) were omitted.”\\n(3)\\nIn section 80B (entitlement to paternity leave: adoption), after subsection (6B) insert—\\n“(6C)\\nIn relation to cases where a person with whom a child is placed or expected to be placed for adoption dies, this section has effect as if—\\n(a)\\nsubsection (1)(a) were omitted;\\n(b)\\nafter subsection (1) there were inserted—\\n“(1A)\\nBut in a case where that person dies and the child—\\n(a)\\ndies, or\\n(b)\\nis, having been placed for adoption, returned,\\nthe regulations may provide that an employee who satisfies those conditions is entitled to leave under this section despite the fact that the leave cannot be taken for that purpose.”;\\n(c)', 'title': 'Paternity Leave (Bereavement) Act 2024.txt', 'legislation': 'UK Public General Acts', 'legislationType': 'Exclusively or primarily applies to UK', 'year': '2024', 'country': 'Uk'}, references=None, vector={}, collection='Uk')\n",
      "Object(uuid=_WeaviateUUIDInt('5e82911e-3228-44b8-a05f-533a88306cef'), metadata=MetadataReturn(creation_time=None, last_update_time=None, distance=None, certainty=None, score=None, explain_score=None, is_consistent=None, rerank_score=None), properties={'text': '4.  The following Orders are revoked—\\n(a)\\nThe Proceeds of Crime Act 2002 (Search, Seizure and Detention of Property: Code of Practice) Order (Northern Ireland) 2021(1); and\\n(b)\\nThe Proceeds of Crime Act 2002 (Investigations: Code of Practice) Order (Northern Ireland) 2021(2).\\n(1)\\nS.R. 2021/168.\\n(2)\\nS.R. 2021/170.Sealed with the Official Seal of the Department of Justice on 00th June 2024\\nName\\nMinister of JusticeEXPLANATORY NOTE\\n(This note is not part of the Order)\\nThis Order brings into operation two revised codes of practice and one new code of practice issued by the Department of Justice under the Proceeds of Crime Act 2002 (c.29) (“the Act”).\\nThey are necessitated by certain amendments made to the Act by the Economic Crime and Corporate Transparency Act 2023 (c.56) (“the 2023 Act”). The amendments made by the 2023 Act concern cryptoassets.\\nArticles 2 and 3 bring into operation, on 17th July 2024:', 'title': 'The Proceeds of Crime Act 2002 (Search, Recovery of Cryptoassets and Investigations: Codes of Practice) Order (Northern Ireland) 2024\\nSuperseded by 2024 No. 139.txt', 'legislation': 'Northern Ireland Draft Statutory Rules', 'legislationType': 'May contain legislation that applies to UK', 'year': '2024', 'country': 'Uk'}, references=None, vector={}, collection='Uk')\n",
      "Object(uuid=_WeaviateUUIDInt('62ec14d1-baf4-4da6-a84a-ad99c12eae38'), metadata=MetadataReturn(creation_time=None, last_update_time=None, distance=None, certainty=None, score=None, explain_score=None, is_consistent=None, rerank_score=None), properties={'text': 'Commencement Information\\nI1\\nS. 1 not in force at Royal Assent, see s. 2(2)Prospective\\n2\\nExtent, commencement and short title\\n(1)\\nThis Act extends to England and Wales and Scotland.\\n(2)\\nThis Act comes into force on such day as the Secretary of State may by regulations appoint.\\n(3)\\nRegulations under subsection (2) are to be made by statutory instrument.\\n(4)\\nThis Act may be cited as the Paternity Leave (Bereavement) Act 2024.\\nCommencement Information\\nI1\\nS. 2 not in force at Royal Assent, see s. 2(2)', 'legislationType': 'Exclusively or primarily applies to UK', 'legislation': 'UK Public General Acts', 'year': '2024', 'title': 'Paternity Leave (Bereavement) Act 2024.txt', 'country': 'Uk'}, references=None, vector={}, collection='Uk')\n",
      "Object(uuid=_WeaviateUUIDInt('63a14626-32ad-4381-8b1c-52c4125224a1'), metadata=MetadataReturn(creation_time=None, last_update_time=None, distance=None, certainty=None, score=None, explain_score=None, is_consistent=None, rerank_score=None), properties={'text': '(1)\\n2002 c.29. Section 195T was inserted by Section 57(2) of the Police and Crime Act 2009 (c.26), as amended by Article 18(1) and (2)(m) and (n) of the Northern Ireland Act 1998 (Devolution of Policing and Justice Functions) Order 2012 (S.I. 2012/2595). Section 303I was inserted by section 15 of the Criminal Finances Act 2017 and section 303Z25 was inserted by paragraph 1 of Schedule 9 to the Economic Crime and Corporate Transparency Act 2023 (c.56). Section 377ZA was inserted by Article 12 of, and paragraphs 47 and 68 of Schedule 14 to, the Northern Ireland Act 1998 (Devolution of Policing and Justice Functions) Order 2010 (S.I. 2010/976).\\n(2)\\nSection 459(7B) was inserted by paragraph 74(1) and (4) of Schedule 14 to the Northern Ireland Act 1998 (Devolution of Policing and Justice Functions) Order 2010 (S.I. 2010/976).Citation and commencement', 'title': 'The Proceeds of Crime Act 2002 (Search, Recovery of Cryptoassets and Investigations: Codes of Practice) Order (Northern Ireland) 2024\\nSuperseded by 2024 No. 139.txt', 'legislation': 'Northern Ireland Draft Statutory Rules', 'legislationType': 'May contain legislation that applies to UK', 'year': '2024', 'country': 'Uk'}, references=None, vector={}, collection='Uk')\n",
      "Object(uuid=_WeaviateUUIDInt('70ece86f-8818-4233-be35-7375a18878e2'), metadata=MetadataReturn(creation_time=None, last_update_time=None, distance=None, certainty=None, score=None, explain_score=None, is_consistent=None, rerank_score=None), properties={'text': 'The Department of Justice has—\\n(a)\\nunder section 195T(7) of the Act, revised the code of practice prepared under section 195T(1) of the Act (in connection with powers under the Act relating to the search, seizure and detention of property) and, in accordance with section 195T(3) of the Act, published a draft of the revised code of practice, considered any representations made about the draft, modified the draft as the Department thought appropriate in light of any such representations and, under section 195T(4) of the Act, laid a draft of the revised code of practice before the Assembly;\\n(b)', 'title': 'The Proceeds of Crime Act 2002 (Search, Recovery of Cryptoassets and Investigations: Codes of Practice) Order (Northern Ireland) 2024\\nSuperseded by 2024 No. 139.txt', 'legislation': 'Northern Ireland Draft Statutory Rules', 'legislationType': 'May contain legislation that applies to UK', 'year': '2024', 'country': 'Uk'}, references=None, vector={}, collection='Uk')\n",
      "Object(uuid=_WeaviateUUIDInt('739a785d-e7d9-4520-ab94-0979ddb43837'), metadata=MetadataReturn(creation_time=None, last_update_time=None, distance=None, certainty=None, score=None, explain_score=None, is_consistent=None, rerank_score=None), properties={'text': '(c)\\nunder section 377ZA(9) of the Act, revised the code of practice prepared under section 377ZA(1) of the Act (in connection with powers under the Act relating to investigations) and, in accordance with section 377ZA(2) of the Act, published a draft of the revised code of practice, considered any representations made about the draft, modified the draft as the Department thought appropriate in light of any such representations and, under section 377ZA(3) of the Act, laid a draft of the revised code of practice before the Assembly.\\nIn accordance with section 459(7B)(2) of the Act, a draft of this order was laid before and approved by a resolution of the Assembly.\\nAccordingly, the Department of Justice, in exercise of the powers conferred by section 459(2) of the Act, makes the following Order.\\n(1)', 'legislationType': 'May contain legislation that applies to UK', 'legislation': 'Northern Ireland Draft Statutory Rules', 'year': '2024', 'title': 'The Proceeds of Crime Act 2002 (Search, Recovery of Cryptoassets and Investigations: Codes of Practice) Order (Northern Ireland) 2024\\nSuperseded by 2024 No. 139.txt', 'country': 'Uk'}, references=None, vector={}, collection='Uk')\n",
      "Object(uuid=_WeaviateUUIDInt('7990a32d-5711-42fb-82e7-c20616de01cb'), metadata=MetadataReturn(creation_time=None, last_update_time=None, distance=None, certainty=None, score=None, explain_score=None, is_consistent=None, rerank_score=None), properties={'text': '4.  The following Orders are revoked—\\n(a)\\nThe Proceeds of Crime Act 2002 (Search, Seizure and Detention of Property: Code of Practice) Order (Northern Ireland) 2021(1); and\\n(b)\\nThe Proceeds of Crime Act 2002 (Investigations: Code of Practice) Order (Northern Ireland) 2021(2).\\n(1)\\nS.R. 2021/168.\\n(2)\\nS.R. 2021/170.Sealed with the Official Seal of the Department of Justice on 00th June 2024\\nName\\nMinister of JusticeEXPLANATORY NOTE\\n(This note is not part of the Order)\\nThis Order brings into operation two revised codes of practice and one new code of practice issued by the Department of Justice under the Proceeds of Crime Act 2002 (c.29) (“the Act”).\\nThey are necessitated by certain amendments made to the Act by the Economic Crime and Corporate Transparency Act 2023 (c.56) (“the 2023 Act”). The amendments made by the 2023 Act concern cryptoassets.\\nArticles 2 and 3 bring into operation, on 17th July 2024:', 'title': 'The Proceeds of Crime Act 2002 (Search, Recovery of Cryptoassets and Investigations: Codes of Practice) Order (Northern Ireland) 2024\\nSuperseded by 2024 No. 139.txt', 'legislation': 'Northern Ireland Draft Statutory Rules', 'legislationType': 'May contain legislation that applies to UK', 'year': '2024', 'country': 'Uk'}, references=None, vector={}, collection='Uk')\n",
      "Object(uuid=_WeaviateUUIDInt('8dcaffa2-b537-4966-b3ea-547046f3c984'), metadata=MetadataReturn(creation_time=None, last_update_time=None, distance=None, certainty=None, score=None, explain_score=None, is_consistent=None, rerank_score=None), properties={'text': 'Draft Order laid before the Assembly under sections 195T(5), 303I(4), 377ZA(4) and 459(7B) of the Proceeds of Crime Act 2002 (c.29) for approval by resolution of the Assembly\\nDRAFT STATUTORY RULES OF NORTHERN IRELAND\\n2024 No. 0000\\nPROCEEDS OF CRIME\\nThe Proceeds of Crime Act 2002 (Search, Recovery of Cryptoassets and Investigations: Codes of Practice) Order (Northern Ireland) 2024\\nMade\\n00th June 2024\\nComing into operation-\\n17th July 2024\\nThe Department of Justice makes the following Order in exercise of the powers conferred by section 195T(5); section 303I(4) (as applied by section 303Z25(1)); and section 377ZA(4) of the Proceeds of Crime Act 2002(1) (“the Act”).\\nThe Department of Justice has—\\n(a)', 'title': 'The Proceeds of Crime Act 2002 (Search, Recovery of Cryptoassets and Investigations: Codes of Practice) Order (Northern Ireland) 2024\\nSuperseded by 2024 No. 139.txt', 'legislation': 'Northern Ireland Draft Statutory Rules', 'legislationType': 'May contain legislation that applies to UK', 'year': '2024', 'country': 'Uk'}, references=None, vector={}, collection='Uk')\n",
      "Object(uuid=_WeaviateUUIDInt('93e6ff80-8ecb-4628-892e-eb78d084dedf'), metadata=MetadataReturn(creation_time=None, last_update_time=None, distance=None, certainty=None, score=None, explain_score=None, is_consistent=None, rerank_score=None), properties={'text': '1.  This Order may be cited as the Proceeds of Crime Act 2002 (Search, Recovery of Cryptoassets and Investigations: Codes of Practice) Order (Northern Ireland) 2024 and it comes into operation on 17th July 2024.Revised codes of practice\\n2.  The revised codes of practice with the following titles, each laid in draft before the Assembly on 17th May 2024, come into operation on 17th July 2024—\\n(a)\\n“Code of Practice issued under section 195T of the Proceeds of Crime Act 2002: Search, Seizure and Detention of Property (Northern Ireland)”; and\\n(b)\\n“Code of Practice issued under section 377ZA of the Proceeds of Crime Act 2002: Investigations (Northern Ireland)”.New code of practice\\n3.  The new code of practice entitled “Code of Practice issued under section 303Z25 of the Proceeds of Crime Act 2002: Recovery of Cryptoassets and Related Items — Search Powers (Northern Ireland)”, and laid in draft before the Assembly on 17th May 2024, comes into operation on 17th July 2024.Revocations', 'year': '2024', 'legislation': 'Northern Ireland Draft Statutory Rules', 'title': 'The Proceeds of Crime Act 2002 (Search, Recovery of Cryptoassets and Investigations: Codes of Practice) Order (Northern Ireland) 2024\\nSuperseded by 2024 No. 139.txt', 'legislationType': 'May contain legislation that applies to UK', 'country': 'Uk'}, references=None, vector={}, collection='Uk')\n",
      "Object(uuid=_WeaviateUUIDInt('b3ffc39b-73e6-40e8-aa3f-12835c01dd76'), metadata=MetadataReturn(creation_time=None, last_update_time=None, distance=None, certainty=None, score=None, explain_score=None, is_consistent=None, rerank_score=None), properties={'text': 'Articles 2 and 3 bring into operation, on 17th July 2024:\\na revised code of practice relating to the powers of certain officers under Part 2 of the Act to search for, seize and detain property, including cryptoassets and related items;\\na revised code of practice relating to the investigation powers of certain officers under Chapter 2 of Part 8 of the Act, including cryptoassets and related items; and\\na new code of practice relating to the powers of certain officers under Part 5 of the Act to search for, seize and detain cryptoassets and related items.\\nArticle 4 revokes two previous Orders which brought into force two codes of practice in 2021.\\nA full impact assessment has not been produced for this order as there is no or minimal impact on the business, charities or voluntary bodies. A copy of the Explanatory Memorandum is published alongside the Order on www.legislation.gov.uk.', 'title': 'The Proceeds of Crime Act 2002 (Search, Recovery of Cryptoassets and Investigations: Codes of Practice) Order (Northern Ireland) 2024\\nSuperseded by 2024 No. 139.txt', 'legislation': 'Northern Ireland Draft Statutory Rules', 'legislationType': 'May contain legislation that applies to UK', 'year': '2024', 'country': 'Uk'}, references=None, vector={}, collection='Uk')\n",
      "Object(uuid=_WeaviateUUIDInt('c1ab7082-1930-4c73-a9cb-87bc2720a533'), metadata=MetadataReturn(creation_time=None, last_update_time=None, distance=None, certainty=None, score=None, explain_score=None, is_consistent=None, rerank_score=None), properties={'text': '(b)\\nunder section 303I(1) of the Act, as applied by section 303Z25(1) of the Act, prepared a code of practice (in connection with powers under the Act relating to the recovery of cryptoassets: search powers) and, in accordance with section 303I(2) of the Act, as so applied, published a draft of the code of practice, considered any representations made about the draft, modified the draft as the Department thought appropriate in light of any such representations and, under section 303I(3) of the Act, laid a draft code of practice before the Assembly; and\\n(c)', 'legislationType': 'May contain legislation that applies to UK', 'legislation': 'Northern Ireland Draft Statutory Rules', 'year': '2024', 'title': 'The Proceeds of Crime Act 2002 (Search, Recovery of Cryptoassets and Investigations: Codes of Practice) Order (Northern Ireland) 2024\\nSuperseded by 2024 No. 139.txt', 'country': 'Uk'}, references=None, vector={}, collection='Uk')\n",
      "Object(uuid=_WeaviateUUIDInt('ca41f2f1-bee5-4d38-b762-b047cb803f60'), metadata=MetadataReturn(creation_time=None, last_update_time=None, distance=None, certainty=None, score=None, explain_score=None, is_consistent=None, rerank_score=None), properties={'text': 'Articles 2 and 3 bring into operation, on 17th July 2024:\\na revised code of practice relating to the powers of certain officers under Part 2 of the Act to search for, seize and detain property, including cryptoassets and related items;\\na revised code of practice relating to the investigation powers of certain officers under Chapter 2 of Part 8 of the Act, including cryptoassets and related items; and\\na new code of practice relating to the powers of certain officers under Part 5 of the Act to search for, seize and detain cryptoassets and related items.\\nArticle 4 revokes two previous Orders which brought into force two codes of practice in 2021.\\nA full impact assessment has not been produced for this order as there is no or minimal impact on the business, charities or voluntary bodies. A copy of the Explanatory Memorandum is published alongside the Order on www.legislation.gov.uk.', 'year': '2024', 'legislation': 'Northern Ireland Draft Statutory Rules', 'legislationType': 'May contain legislation that applies to UK', 'title': 'The Proceeds of Crime Act 2002 (Search, Recovery of Cryptoassets and Investigations: Codes of Practice) Order (Northern Ireland) 2024\\nSuperseded by 2024 No. 139.txt', 'country': 'Uk'}, references=None, vector={}, collection='Uk')\n",
      "Object(uuid=_WeaviateUUIDInt('ce9e45cb-f5b3-448a-9ce5-b6f00128694c'), metadata=MetadataReturn(creation_time=None, last_update_time=None, distance=None, certainty=None, score=None, explain_score=None, is_consistent=None, rerank_score=None), properties={'text': '1.  This Order may be cited as the Proceeds of Crime Act 2002 (Search, Recovery of Cryptoassets and Investigations: Codes of Practice) Order (Northern Ireland) 2024 and it comes into operation on 17th July 2024.Revised codes of practice\\n2.  The revised codes of practice with the following titles, each laid in draft before the Assembly on 17th May 2024, come into operation on 17th July 2024—\\n(a)\\n“Code of Practice issued under section 195T of the Proceeds of Crime Act 2002: Search, Seizure and Detention of Property (Northern Ireland)”; and\\n(b)\\n“Code of Practice issued under section 377ZA of the Proceeds of Crime Act 2002: Investigations (Northern Ireland)”.New code of practice\\n3.  The new code of practice entitled “Code of Practice issued under section 303Z25 of the Proceeds of Crime Act 2002: Recovery of Cryptoassets and Related Items — Search Powers (Northern Ireland)”, and laid in draft before the Assembly on 17th May 2024, comes into operation on 17th July 2024.Revocations', 'title': 'The Proceeds of Crime Act 2002 (Search, Recovery of Cryptoassets and Investigations: Codes of Practice) Order (Northern Ireland) 2024\\nSuperseded by 2024 No. 139.txt', 'legislation': 'Northern Ireland Draft Statutory Rules', 'legislationType': 'May contain legislation that applies to UK', 'year': '2024', 'country': 'Uk'}, references=None, vector={}, collection='Uk')\n",
      "Object(uuid=_WeaviateUUIDInt('d2f3770b-1c19-4152-aa8a-b676e5909794'), metadata=MetadataReturn(creation_time=None, last_update_time=None, distance=None, certainty=None, score=None, explain_score=None, is_consistent=None, rerank_score=None), properties={'text': '(c)\\nunder section 377ZA(9) of the Act, revised the code of practice prepared under section 377ZA(1) of the Act (in connection with powers under the Act relating to investigations) and, in accordance with section 377ZA(2) of the Act, published a draft of the revised code of practice, considered any representations made about the draft, modified the draft as the Department thought appropriate in light of any such representations and, under section 377ZA(3) of the Act, laid a draft of the revised code of practice before the Assembly.\\nIn accordance with section 459(7B)(2) of the Act, a draft of this order was laid before and approved by a resolution of the Assembly.\\nAccordingly, the Department of Justice, in exercise of the powers conferred by section 459(2) of the Act, makes the following Order.\\n(1)', 'title': 'The Proceeds of Crime Act 2002 (Search, Recovery of Cryptoassets and Investigations: Codes of Practice) Order (Northern Ireland) 2024\\nSuperseded by 2024 No. 139.txt', 'legislation': 'Northern Ireland Draft Statutory Rules', 'legislationType': 'May contain legislation that applies to UK', 'year': '2024', 'country': 'Uk'}, references=None, vector={}, collection='Uk')\n",
      "Object(uuid=_WeaviateUUIDInt('d7b9b29b-3fe1-46ce-b9e9-9be4f221848f'), metadata=MetadataReturn(creation_time=None, last_update_time=None, distance=None, certainty=None, score=None, explain_score=None, is_consistent=None, rerank_score=None), properties={'text': 'Articles 2 and 3 bring into operation, on 17th July 2024:\\na revised code of practice relating to the powers of certain officers under Part 2 of the Act to search for, seize and detain property, including cryptoassets and related items;\\na revised code of practice relating to the investigation powers of certain officers under Chapter 2 of Part 8 of the Act, including cryptoassets and related items; and\\na new code of practice relating to the powers of certain officers under Part 5 of the Act to search for, seize and detain cryptoassets and related items.\\nArticle 4 revokes two previous Orders which brought into force two codes of practice in 2021.\\nA full impact assessment has not been produced for this order as there is no or minimal impact on the business, charities or voluntary bodies. A copy of the Explanatory Memorandum is published alongside the Order on www.legislation.gov.uk.', 'title': 'The Proceeds of Crime Act 2002 (Search, Recovery of Cryptoassets and Investigations: Codes of Practice) Order (Northern Ireland) 2024\\nSuperseded by 2024 No. 139.txt', 'legislation': 'Northern Ireland Draft Statutory Rules', 'legislationType': 'May contain legislation that applies to UK', 'year': '2024', 'country': 'Uk'}, references=None, vector={}, collection='Uk')\n",
      "Object(uuid=_WeaviateUUIDInt('d90fe4e4-2f32-44fa-8b9c-e23aa9e8de67'), metadata=MetadataReturn(creation_time=None, last_update_time=None, distance=None, certainty=None, score=None, explain_score=None, is_consistent=None, rerank_score=None), properties={'text': '(b)\\nunder section 303I(1) of the Act, as applied by section 303Z25(1) of the Act, prepared a code of practice (in connection with powers under the Act relating to the recovery of cryptoassets: search powers) and, in accordance with section 303I(2) of the Act, as so applied, published a draft of the code of practice, considered any representations made about the draft, modified the draft as the Department thought appropriate in light of any such representations and, under section 303I(3) of the Act, laid a draft code of practice before the Assembly; and\\n(c)', 'year': '2024', 'legislation': 'Northern Ireland Draft Statutory Rules', 'title': 'The Proceeds of Crime Act 2002 (Search, Recovery of Cryptoassets and Investigations: Codes of Practice) Order (Northern Ireland) 2024\\nSuperseded by 2024 No. 139.txt', 'legislationType': 'May contain legislation that applies to UK', 'country': 'Uk'}, references=None, vector={}, collection='Uk')\n",
      "Object(uuid=_WeaviateUUIDInt('e1231329-37d3-4118-b227-20b7e16b8470'), metadata=MetadataReturn(creation_time=None, last_update_time=None, distance=None, certainty=None, score=None, explain_score=None, is_consistent=None, rerank_score=None), properties={'text': 'Draft Order laid before the Assembly under sections 195T(5), 303I(4), 377ZA(4) and 459(7B) of the Proceeds of Crime Act 2002 (c.29) for approval by resolution of the Assembly\\nDRAFT STATUTORY RULES OF NORTHERN IRELAND\\n2024 No. 0000\\nPROCEEDS OF CRIME\\nThe Proceeds of Crime Act 2002 (Search, Recovery of Cryptoassets and Investigations: Codes of Practice) Order (Northern Ireland) 2024\\nMade\\n00th June 2024\\nComing into operation-\\n17th July 2024\\nThe Department of Justice makes the following Order in exercise of the powers conferred by section 195T(5); section 303I(4) (as applied by section 303Z25(1)); and section 377ZA(4) of the Proceeds of Crime Act 2002(1) (“the Act”).\\nThe Department of Justice has—\\n(a)', 'title': 'The Proceeds of Crime Act 2002 (Search, Recovery of Cryptoassets and Investigations: Codes of Practice) Order (Northern Ireland) 2024\\nSuperseded by 2024 No. 139.txt', 'legislation': 'Northern Ireland Draft Statutory Rules', 'legislationType': 'May contain legislation that applies to UK', 'year': '2024', 'country': 'Uk'}, references=None, vector={}, collection='Uk')\n",
      "Object(uuid=_WeaviateUUIDInt('f0e77096-8d6b-4758-b1ad-0fae3347c60a'), metadata=MetadataReturn(creation_time=None, last_update_time=None, distance=None, certainty=None, score=None, explain_score=None, is_consistent=None, rerank_score=None), properties={'text': '(1)\\n2002 c.29. Section 195T was inserted by Section 57(2) of the Police and Crime Act 2009 (c.26), as amended by Article 18(1) and (2)(m) and (n) of the Northern Ireland Act 1998 (Devolution of Policing and Justice Functions) Order 2012 (S.I. 2012/2595). Section 303I was inserted by section 15 of the Criminal Finances Act 2017 and section 303Z25 was inserted by paragraph 1 of Schedule 9 to the Economic Crime and Corporate Transparency Act 2023 (c.56). Section 377ZA was inserted by Article 12 of, and paragraphs 47 and 68 of Schedule 14 to, the Northern Ireland Act 1998 (Devolution of Policing and Justice Functions) Order 2010 (S.I. 2010/976).\\n(2)\\nSection 459(7B) was inserted by paragraph 74(1) and (4) of Schedule 14 to the Northern Ireland Act 1998 (Devolution of Policing and Justice Functions) Order 2010 (S.I. 2010/976).Citation and commencement', 'title': 'The Proceeds of Crime Act 2002 (Search, Recovery of Cryptoassets and Investigations: Codes of Practice) Order (Northern Ireland) 2024\\nSuperseded by 2024 No. 139.txt', 'legislation': 'Northern Ireland Draft Statutory Rules', 'legislationType': 'May contain legislation that applies to UK', 'year': '2024', 'country': 'Uk'}, references=None, vector={}, collection='Uk')\n",
      "Object(uuid=_WeaviateUUIDInt('f468cfc2-8246-46fa-966d-f2c1017a6180'), metadata=MetadataReturn(creation_time=None, last_update_time=None, distance=None, certainty=None, score=None, explain_score=None, is_consistent=None, rerank_score=None), properties={'text': 'Prospective\\nPaternity Leave (Bereavement) Act 2024\\n2024 CHAPTER 17\\nAn Act to make provision about paternity leave in cases where a mother, or a person with whom a child is placed or expected to be placed for adoption, dies.\\n[24th May 2024]\\nBe it enacted by the King’s most Excellent Majesty, by and with the advice and consent of the Lords Spiritual and Temporal, and Commons, in this present Parliament assembled, and by the authority of the same, as follows:—Prospective\\n1\\nPaternity leave: special provision in cases of bereavement\\n(1)\\nThe Employment Rights Act 1996 is amended as follows.\\n(2)\\nIn section 80A (entitlement to paternity leave: birth), after subsection (6) insert—\\n“(6A)\\nIn relation to cases where a child’s mother dies, this section has effect as if—\\n(a)\\nsubsection (1)(a) were omitted;\\n(b)\\nafter subsection (1) there were inserted—\\n“(1A)', 'title': 'Paternity Leave (Bereavement) Act 2024.txt', 'legislation': 'UK Public General Acts', 'legislationType': 'Exclusively or primarily applies to UK', 'year': '2024', 'country': 'Uk'}, references=None, vector={}, collection='Uk')\n",
      "Object(uuid=_WeaviateUUIDInt('fc1b8963-dee8-41de-b021-944470758a2f'), metadata=MetadataReturn(creation_time=None, last_update_time=None, distance=None, certainty=None, score=None, explain_score=None, is_consistent=None, rerank_score=None), properties={'text': '1.  This Order may be cited as the Proceeds of Crime Act 2002 (Search, Recovery of Cryptoassets and Investigations: Codes of Practice) Order (Northern Ireland) 2024 and it comes into operation on 17th July 2024.Revised codes of practice\\n2.  The revised codes of practice with the following titles, each laid in draft before the Assembly on 17th May 2024, come into operation on 17th July 2024—\\n(a)\\n“Code of Practice issued under section 195T of the Proceeds of Crime Act 2002: Search, Seizure and Detention of Property (Northern Ireland)”; and\\n(b)\\n“Code of Practice issued under section 377ZA of the Proceeds of Crime Act 2002: Investigations (Northern Ireland)”.New code of practice\\n3.  The new code of practice entitled “Code of Practice issued under section 303Z25 of the Proceeds of Crime Act 2002: Recovery of Cryptoassets and Related Items — Search Powers (Northern Ireland)”, and laid in draft before the Assembly on 17th May 2024, comes into operation on 17th July 2024.Revocations', 'title': 'The Proceeds of Crime Act 2002 (Search, Recovery of Cryptoassets and Investigations: Codes of Practice) Order (Northern Ireland) 2024\\nSuperseded by 2024 No. 139.txt', 'legislation': 'Northern Ireland Draft Statutory Rules', 'legislationType': 'May contain legislation that applies to UK', 'year': '2024', 'country': 'Uk'}, references=None, vector={}, collection='Uk')\n"
     ]
    }
   ],
   "source": [
    "app.get_list_of_all_docs(['Uk'])"
   ]
  },
  {
   "cell_type": "code",
   "execution_count": null,
   "metadata": {},
   "outputs": [],
   "source": [
    "# Perform a RAG query with a sample query\n",
    "app.query(\n",
    "    collection_name='Uk',\n",
    "    query=\"What are the primary factors contributing to the persistence of child labor globally?\",\n",
    ")"
   ]
  },
  {
   "cell_type": "code",
   "execution_count": null,
   "metadata": {},
   "outputs": [],
   "source": [
    "# Perform a RAG query with a sample query\n",
    "app.query(\n",
    "    collection_name='Uk',\n",
    "    query=\"How can improving educational opportunities help in the eradication of child labor?\",\n",
    ")"
   ]
  },
  {
   "cell_type": "code",
   "execution_count": null,
   "metadata": {},
   "outputs": [],
   "source": [
    "# Perform a RAG query with a sample query\n",
    "app.query(\n",
    "    collection_name='Uk',\n",
    "    query=\"What measures can governments and organizations take to strengthen legal frameworks against child labor?\",\n",
    ")"
   ]
  }
 ],
 "metadata": {
  "kernelspec": {
   "display_name": "env",
   "language": "python",
   "name": "python3"
  },
  "language_info": {
   "codemirror_mode": {
    "name": "ipython",
    "version": 3
   },
   "file_extension": ".py",
   "mimetype": "text/x-python",
   "name": "python",
   "nbconvert_exporter": "python",
   "pygments_lexer": "ipython3",
   "version": "3.11.9"
  }
 },
 "nbformat": 4,
 "nbformat_minor": 2
}
