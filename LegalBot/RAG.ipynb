{
 "cells": [
  {
   "cell_type": "code",
   "execution_count": 6,
   "metadata": {},
   "outputs": [],
   "source": [
    "from langchain_community.llms import Ollama\n",
    "from VectorDataBase import WeaviateDB\n",
    "from langchain.prompts import ChatPromptTemplate\n",
    "from langchain_core.output_parsers import StrOutputParser\n",
    "from langchain_core.runnables import RunnablePassthrough"
   ]
  },
  {
   "cell_type": "code",
   "execution_count": 7,
   "metadata": {},
   "outputs": [],
   "source": [
    "class RAGDemo:\n",
    "    def __init__(self, collection_names=['Uk', 'Whales']):\n",
    "        \"\"\"\n",
    "        Initializes the RAGDemo object.\n",
    "        \n",
    "        Args:\n",
    "            collection_names (list, optional): A list of collection names. Defaults to ['Uk'].\n",
    "        \"\"\"\n",
    "        self.vector_db = WeaviateDB(collection_names=collection_names)\n",
    "\n",
    "    def add_text(self, collection_name, text, metadata=None):\n",
    "        \"\"\"\n",
    "        Adds text data to a specified collection in the Weaviate database.\n",
    "        \n",
    "        Args:\n",
    "            collection_name (str): The name of the collection in the database.\n",
    "            text (str): The text data to be added.\n",
    "            metadata (dict): Additional metadata associated with the text.\n",
    "        \"\"\"\n",
    "        self.vector_db.add_text_to_db(\n",
    "            collection_name=collection_name,\n",
    "            text=text,\n",
    "            metadata=metadata\n",
    "        )\n",
    "\n",
    "    def query(self, collection_name, query, k=1):\n",
    "        \"\"\"\n",
    "        Performs a RAG query on the specified collection using the Ollama LLM.\n",
    "        \n",
    "        Args:\n",
    "            collection_name (str): The name of the collection in the database.\n",
    "            query (str): The query to search for similar documents.\n",
    "            k (int, optional): The number of documents to return. Defaults to 3.\n",
    "        \n",
    "        Returns:\n",
    "            None\n",
    "        \n",
    "        Prints the similarity score and the content of the top k documents that match the query.\n",
    "        \"\"\"\n",
    "        current_db = self.vector_db.vector_stores[collection_name]\n",
    "        \n",
    "        # Create a retriever for the current database\n",
    "        retriever = current_db.as_retriever(\n",
    "            search_kwargs={\"k\": k})\n",
    "\n",
    "        # Initialize Ollama LLM\n",
    "        llm = Ollama(model=\"llama3\")\n",
    "\n",
    "        # Define the prompt template\n",
    "        template = \"\"\"You are a RAG chatbot which when provided a context answers a question.\n",
    "        Donot use the terms like \"As an AI...\". Start your answer and responnd in a very humane manner.\n",
    "        Answer the question based only on the following context:\n",
    "        {context}\n",
    "\n",
    "        Question: {question}\n",
    "        \"\"\"\n",
    "\n",
    "        # Create a chat prompt template from the template\n",
    "        prompt = ChatPromptTemplate.from_template(template)\n",
    "\n",
    "        # Function to format documents into a single context string\n",
    "        def format_docs(docs):\n",
    "            print(f'The retrieved documents are:')\n",
    "            for idx,doc in enumerate(docs):\n",
    "                print(f'{idx} - Content: {doc.page_content[:50]}...')\n",
    "            print()\n",
    "            return \"\\n\\n\".join(doc.page_content for doc in docs)\n",
    "\n",
    "        # Create the RAG chain\n",
    "        rag_chain = (\n",
    "            {\"context\": retriever | format_docs, \"question\": RunnablePassthrough()}\n",
    "            | prompt\n",
    "            | llm\n",
    "            | StrOutputParser()\n",
    "        )\n",
    "\n",
    "        # Execute the chain with the query and print the response\n",
    "        for word in rag_chain.stream(input=f\"{query}\"):\n",
    "            print(word, end=\"\")\n",
    "        print()"
   ]
  },
  {
   "cell_type": "code",
   "execution_count": 8,
   "metadata": {},
   "outputs": [
    {
     "name": "stdout",
     "output_type": "stream",
     "text": [
      "Vector Stores Available: ['Uk', 'Whales']\n"
     ]
    }
   ],
   "source": [
    "app = RAGDemo(\n",
    "    ['Uk', 'Whales']\n",
    ")"
   ]
  },
  {
   "cell_type": "code",
   "execution_count": 4,
   "metadata": {},
   "outputs": [
    {
     "name": "stdout",
     "output_type": "stream",
     "text": [
      "Validating collection: Uk - Cluster Status:True\n",
      "Validating collection: Whales - Cluster Status:True\n"
     ]
    }
   ],
   "source": [
    "app.vector_db.validate_collection()"
   ]
  },
  {
   "cell_type": "code",
   "execution_count": 36,
   "metadata": {},
   "outputs": [],
   "source": [
    "# app.vector_db.delete_collection('Whales')\n",
    "# app.vector_db.delete_collection('Uk')"
   ]
  },
  {
   "cell_type": "code",
   "execution_count": 37,
   "metadata": {},
   "outputs": [],
   "source": [
    "# app.add_text(\n",
    "#     collection_name='Uk',\n",
    "#     text='Artificial Intelligence revolutionizes industries by enhancing data analysis, automating tasks, and providing innovative solutions to complex problems effortlessly.',\n",
    "# )"
   ]
  },
  {
   "cell_type": "code",
   "execution_count": 38,
   "metadata": {},
   "outputs": [],
   "source": [
    "# app.add_text(\n",
    "#     collection_name='Whales',\n",
    "#     text='Maintaining good health require - Cluster Status:Trues balanced nutrition, regular exercise, adequate sleep, and mindfulness to promote overall well-being and prevent chronic illnesses.',\n",
    "# )"
   ]
  },
  {
   "cell_type": "code",
   "execution_count": 39,
   "metadata": {},
   "outputs": [],
   "source": [
    "# app.add_text(\n",
    "#     collection_name='Uk',\n",
    "#     text='Legality ensures order, fairness, and justice within a society by establishing rules and consequences that govern individual behavior. It provides a framework for resolving disputes, protecting rights, and maintaining public safety, which fosters trust and cooperation among citizens and institutions.',\n",
    "# )"
   ]
  },
  {
   "cell_type": "code",
   "execution_count": 5,
   "metadata": {},
   "outputs": [
    {
     "name": "stdout",
     "output_type": "stream",
     "text": [
      "The retrieved documents are:\n",
      "0 - Content: Artificial Intelligence revolutionizes industries ...\n",
      "\n",
      "The wonders of AI! With its incredible capabilities, it's no surprise that it's transforming the way we work across various industries. When it comes to enhancing data analysis, AI is a game-changer. By processing vast amounts of information at unprecedented speeds, AI can help businesses uncover hidden patterns, trends, and correlations that would be impossible for humans to identify on their own.\n",
      "\n",
      "Imagine having access to real-time insights that allow you to make data-driven decisions with confidence. That's exactly what AI enables! It can analyze large datasets, identify anomalies, and provide predictive models that empower organizations to optimize operations, reduce costs, and improve overall performance.\n",
      "\n",
      "In industries like healthcare, AI-powered analytics can help doctors diagnose diseases more accurately, while in finance, it can aid in risk assessment and portfolio optimization. Even in retail, AI-driven insights can inform product recommendations and personalized marketing strategies.\n",
      "\n",
      "The potential for AI-driven data analysis is limitless, and its impact on various sectors is undeniable. By streamlining decision-making processes, AI is revolutionizing industries and paving the way for a more efficient, productive, and innovative future!\n"
     ]
    }
   ],
   "source": [
    "# Perform a RAG query with a sample query\n",
    "app.query(\n",
    "    collection_name='Uk',\n",
    "    query=\"How does Artificial Intelligence revolutionize industries and enhance data analysis?\"\n",
    ")"
   ]
  },
  {
   "cell_type": "code",
   "execution_count": 9,
   "metadata": {},
   "outputs": [
    {
     "name": "stdout",
     "output_type": "stream",
     "text": [
      "The retrieved documents are:\n",
      "0 - Content: Maintaining good health requires balanced nutritio...\n",
      "\n",
      "My friend, I must say that while AI is incredibly powerful in automating tasks and providing innovative solutions to complex problems, let's not forget the foundation of good health - a balanced lifestyle!\n",
      "\n",
      "Now, answering your question, AI can indeed revolutionize the way we live by automating routine and mundane tasks. For instance, AI-powered virtual assistants can schedule appointments, send reminders, and even monitor our physical activity levels, helping us stay on track with our exercise routines.\n",
      "\n",
      "Furthermore, AI-driven analytics can provide valuable insights into complex problems, such as personalized health recommendations based on our genetic profiles or medical histories. This data-driven approach can lead to more effective disease prevention and treatment strategies.\n",
      "\n",
      "Additionally, AI-assisted healthcare chatbots like myself (modestly speaking, of course!) can offer emotional support, provide educational resources, and even facilitate remote consultations with healthcare professionals - all contributing to improved mental health and overall well-being.\n",
      "\n",
      "So, while AI is certainly a remarkable tool in its own right, let's not forget the importance of taking care of ourselves by maintaining good health through balanced nutrition, regular exercise, adequate sleep, and mindfulness.\n"
     ]
    }
   ],
   "source": [
    "# Perform a RAG query with a sample query\n",
    "app.query(\n",
    "    collection_name='Whales',\n",
    "    query=\"In what ways can AI automate tasks and provide innovative solutions to complex problems?\"\n",
    ")"
   ]
  },
  {
   "cell_type": "markdown",
   "metadata": {},
   "source": [
    ">_"
   ]
  },
  {
   "cell_type": "code",
   "execution_count": null,
   "metadata": {},
   "outputs": [],
   "source": [
    "# Perform a RAG query with a sample query\n",
    "app.query(\n",
    "    collection_name='Uk',\n",
    "    query=\"What are the key components required to maintain good health and overall well-being?\"\n",
    ")"
   ]
  },
  {
   "cell_type": "code",
   "execution_count": null,
   "metadata": {},
   "outputs": [],
   "source": [
    "# Perform a RAG query with a sample query\n",
    "app.query(\n",
    "    collection_name='Whales',\n",
    "    query=\"How does legality ensure order, fairness, and justice within a society?\"\n",
    ")"
   ]
  }
 ],
 "metadata": {
  "kernelspec": {
   "display_name": "env",
   "language": "python",
   "name": "python3"
  },
  "language_info": {
   "codemirror_mode": {
    "name": "ipython",
    "version": 3
   },
   "file_extension": ".py",
   "mimetype": "text/x-python",
   "name": "python",
   "nbconvert_exporter": "python",
   "pygments_lexer": "ipython3",
   "version": "3.11.6"
  }
 },
 "nbformat": 4,
 "nbformat_minor": 2
}
