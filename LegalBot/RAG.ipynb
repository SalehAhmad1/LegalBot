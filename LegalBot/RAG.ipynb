{
 "cells": [
  {
   "cell_type": "code",
   "execution_count": null,
   "metadata": {},
   "outputs": [],
   "source": [
    "from VectorDataBase import WeaviateDB\n",
    "from langchain_core.output_parsers import StrOutputParser\n",
    "from langchain_core.runnables import RunnablePassthrough\n",
    "\n",
    "from Saul_LLM import Legal_LLM"
   ]
  },
  {
   "cell_type": "code",
   "execution_count": null,
   "metadata": {},
   "outputs": [],
   "source": [
    "class RAGDemo:\n",
    "    def __init__(self, collection_names=['Uk', 'Whales']):\n",
    "        \"\"\"\n",
    "        Initializes the RAGDemo object.\n",
    "        \n",
    "        Args:\n",
    "            collection_names (list, optional): A list of collection names. Defaults to ['Uk'].\n",
    "        \"\"\"\n",
    "        self.vector_db = WeaviateDB(collection_names=collection_names)\n",
    "        self.llm = Legal_LLM()\n",
    "\n",
    "    def add_text(self, collection_name, text, metadata=None):\n",
    "        \"\"\"\n",
    "        Adds text data to a specified collection in the Weaviate database.\n",
    "        \n",
    "        Args:\n",
    "            collection_name (str): The name of the collection in the database.\n",
    "            text (str): The text data to be added.\n",
    "            metadata (dict): Additional metadata associated with the text.\n",
    "        \"\"\"\n",
    "        self.vector_db.add_text_to_db(\n",
    "            collection_name=collection_name,\n",
    "            text=text,\n",
    "            metadata=metadata\n",
    "        )\n",
    "\n",
    "    def query(self, collection_name, query, k=1):\n",
    "        \"\"\"\n",
    "        Performs a RAG query on the specified collection using the Ollama LLM.\n",
    "        \n",
    "        Args:\n",
    "            collection_name (str): The name of the collection in the database.\n",
    "            query (str): The query to search for similar documents.\n",
    "            k (int, optional): The number of documents to return. Defaults to 3.\n",
    "        \n",
    "        Returns:\n",
    "            None\n",
    "        \n",
    "        Prints the similarity score and the content of the top k documents that match the query.\n",
    "        \"\"\"\n",
    "        current_db = self.vector_db.vector_stores[collection_name]\n",
    "        \n",
    "        # Create a retriever for the current database\n",
    "        retriever = current_db.as_retriever(\n",
    "            search_kwargs={\"k\": k})\n",
    "\n",
    "        # Function to format documents into a single context string\n",
    "        def format_docs(docs):\n",
    "            print(f'The retrieved documents are:')\n",
    "            for idx,doc in enumerate(docs):\n",
    "                print(f'{idx} - Content: {doc.page_content[:50]}...')\n",
    "            print()\n",
    "            return \"\\n\\n\".join(doc.page_content for doc in docs)\n",
    "        \n",
    "        retrieved_docs = retriever.get_relevant_documents(query)\n",
    "        context = format_docs(retrieved_docs)\n",
    "        \n",
    "        response = self.llm.chat(context={context},\n",
    "                                 query={query}, max_new_tokens=512)\n",
    "        print(response)"
   ]
  },
  {
   "cell_type": "code",
   "execution_count": null,
   "metadata": {},
   "outputs": [],
   "source": [
    "app = RAGDemo(\n",
    "    ['Uk', 'Wales']\n",
    ")"
   ]
  },
  {
   "cell_type": "code",
   "execution_count": null,
   "metadata": {},
   "outputs": [],
   "source": [
    "app.vector_db.validate_collection()"
   ]
  },
  {
   "cell_type": "code",
   "execution_count": null,
   "metadata": {},
   "outputs": [],
   "source": [
    "# app.vector_db.delete_collection('Whales')\n",
    "# app.vector_db.delete_collection('Uk')"
   ]
  },
  {
   "cell_type": "code",
   "execution_count": null,
   "metadata": {},
   "outputs": [],
   "source": [
    "app.add_text(\n",
    "    collection_name='Uk',\n",
    "    text='Artificial Intelligence revolutionizes industries by enhancing data analysis, automating tasks, and providing innovative solutions to complex problems effortlessly.',\n",
    ")"
   ]
  },
  {
   "cell_type": "code",
   "execution_count": null,
   "metadata": {},
   "outputs": [],
   "source": [
    "app.add_text(\n",
    "    collection_name='Wales',\n",
    "    text='Maintaining good health require - Cluster Status:Trues balanced nutrition, regular exercise, adequate sleep, and mindfulness to promote overall well-being and prevent chronic illnesses.',\n",
    ")"
   ]
  },
  {
   "cell_type": "code",
   "execution_count": null,
   "metadata": {},
   "outputs": [],
   "source": [
    "app.add_text(\n",
    "    collection_name='Uk',\n",
    "    text='Legality ensures order, fairness, and justice within a society by establishing rules and consequences that govern individual behavior. It provides a framework for resolving disputes, protecting rights, and maintaining public safety, which fosters trust and cooperation among citizens and institutions.',\n",
    ")"
   ]
  },
  {
   "cell_type": "code",
   "execution_count": null,
   "metadata": {},
   "outputs": [],
   "source": [
    "# Perform a RAG query with a sample query\n",
    "app.query(\n",
    "    collection_name='Uk',\n",
    "    query=\"How does Artificial Intelligence revolutionize industries and enhance data analysis?\"\n",
    ")"
   ]
  },
  {
   "cell_type": "code",
   "execution_count": null,
   "metadata": {},
   "outputs": [],
   "source": [
    "# Perform a RAG query with a sample query\n",
    "app.query(\n",
    "    collection_name='Wales',\n",
    "    query=\"In what ways can AI automate tasks and provide innovative solutions to complex problems?\"\n",
    ")"
   ]
  },
  {
   "cell_type": "markdown",
   "metadata": {},
   "source": [
    ">_"
   ]
  },
  {
   "cell_type": "code",
   "execution_count": null,
   "metadata": {},
   "outputs": [],
   "source": [
    "# Perform a RAG query with a sample query\n",
    "app.query(\n",
    "    collection_name='Uk',\n",
    "    query=\"What are the key components required to maintain good health and overall well-being?\"\n",
    ")"
   ]
  },
  {
   "cell_type": "code",
   "execution_count": null,
   "metadata": {},
   "outputs": [],
   "source": [
    "# Perform a RAG query with a sample query\n",
    "app.query(\n",
    "    collection_name='Whales',\n",
    "    query=\"How does legality ensure order, fairness, and justice within a society?\"\n",
    ")"
   ]
  }
 ],
 "metadata": {
  "kernelspec": {
   "display_name": "env",
   "language": "python",
   "name": "python3"
  },
  "language_info": {
   "codemirror_mode": {
    "name": "ipython",
    "version": 3
   },
   "file_extension": ".py",
   "mimetype": "text/x-python",
   "name": "python",
   "nbconvert_exporter": "python",
   "pygments_lexer": "ipython3",
   "version": "3.11.9"
  }
 },
 "nbformat": 4,
 "nbformat_minor": 2
}
