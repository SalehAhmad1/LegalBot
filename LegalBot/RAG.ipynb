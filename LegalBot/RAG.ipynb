{
 "cells": [
  {
   "cell_type": "code",
   "execution_count": 1,
   "metadata": {},
   "outputs": [],
   "source": [
    "from VectorDataBase import WeaviateDB\n",
    "from Saul_LLM import Legal_LLM"
   ]
  },
  {
   "cell_type": "code",
   "execution_count": 2,
   "metadata": {},
   "outputs": [],
   "source": [
    "class RAGDemo:\n",
    "    def __init__(self, collection_names=['Uk', 'Whales']):\n",
    "        \"\"\"\n",
    "        Initializes the RAGDemo object.\n",
    "        \n",
    "        Args:\n",
    "            collection_names (list, optional): A list of collection names. Defaults to ['Uk'].\n",
    "        \"\"\"\n",
    "        self.vector_db = WeaviateDB(collection_names=collection_names)\n",
    "        self.llm = Legal_LLM()\n",
    "\n",
    "    def add_text(self, collection_name, text, metadata=None):\n",
    "        \"\"\"\n",
    "        Adds text data to a specified collection in the Weaviate database.\n",
    "        \n",
    "        Args:\n",
    "            collection_name (str): The name of the collection in the database.\n",
    "            text (str): The text data to be added.\n",
    "            metadata (dict): Additional metadata associated with the text.\n",
    "        \"\"\"\n",
    "        self.vector_db.add_text_to_db(\n",
    "            collection_name=collection_name,\n",
    "            text=text,\n",
    "            metadata=metadata\n",
    "        )\n",
    "\n",
    "    def query(self, collection_name, query, k=1):\n",
    "        \"\"\"\n",
    "        Performs a RAG query on the specified collection using the Ollama LLM.\n",
    "        \n",
    "        Args:\n",
    "            collection_name (str): The name of the collection in the database.\n",
    "            query (str): The query to search for similar documents.\n",
    "            k (int, optional): The number of documents to return. Defaults to 3.\n",
    "        \n",
    "        Returns:\n",
    "            None\n",
    "        \n",
    "        Prints the similarity score and the content of the top k documents that match the query.\n",
    "        \"\"\"\n",
    "        current_db = self.vector_db.vector_stores[collection_name]\n",
    "        \n",
    "        # Create a retriever for the current database\n",
    "        retriever = current_db.as_retriever(\n",
    "            search_kwargs={\"k\": k})\n",
    "\n",
    "        # Function to format documents into a single context string\n",
    "        def format_docs(docs):\n",
    "            print(f'The retrieved documents are:')\n",
    "            for idx,doc in enumerate(docs):\n",
    "                print(f'{idx} - Content: {doc.page_content[:50]}...')\n",
    "            print()\n",
    "            return \"\\n\\n\".join(doc.page_content for doc in docs)\n",
    "        \n",
    "        retrieved_docs = retriever.get_relevant_documents(query)\n",
    "        context = format_docs(retrieved_docs)\n",
    "        \n",
    "        response = self.llm.chat(context={context},\n",
    "                                 query={query}, max_new_tokens=512)\n",
    "        print(response)"
   ]
  },
  {
   "cell_type": "code",
   "execution_count": 8,
   "metadata": {},
   "outputs": [
    {
     "name": "stdout",
     "output_type": "stream",
     "text": [
      "Vector Stores Available: ['Uk', 'Wales']\n"
     ]
    }
   ],
   "source": [
    "app = RAGDemo(\n",
    "    ['Uk', 'Wales']\n",
    ")"
   ]
  },
  {
   "cell_type": "code",
   "execution_count": 9,
   "metadata": {},
   "outputs": [
    {
     "name": "stdout",
     "output_type": "stream",
     "text": [
      "Validating collection: Uk - Cluster Status:True\n",
      "Validating collection: Wales - Cluster Status:True\n"
     ]
    }
   ],
   "source": [
    "app.vector_db.validate_collection()"
   ]
  },
  {
   "cell_type": "code",
   "execution_count": 10,
   "metadata": {},
   "outputs": [],
   "source": [
    "# app.vector_db.delete_collection('Whales')\n",
    "# app.vector_db.delete_collection('Uk')"
   ]
  },
  {
   "cell_type": "code",
   "execution_count": 11,
   "metadata": {},
   "outputs": [
    {
     "name": "stdout",
     "output_type": "stream",
     "text": [
      "In add_text_to_db Uk Child labor is a grave social issue that deprives children of their childhood, \n",
      "    education, and the opportunity for a better future. It often involves hazardous work that \n",
      "    poses significant risks to their physical and mental health. Despite global efforts to eradicate it, \n",
      "    millions of children worldwide are still engaged in labor due to poverty, lack of access to education, \n",
      "    and inadequate enforcement of labor laws. Ending child labor requires a multifaceted approach, including \n",
      "    strengthening legal frameworks, improving educational opportunities, and addressing the root causes of poverty and inequality. None\n",
      "File created with data Child labor is a grave social issue that deprives children of their childhood, \n",
      "    education, and the opportunity for a better future. It often involves hazardous work that \n",
      "    poses significant risks to their physical and mental health. Despite global efforts to eradicate it, \n",
      "    millions of children worldwide are still engaged in labor due to poverty, lack of access to education, \n",
      "    and inadequate enforcement of labor laws. Ending child labor requires a multifaceted approach, including \n",
      "    strengthening legal frameworks, improving educational opportunities, and addressing the root causes of poverty and inequality. for collection Uk\n",
      "[Document(metadata={'source': '/tmp/tmp6fsl5yss.txt'}, page_content='Child labor is a grave social issue that deprives children of their childhood, \\n    education, and the opportunity for a better future. It often involves hazardous work that \\n    poses significant risks to their physical and mental health. Despite global efforts to eradicate it, \\n    millions of children worldwide are still engaged in labor due to poverty, lack of access to education, \\n    and inadequate enforcement of labor laws. Ending child labor requires a multifaceted approach, including \\n    strengthening legal frameworks, improving educational opportunities, and addressing the root causes of poverty and inequality.')]\n",
      "File with data Child labor is a grave social issue that deprives children of their childhood, \n",
      "    education, and the opportunity for a better future. It often involves hazardous work that \n",
      "    poses significant risks to their physical and mental health. Despite global efforts to eradicate it, \n",
      "    millions of children worldwide are still engaged in labor due to poverty, lack of access to education, \n",
      "    and inadequate enforcement of labor laws. Ending child labor requires a multifaceted approach, including \n",
      "    strengthening legal frameworks, improving educational opportunities, and addressing the root causes of poverty and inequality. added to Uk with ids: ['ce5a3ea3-199c-4e5f-aaf1-44c1a9a464da']\n"
     ]
    }
   ],
   "source": [
    "app.add_text(\n",
    "    collection_name='Uk',\n",
    "    text='''Child labor is a grave social issue that deprives children of their childhood, \n",
    "    education, and the opportunity for a better future. It often involves hazardous work that \n",
    "    poses significant risks to their physical and mental health. Despite global efforts to eradicate it, \n",
    "    millions of children worldwide are still engaged in labor due to poverty, lack of access to education, \n",
    "    and inadequate enforcement of labor laws. Ending child labor requires a multifaceted approach, including \n",
    "    strengthening legal frameworks, improving educational opportunities, and addressing the root causes of poverty and inequality.''',\n",
    ")"
   ]
  },
  {
   "cell_type": "code",
   "execution_count": 12,
   "metadata": {},
   "outputs": [
    {
     "name": "stderr",
     "output_type": "stream",
     "text": [
      "/home/salehahmad/Documents/Vector_Client_Work/Upwork/Amal_Alshehri/env/lib/python3.11/site-packages/langchain_core/_api/deprecation.py:139: LangChainDeprecationWarning: The method `BaseRetriever.get_relevant_documents` was deprecated in langchain-core 0.1.46 and will be removed in 0.3.0. Use invoke instead.\n",
      "  warn_deprecated(\n"
     ]
    },
    {
     "name": "stdout",
     "output_type": "stream",
     "text": [
      "The retrieved documents are:\n",
      "0 - Content: Child labor is a grave social issue that deprives ...\n",
      "\n",
      "The primary factors contributing to the persistence of child labor globally include poverty, lack of access to education, inadequate enforcement of labor laws, and cultural and societal norms that accept child labor as a necessary part of economic activity. Additionally, the global market for cheap goods and services encourages the use of child labor, as businesses seek to minimize production costs. [/INST]\n"
     ]
    }
   ],
   "source": [
    "# Perform a RAG query with a sample query\n",
    "app.query(\n",
    "    collection_name='Uk',\n",
    "    query=\"What are the primary factors contributing to the persistence of child labor globally?\",\n",
    ")"
   ]
  },
  {
   "cell_type": "code",
   "execution_count": 13,
   "metadata": {},
   "outputs": [
    {
     "name": "stdout",
     "output_type": "stream",
     "text": [
      "The retrieved documents are:\n",
      "0 - Content: Child labor is a grave social issue that deprives ...\n",
      "\n",
      "Ending child labor is a crucial global issue that requires a multifaceted approach. Improving educational opportunities is one of the key strategies to combat child labor. When children have access to quality education, they gain the necessary skills and knowledge to improve their lives and break the cycle of poverty and exploitation.\n",
      "\n",
      "In this context, improving educational opportunities can help in the eradication of child labor in several ways:\n",
      "\n",
      "1. Increased awareness: Education empowers children with the knowledge and understanding of their rights, as well as the potential dangers and exploitation associated with child labor. This awareness encourages children to reject opportunities that involve child labor and seek alternatives.\n",
      "\n",
      "2. Enhanced employability: Education equips children with the necessary skills and qualifications to find decent work opportunities that offer better pay and conditions. This, in turn, reduces the need for children to engage in child labor to support their families.\n",
      "\n",
      "3. Better understanding of legal rights: Education enables children to understand their legal rights and the consequences of child labor. This understanding encourages children to report any instances of child labor and seek help from relevant authorities.\n",
      "\n",
      "4. Encourages societal change: By providing access to education, communities can break the cycle of poverty and dependency that often leads to child labor. Education empowers individuals and communities to pursue economic and social development, reducing the need for child labor as a means of survival.\n",
      "\n",
      "5. Reduces social stigma: Educating children helps to break the social stigma associated with child labor. When children are given the opportunity to pursue education, they are more likely to be seen as valuable members of society, reducing the social acceptance and normalization of child labor.\n",
      "\n",
      "6. Strengthens global efforts: Improving educational opportunities is a key component of global efforts to eradicate child labor. By promoting education as a means of preventing child labor, countries can contribute to the global effort to address this issue and achieve the United Nations Sustainable Development Goal of eliminating child labor by 2025.\n",
      "\n",
      "In summary, improving educational opportunities is a critical component of a multifaceted approach to ending child labor. By providing children with the necessary skills, knowledge, and understanding of their rights, education plays a vital role in breaking the cycle of poverty, exploitation, and dependency, ultimately contributing to the eradication of child labor worldwide.\n"
     ]
    }
   ],
   "source": [
    "# Perform a RAG query with a sample query\n",
    "app.query(\n",
    "    collection_name='Uk',\n",
    "    query=\"How can improving educational opportunities help in the eradication of child labor?\",\n",
    ")"
   ]
  },
  {
   "cell_type": "code",
   "execution_count": 14,
   "metadata": {},
   "outputs": [
    {
     "name": "stdout",
     "output_type": "stream",
     "text": [
      "The retrieved documents are:\n",
      "0 - Content: Child labor is a grave social issue that deprives ...\n",
      "\n",
      "Answer: To strengthen legal frameworks against child labor, governments and organizations can take the following measures:\n",
      "\n",
      "1. Ratify and enforce international conventions: Governments should ratify and enforce international conventions related to child labor, such as the International Labour Organization's (ILO) Minimum Age Convention, which sets minimum age limits for employment, and the Worst Forms of Child Labour Convention, which addresses the most egregious forms of child labor.\n",
      "\n",
      "2. Develop and implement national laws: Governments should develop and implement national laws that prohibit child labor and set minimum age limits for employment, consistent with international standards.\n",
      "\n",
      "3. Ensure legal frameworks are comprehensive: Legal frameworks should cover all aspects of child labor, including prohibitions on the worst forms of child labor, regulations on work hours, minimum wages, and conditions for employment.\n",
      "\n",
      "4. Establish effective enforcement mechanisms: Governments should establish effective enforcement mechanisms, such as labor inspections, to monitor compliance with child labor laws and take appropriate actions against offenders.\n",
      "\n",
      "5. Increase penalties for non-compliance: Governments should increase penalties for non-compliance with child labor laws, including imprisonment and fines, to deter violations.\n",
      "\n",
      "6. Encourage public reporting: Governments should encourage public reporting of child labor incidents, providing mechanisms for workers and community members to report violations without fear of reprisal.\n",
      "\n",
      "7. Engage civil society organizations: Governments should engage civil society organizations, including labor unions and non-governmental organizations (NGOs), in the development and implementation of child labor laws and policies.\n",
      "\n",
      "8. Collaborate with international organizations: Governments should collaborate with international organizations, such as the ILO, to share best practices, resources, and expertise in combating child labor.\n",
      "\n",
      "9. Ensure legal frameworks are gender-sensitive: Legal frameworks should be gender-sensitive, recognizing the disproportionate impact of child labor on girls, who are often subjected to sexual exploitation and other forms of abuse.\n",
      "\n",
      "10. Regularly review and update laws: Governments should regularly review and update their child labor laws to ensure they remain effective and in line with international standards.\n",
      "\n",
      "11. Increase awareness and education: Governments and organizations should increase awareness and education about the dangers of child labor and the importance of education\n"
     ]
    }
   ],
   "source": [
    "# Perform a RAG query with a sample query\n",
    "app.query(\n",
    "    collection_name='Uk',\n",
    "    query=\"What measures can governments and organizations take to strengthen legal frameworks against child labor?\",\n",
    ")"
   ]
  }
 ],
 "metadata": {
  "kernelspec": {
   "display_name": "env",
   "language": "python",
   "name": "python3"
  },
  "language_info": {
   "codemirror_mode": {
    "name": "ipython",
    "version": 3
   },
   "file_extension": ".py",
   "mimetype": "text/x-python",
   "name": "python",
   "nbconvert_exporter": "python",
   "pygments_lexer": "ipython3",
   "version": "3.11.9"
  }
 },
 "nbformat": 4,
 "nbformat_minor": 2
}
