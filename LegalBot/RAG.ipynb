{
 "cells": [
  {
   "cell_type": "code",
   "execution_count": null,
   "metadata": {},
   "outputs": [],
   "source": [
    "from VectorDataBase import WeaviateDB\n",
    "# from Saul_LLM_GGUF import Legal_LLM\n",
    "from Saul_LLM_HF import Legal_LLM"
   ]
  },
  {
   "cell_type": "code",
   "execution_count": null,
   "metadata": {},
   "outputs": [],
   "source": [
    "chat_obj = Legal_LLM()"
   ]
  },
  {
   "cell_type": "code",
   "execution_count": null,
   "metadata": {},
   "outputs": [],
   "source": [
    "class RAGDemo:\n",
    "    def __init__(self, collection_names=['Uk', 'Whales']):\n",
    "        \"\"\"\n",
    "        Initializes the RAGDemo object.\n",
    "        \n",
    "        Args:\n",
    "            collection_names (list, optional): A list of collection names. Defaults to ['Uk'].\n",
    "        \"\"\"\n",
    "        self.vector_db = WeaviateDB(collection_names=collection_names)\n",
    "        self.llm = Legal_LLM()\n",
    "\n",
    "    def add_text(self, collection_name, text, metadata=None):\n",
    "        \"\"\"\n",
    "        Adds text data to a specified collection in the Weaviate database.\n",
    "        \n",
    "        Args:\n",
    "            collection_name (str): The name of the collection in the database.\n",
    "            text (str): The text data to be added.\n",
    "            metadata (dict): Additional metadata associated with the text.\n",
    "        \"\"\"\n",
    "        self.vector_db.add_text_to_db(\n",
    "            collection_name=collection_name,\n",
    "            text=text,\n",
    "            metadata=metadata\n",
    "        )\n",
    "\n",
    "    def query(self, collection_name, query, k=1):\n",
    "        \"\"\"\n",
    "        Performs a RAG query on the specified collection using the Ollama LLM.\n",
    "        \n",
    "        Args:\n",
    "            collection_name (str): The name of the collection in the database.\n",
    "            query (str): The query to search for similar documents.\n",
    "            k (int, optional): The number of documents to return. Defaults to 1.\n",
    "        \n",
    "        Returns:\n",
    "            None\n",
    "        \n",
    "        Prints the similarity score and the content of the top k documents that match the query.\n",
    "        \"\"\"\n",
    "        current_db = self.vector_db.vector_stores[collection_name]\n",
    "        \n",
    "        # Create a retriever for the current database\n",
    "        retriever = current_db.as_retriever(\n",
    "            search_kwargs={\"k\": k})\n",
    "\n",
    "        # Function to format documents into a single context string\n",
    "        def format_docs(docs):\n",
    "            print(f'The retrieved documents are:')\n",
    "            for idx,doc in enumerate(docs):\n",
    "                print(f'{idx} - Content: {doc.page_content[:50]}...')\n",
    "            print()\n",
    "            return \"\\n\\n\".join(doc.page_content for doc in docs)\n",
    "        \n",
    "        retrieved_docs = retriever.get_relevant_documents(query)\n",
    "        context = format_docs(retrieved_docs)\n",
    "        \n",
    "        response = self.llm.chat(context={context},\n",
    "                                 query={query}, max_new_tokens=250)\n",
    "        print('-')\n",
    "        print(response)"
   ]
  },
  {
   "cell_type": "code",
   "execution_count": null,
   "metadata": {},
   "outputs": [],
   "source": [
    "app = RAGDemo(\n",
    "    ['Uk', 'Wales']\n",
    ")"
   ]
  },
  {
   "cell_type": "code",
   "execution_count": null,
   "metadata": {},
   "outputs": [],
   "source": [
    "app.vector_db.validate_collection()"
   ]
  },
  {
   "cell_type": "code",
   "execution_count": null,
   "metadata": {},
   "outputs": [],
   "source": [
    "app.vector_db.delete_collection('Whales')\n",
    "app.vector_db.delete_collection('Uk')"
   ]
  },
  {
   "cell_type": "code",
   "execution_count": null,
   "metadata": {},
   "outputs": [],
   "source": [
    "app.add_text(\n",
    "    collection_name='Uk',\n",
    "    text='''Child labor is a grave social issue that deprives children of their childhood, \n",
    "    education, and the opportunity for a better future. It often involves hazardous work that \n",
    "    poses significant risks to their physical and mental health. Despite global efforts to eradicate it, \n",
    "    millions of children worldwide are still engaged in labor due to poverty, lack of access to education, \n",
    "    and inadequate enforcement of labor laws. Ending child labor requires a multifaceted approach, including \n",
    "    strengthening legal frameworks, improving educational opportunities, and addressing the root causes of poverty and inequality.''',\n",
    ")"
   ]
  },
  {
   "cell_type": "code",
   "execution_count": null,
   "metadata": {},
   "outputs": [],
   "source": [
    "# Perform a RAG query with a sample query\n",
    "app.query(\n",
    "    collection_name='Uk',\n",
    "    query=\"What are the primary factors contributing to the persistence of child labor globally?\",\n",
    ")"
   ]
  },
  {
   "cell_type": "code",
   "execution_count": null,
   "metadata": {},
   "outputs": [],
   "source": [
    "# Perform a RAG query with a sample query\n",
    "app.query(\n",
    "    collection_name='Uk',\n",
    "    query=\"How can improving educational opportunities help in the eradication of child labor?\",\n",
    ")"
   ]
  },
  {
   "cell_type": "code",
   "execution_count": null,
   "metadata": {},
   "outputs": [],
   "source": [
    "# Perform a RAG query with a sample query\n",
    "app.query(\n",
    "    collection_name='Uk',\n",
    "    query=\"What measures can governments and organizations take to strengthen legal frameworks against child labor?\",\n",
    ")"
   ]
  },
  {
   "cell_type": "code",
   "execution_count": null,
   "metadata": {},
   "outputs": [],
   "source": []
  }
 ],
 "metadata": {
  "kernelspec": {
   "display_name": "env",
   "language": "python",
   "name": "python3"
  },
  "language_info": {
   "codemirror_mode": {
    "name": "ipython",
    "version": 3
   },
   "file_extension": ".py",
   "mimetype": "text/x-python",
   "name": "python",
   "nbconvert_exporter": "python",
   "pygments_lexer": "ipython3",
   "version": "3.11.9"
  }
 },
 "nbformat": 4,
 "nbformat_minor": 2
}
