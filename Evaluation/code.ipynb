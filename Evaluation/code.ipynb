{
 "cells": [
  {
   "cell_type": "code",
   "execution_count": 5,
   "metadata": {},
   "outputs": [],
   "source": [
    "import sys\n",
    "sys.path.append('../LegalBot')\n",
    "\n",
    "from RAG_v1 import RAG_Bot\n",
    "\n",
    "import numpy as np\n",
    "import pandas as pd\n",
    "from tqdm import tqdm\n",
    "\n",
    "from ragas.metrics import faithfulness, answer_relevancy\n",
    "from ragas import evaluate\n",
    "from datasets import Dataset "
   ]
  },
  {
   "cell_type": "code",
   "execution_count": 2,
   "metadata": {},
   "outputs": [
    {
     "name": "stdout",
     "output_type": "stream",
     "text": [
      "Cluster_URL: https://gwqaighsqp6gtrk8kwmnmg.c0.us-west3.gcp.weaviate.cloud, Cluster_API: 2xKmTTGUawzXYItFrMR9JgTjY2oRkfzHFLWN\n"
     ]
    },
    {
     "name": "stderr",
     "output_type": "stream",
     "text": [
      "WARNING: All log messages before absl::InitializeLog() is called are written to STDERR\n",
      "I0000 00:00:1725917719.639578   89971 config.cc:230] gRPC experiments enabled: call_status_override_on_cancellation, event_engine_dns, event_engine_listener, http2_stats_fix, monitoring_experiment, pick_first_new, trace_record_callops, work_serializer_clears_time_cache\n"
     ]
    },
    {
     "name": "stdout",
     "output_type": "stream",
     "text": [
      "Creating 4 Weaviate Clusters - Option 3\n",
      "Country.capitalize(): Uk\n",
      "The collection: Uk already exists in the Weaviate Cluster\n",
      "Country.capitalize(): Wales\n",
      "The collection: Wales already exists in the Weaviate Cluster\n",
      "Country.capitalize(): Nothernireland\n",
      "The collection: NothernIreland already exists in the Weaviate Cluster\n",
      "Country.capitalize(): Scotland\n",
      "The collection: Scotland already exists in the Weaviate Cluster\n"
     ]
    }
   ],
   "source": [
    "collection_names = ['Uk', 'Wales', 'NothernIreland', 'Scotland']\n",
    "bot = RAG_Bot(collection_names=collection_names, text_splitter='SpaCy', embedding_model=\"SentenceTransformers\")"
   ]
  },
  {
   "cell_type": "code",
   "execution_count": 3,
   "metadata": {},
   "outputs": [
    {
     "data": {
      "text/html": [
       "<div>\n",
       "<style scoped>\n",
       "    .dataframe tbody tr th:only-of-type {\n",
       "        vertical-align: middle;\n",
       "    }\n",
       "\n",
       "    .dataframe tbody tr th {\n",
       "        vertical-align: top;\n",
       "    }\n",
       "\n",
       "    .dataframe thead th {\n",
       "        text-align: right;\n",
       "    }\n",
       "</style>\n",
       "<table border=\"1\" class=\"dataframe\">\n",
       "  <thead>\n",
       "    <tr style=\"text-align: right;\">\n",
       "      <th></th>\n",
       "      <th>Country</th>\n",
       "      <th>Question</th>\n",
       "      <th>Actual Answer</th>\n",
       "    </tr>\n",
       "  </thead>\n",
       "  <tbody>\n",
       "    <tr>\n",
       "      <th>0</th>\n",
       "      <td>uk</td>\n",
       "      <td>In the context of the Environmental Protection...</td>\n",
       "      <td>The Environmental Land Management (ELM) scheme...</td>\n",
       "    </tr>\n",
       "    <tr>\n",
       "      <th>1</th>\n",
       "      <td>uk</td>\n",
       "      <td>Under the Employment Rights Act 1996, as amend...</td>\n",
       "      <td>The Employment Rights Act 1996, as amended by ...</td>\n",
       "    </tr>\n",
       "    <tr>\n",
       "      <th>2</th>\n",
       "      <td>uk</td>\n",
       "      <td>In light of the Data Protection Act 2018, inco...</td>\n",
       "      <td>The situation described involves potential bre...</td>\n",
       "    </tr>\n",
       "    <tr>\n",
       "      <th>3</th>\n",
       "      <td>uk</td>\n",
       "      <td>Following the passage of the Renters' Reform B...</td>\n",
       "      <td>The Renters' Reform Bill, expected to receive ...</td>\n",
       "    </tr>\n",
       "    <tr>\n",
       "      <th>4</th>\n",
       "      <td>uk</td>\n",
       "      <td>Under the Building Safety Act 2022, a construc...</td>\n",
       "      <td>The Building Safety Act 2022 introduces string...</td>\n",
       "    </tr>\n",
       "    <tr>\n",
       "      <th>5</th>\n",
       "      <td>Wales</td>\n",
       "      <td>In light of the Welsh Language (Wales) Measure...</td>\n",
       "      <td>The Welsh Language (Wales) Measure 2011 establ...</td>\n",
       "    </tr>\n",
       "    <tr>\n",
       "      <th>6</th>\n",
       "      <td>Wales</td>\n",
       "      <td>Considering the Environment (Wales) Act 2016 a...</td>\n",
       "      <td>The Environment (Wales) Act 2016 and the Agric...</td>\n",
       "    </tr>\n",
       "    <tr>\n",
       "      <th>7</th>\n",
       "      <td>Wales</td>\n",
       "      <td>Under the Renting Homes (Wales) Act 2016, as a...</td>\n",
       "      <td>The Renting Homes (Wales) Act 2016, amended by...</td>\n",
       "    </tr>\n",
       "    <tr>\n",
       "      <th>8</th>\n",
       "      <td>Wales</td>\n",
       "      <td>Following the implementation of the Additional...</td>\n",
       "      <td>The Additional Learning Needs and Education Tr...</td>\n",
       "    </tr>\n",
       "    <tr>\n",
       "      <th>9</th>\n",
       "      <td>Wales</td>\n",
       "      <td>In the context of the Planning (Wales) Act 201...</td>\n",
       "      <td>The Planning (Wales) Act 2015 and the Well-bei...</td>\n",
       "    </tr>\n",
       "    <tr>\n",
       "      <th>10</th>\n",
       "      <td>NothernIreland</td>\n",
       "      <td>In light of the Environment (Northern Ireland)...</td>\n",
       "      <td>The Environment (Northern Ireland) Order 2002,...</td>\n",
       "    </tr>\n",
       "    <tr>\n",
       "      <th>11</th>\n",
       "      <td>NothernIreland</td>\n",
       "      <td>With reference to the Employment (Northern Ire...</td>\n",
       "      <td>The Employment (Northern Ireland) Order 2003, ...</td>\n",
       "    </tr>\n",
       "    <tr>\n",
       "      <th>12</th>\n",
       "      <td>NothernIreland</td>\n",
       "      <td>Under the Planning Act (Northern Ireland) 2011...</td>\n",
       "      <td>The Planning Act (Northern Ireland) 2011, as a...</td>\n",
       "    </tr>\n",
       "    <tr>\n",
       "      <th>13</th>\n",
       "      <td>NothernIreland</td>\n",
       "      <td>In the context of the Data Protection Act 2018...</td>\n",
       "      <td>The Data Protection Act 2018, in conjunction w...</td>\n",
       "    </tr>\n",
       "    <tr>\n",
       "      <th>14</th>\n",
       "      <td>NothernIreland</td>\n",
       "      <td>Considering the Health and Safety at Work (Nor...</td>\n",
       "      <td>The Health and Safety at Work (Northern Irelan...</td>\n",
       "    </tr>\n",
       "    <tr>\n",
       "      <th>15</th>\n",
       "      <td>Scotland</td>\n",
       "      <td>With reference to the Land Reform (Scotland) A...</td>\n",
       "      <td>The Land Reform (Scotland) Act 2016, along wit...</td>\n",
       "    </tr>\n",
       "    <tr>\n",
       "      <th>16</th>\n",
       "      <td>Scotland</td>\n",
       "      <td>In the context of the Fair Work Framework (Sco...</td>\n",
       "      <td>The Fair Work Framework (Scotland) 2016, reinf...</td>\n",
       "    </tr>\n",
       "    <tr>\n",
       "      <th>17</th>\n",
       "      <td>Scotland</td>\n",
       "      <td>Under the Private Housing (Tenancies) (Scotlan...</td>\n",
       "      <td>The Private Housing (Tenancies) (Scotland) Act...</td>\n",
       "    </tr>\n",
       "    <tr>\n",
       "      <th>18</th>\n",
       "      <td>Scotland</td>\n",
       "      <td>Considering the Planning (Scotland) Act 2019 a...</td>\n",
       "      <td>The Planning (Scotland) Act 2019, alongside th...</td>\n",
       "    </tr>\n",
       "    <tr>\n",
       "      <th>19</th>\n",
       "      <td>Scotland</td>\n",
       "      <td>In the context of the Data Protection Act 2018...</td>\n",
       "      <td>The Data Protection Act 2018, coupled with the...</td>\n",
       "    </tr>\n",
       "  </tbody>\n",
       "</table>\n",
       "</div>"
      ],
      "text/plain": [
       "           Country                                           Question  \\\n",
       "0               uk  In the context of the Environmental Protection...   \n",
       "1               uk  Under the Employment Rights Act 1996, as amend...   \n",
       "2               uk  In light of the Data Protection Act 2018, inco...   \n",
       "3               uk  Following the passage of the Renters' Reform B...   \n",
       "4               uk  Under the Building Safety Act 2022, a construc...   \n",
       "5            Wales  In light of the Welsh Language (Wales) Measure...   \n",
       "6            Wales  Considering the Environment (Wales) Act 2016 a...   \n",
       "7            Wales  Under the Renting Homes (Wales) Act 2016, as a...   \n",
       "8            Wales  Following the implementation of the Additional...   \n",
       "9            Wales  In the context of the Planning (Wales) Act 201...   \n",
       "10  NothernIreland  In light of the Environment (Northern Ireland)...   \n",
       "11  NothernIreland  With reference to the Employment (Northern Ire...   \n",
       "12  NothernIreland  Under the Planning Act (Northern Ireland) 2011...   \n",
       "13  NothernIreland  In the context of the Data Protection Act 2018...   \n",
       "14  NothernIreland  Considering the Health and Safety at Work (Nor...   \n",
       "15        Scotland  With reference to the Land Reform (Scotland) A...   \n",
       "16        Scotland  In the context of the Fair Work Framework (Sco...   \n",
       "17        Scotland  Under the Private Housing (Tenancies) (Scotlan...   \n",
       "18        Scotland  Considering the Planning (Scotland) Act 2019 a...   \n",
       "19        Scotland  In the context of the Data Protection Act 2018...   \n",
       "\n",
       "                                        Actual Answer  \n",
       "0   The Environmental Land Management (ELM) scheme...  \n",
       "1   The Employment Rights Act 1996, as amended by ...  \n",
       "2   The situation described involves potential bre...  \n",
       "3   The Renters' Reform Bill, expected to receive ...  \n",
       "4   The Building Safety Act 2022 introduces string...  \n",
       "5   The Welsh Language (Wales) Measure 2011 establ...  \n",
       "6   The Environment (Wales) Act 2016 and the Agric...  \n",
       "7   The Renting Homes (Wales) Act 2016, amended by...  \n",
       "8   The Additional Learning Needs and Education Tr...  \n",
       "9   The Planning (Wales) Act 2015 and the Well-bei...  \n",
       "10  The Environment (Northern Ireland) Order 2002,...  \n",
       "11  The Employment (Northern Ireland) Order 2003, ...  \n",
       "12  The Planning Act (Northern Ireland) 2011, as a...  \n",
       "13  The Data Protection Act 2018, in conjunction w...  \n",
       "14  The Health and Safety at Work (Northern Irelan...  \n",
       "15  The Land Reform (Scotland) Act 2016, along wit...  \n",
       "16  The Fair Work Framework (Scotland) 2016, reinf...  \n",
       "17  The Private Housing (Tenancies) (Scotland) Act...  \n",
       "18  The Planning (Scotland) Act 2019, alongside th...  \n",
       "19  The Data Protection Act 2018, coupled with the...  "
      ]
     },
     "execution_count": 3,
     "metadata": {},
     "output_type": "execute_result"
    }
   ],
   "source": [
    "# df = pd.read_csv('./Benchmark-Data.csv')\n",
    "# df"
   ]
  },
  {
   "cell_type": "code",
   "execution_count": 6,
   "metadata": {},
   "outputs": [
    {
     "name": "stderr",
     "output_type": "stream",
     "text": [
      "0it [00:00, ?it/s]"
     ]
    },
    {
     "name": "stdout",
     "output_type": "stream",
     "text": [
      "Collection_to_query_from: ['Uk']\n",
      "The Collection: Uk is empty(0)/Not Empty(1): False\n",
      "The retrieved documents are:\n",
      "0 - Content: (2) Where the risk assessment prepared in accordan... - MetaData: {'year': '2022', 'legislation': 'UK Statutory Instruments', 'legislationType': 'Exclusively or primarily applies to UK', 'title': 'The A47 Blofield to North Burlingham Development Consent Order 2022.txt', 'country': 'Uk'}\n"
     ]
    },
    {
     "name": "stderr",
     "output_type": "stream",
     "text": [
      "1it [00:14, 14.30s/it]"
     ]
    },
    {
     "name": "stdout",
     "output_type": "stream",
     "text": [
      "Collection_to_query_from: ['Uk']\n",
      "The Collection: Uk is empty(0)/Not Empty(1): False\n",
      "The retrieved documents are:\n",
      "0 - Content: Employment Relations (Flexible Working) Act 2023\n",
      "2... - MetaData: {'title': 'Employment Relations (Flexible Working) Act 2023.txt', 'legislation': 'UK Public General Acts', 'legislationType': 'Exclusively or primarily applies to UK', 'year': '2023', 'country': 'Uk'}\n"
     ]
    },
    {
     "name": "stderr",
     "output_type": "stream",
     "text": [
      "2it [01:53, 63.95s/it]"
     ]
    },
    {
     "name": "stdout",
     "output_type": "stream",
     "text": [
      "Collection_to_query_from: ['Uk']\n",
      "The Collection: Uk is empty(0)/Not Empty(1): False\n",
      "The retrieved documents are:\n",
      "0 - Content: (7)\n",
      "\n",
      "\n",
      "In Article 6(1) of the GDPR (lawfulness of p... - MetaData: {'legislationType': 'Exclusively or primarily applies to UK', 'legislation': 'UK Public General Acts', 'year': '2018', 'title': 'Data Protection Act 2018.txt', 'country': 'Uk'}\n"
     ]
    },
    {
     "name": "stderr",
     "output_type": "stream",
     "text": [
      "3it [03:48, 87.39s/it]"
     ]
    },
    {
     "name": "stdout",
     "output_type": "stream",
     "text": [
      "Collection_to_query_from: ['Uk']\n",
      "The Collection: Uk is empty(0)/Not Empty(1): False\n",
      "The retrieved documents are:\n",
      "0 - Content: Leasehold and Freehold Reform Act 2024\n",
      "2024 CHAPTE... - MetaData: {'legislationType': 'Exclusively or primarily applies to UK', 'legislation': 'UK Public General Acts', 'year': '2024', 'title': 'Leasehold and Freehold Reform Act 2024.txt', 'country': 'Uk'}\n"
     ]
    },
    {
     "name": "stderr",
     "output_type": "stream",
     "text": [
      "4it [05:15, 87.43s/it]"
     ]
    },
    {
     "name": "stdout",
     "output_type": "stream",
     "text": [
      "Collection_to_query_from: ['Uk']\n",
      "The Collection: Uk is empty(0)/Not Empty(1): False\n",
      "The retrieved documents are:\n",
      "0 - Content: Building Safety Act 2022\n",
      "2022 CHAPTER 30\n",
      "An Act to... - MetaData: {'title': 'Building Safety Act 2022.txt', 'legislation': 'UK Public General Acts', 'legislationType': 'Exclusively or primarily applies to UK', 'year': '2022', 'country': 'Uk'}\n"
     ]
    },
    {
     "name": "stderr",
     "output_type": "stream",
     "text": [
      "5it [06:34, 84.13s/it]"
     ]
    },
    {
     "name": "stdout",
     "output_type": "stream",
     "text": [
      "Collection_to_query_from: ['Wales']\n",
      "The Collection: Wales is empty(0)/Not Empty(1): False\n",
      "The retrieved documents are:\n",
      "0 - Content: 17 Standards for raising awareness about Welsh lan... - MetaData: {'legislationType': 'May contain legislation that applies to Wales', 'legislation': 'UK Statutory Instruments', 'year': '2023', 'title': 'The Welsh Language Standards (No. 9) Regulations 2023.txt', 'country': 'Wales'}\n"
     ]
    },
    {
     "name": "stderr",
     "output_type": "stream",
     "text": [
      "6it [07:42, 78.80s/it]"
     ]
    },
    {
     "name": "stdout",
     "output_type": "stream",
     "text": [
      "Collection_to_query_from: ['Wales']\n",
      "The Collection: Wales is empty(0)/Not Empty(1): False\n",
      "The retrieved documents are:\n",
      "0 - Content: Agriculture (Wales) Act 2023\n",
      "2023 asc 4\n",
      "An Act of ... - MetaData: {'year': '2023', 'legislation': 'Acts of Senedd Cymru', 'title': 'Agriculture (Wales) Act 2023.txt', 'legislationType': 'Exclusively or primarily applies to Wales', 'country': 'Wales'}\n"
     ]
    },
    {
     "name": "stderr",
     "output_type": "stream",
     "text": [
      "7it [08:40, 71.95s/it]"
     ]
    },
    {
     "name": "stdout",
     "output_type": "stream",
     "text": [
      "Collection_to_query_from: ['Wales']\n",
      "The Collection: Wales is empty(0)/Not Empty(1): False\n",
      "The retrieved documents are:\n",
      "0 - Content: (1)\n",
      "S.I. 2022/244 (W. 72).\n",
      "\n",
      "Form RHW17 is given ef... - MetaData: {'year': '2023', 'legislation': 'UK Statutory Instruments', 'title': 'The Renting Homes (Miscellaneous Amendments) (Wales) Regulations 2023.txt', 'legislationType': 'May contain legislation that applies to Wales', 'country': 'Wales'}\n"
     ]
    },
    {
     "name": "stderr",
     "output_type": "stream",
     "text": [
      "8it [09:38, 67.43s/it]"
     ]
    },
    {
     "name": "stdout",
     "output_type": "stream",
     "text": [
      "Collection_to_query_from: ['Wales']\n",
      "The Collection: Wales is empty(0)/Not Empty(1): False\n",
      "The retrieved documents are:\n",
      "0 - Content: Additional Learning Needs and Education Tribunal (... - MetaData: {'year': '2018', 'legislation': 'Acts of the National Assembly for Wales', 'title': 'Additional Learning Needs and Education Tribunal (Wales) Act 2018.txt', 'legislationType': 'Exclusively or primarily applies to Wales', 'country': 'Wales'}\n"
     ]
    },
    {
     "name": "stderr",
     "output_type": "stream",
     "text": [
      "9it [10:54, 70.20s/it]"
     ]
    },
    {
     "name": "stdout",
     "output_type": "stream",
     "text": [
      "Collection_to_query_from: ['Wales']\n",
      "The Collection: Wales is empty(0)/Not Empty(1): False\n",
      "The retrieved documents are:\n",
      "0 - Content: WELSH STATUTORY INSTRUMENTS\n",
      "2021 No. 7 (W. 3) (C. ... - MetaData: {'year': '2021', 'legislation': 'Wales Statutory Instruments', 'title': 'The Planning (Wales) Act 2015 (Commencement No. 7) Order 2021.txt', 'legislationType': 'Exclusively or primarily applies to Wales', 'country': 'Wales'}\n"
     ]
    },
    {
     "name": "stderr",
     "output_type": "stream",
     "text": [
      "10it [12:20, 75.26s/it]"
     ]
    },
    {
     "name": "stdout",
     "output_type": "stream",
     "text": [
      "Collection_to_query_from: ['NothernIreland']\n",
      "The Collection: NothernIreland is empty(0)/Not Empty(1): False\n",
      "The retrieved documents are:\n",
      "0 - Content: No L312, 22.11.2008, p. 3) (“the Waste Framework D... - MetaData: {'title': 'The Waste (Circular Economy) (Amendment) Regulations (Northern Ireland) 2020.txt', 'legislation': 'Northern Ireland Statutory Rules', 'legislationType': 'Exclusively or primarily applies to NothernIreland', 'year': '2020', 'country': 'NothernIreland'}\n"
     ]
    },
    {
     "name": "stderr",
     "output_type": "stream",
     "text": [
      "11it [13:27, 72.61s/it]"
     ]
    },
    {
     "name": "stdout",
     "output_type": "stream",
     "text": [
      "Collection_to_query_from: ['NothernIreland']\n",
      "The Collection: NothernIreland is empty(0)/Not Empty(1): False\n",
      "The retrieved documents are:\n",
      "0 - Content: STATUTORY RULES OF NORTHERN IRELAND\n",
      "2023 No. 197\n",
      "F... - MetaData: {'title': 'The Fair Employment (Specification of Public Authorities) (Amendment) Order (Northern Ireland) 2023.txt', 'legislation': 'Northern Ireland Statutory Rules', 'legislationType': 'Exclusively or primarily applies to NothernIreland', 'year': '2023', 'country': 'NothernIreland'}\n"
     ]
    },
    {
     "name": "stderr",
     "output_type": "stream",
     "text": [
      "12it [14:48, 75.09s/it]"
     ]
    },
    {
     "name": "stdout",
     "output_type": "stream",
     "text": [
      "Collection_to_query_from: ['NothernIreland']\n",
      "The Collection: NothernIreland is empty(0)/Not Empty(1): False\n",
      "The retrieved documents are:\n",
      "0 - Content: The Directives were previously implemented for suc... - MetaData: {'title': 'The Offshore Oil and Gas Exploration, Production, Unloading and Storage (Environmental Impact Assessment) Regulations 2020.txt', 'legislation': 'UK Statutory Instruments', 'legislationType': 'May contain legislation that applies to NothernIreland', 'year': '2020', 'country': 'NothernIreland'}\n"
     ]
    },
    {
     "name": "stderr",
     "output_type": "stream",
     "text": [
      "13it [15:35, 66.58s/it]"
     ]
    },
    {
     "name": "stdout",
     "output_type": "stream",
     "text": [
      "Collection_to_query_from: ['Uk', 'NothernIreland']\n",
      "The Collection: Uk is empty(0)/Not Empty(1): False\n",
      "The retrieved documents are:\n",
      "0 - Content: (5)\n",
      "Subsection (1) does not limit the circumstance... - MetaData: {'title': 'Healthcare (International Arrangements) Act 2019.txt', 'legislation': 'UK Public General Acts', 'legislationType': 'Exclusively or primarily applies to UK', 'year': '2019', 'country': 'Uk'}\n",
      "The Collection: NothernIreland is empty(0)/Not Empty(1): False\n",
      "The retrieved documents are:\n",
      "0 - Content: (5)\n",
      "Subsection (1) does not limit the circumstance... - MetaData: {'title': 'Healthcare (International Arrangements) Act 2019.txt', 'legislation': 'UK Public General Acts', 'legislationType': 'May contain legislation that applies to NothernIreland', 'year': '2019', 'country': 'NothernIreland'}\n"
     ]
    },
    {
     "name": "stderr",
     "output_type": "stream",
     "text": [
      "14it [17:27, 80.30s/it]"
     ]
    },
    {
     "name": "stdout",
     "output_type": "stream",
     "text": [
      "Collection_to_query_from: ['NothernIreland']\n",
      "The Collection: NothernIreland is empty(0)/Not Empty(1): False\n",
      "The retrieved documents are:\n",
      "0 - Content: (3)\n",
      "Section 2(2) and Schedule 1 (amendments of the... - MetaData: {'year': '2022', 'legislation': 'UK Public General Acts', 'legislationType': 'May contain legislation that applies to NothernIreland', 'title': 'Building Safety Act 2022.txt', 'country': 'NothernIreland'}\n"
     ]
    },
    {
     "name": "stderr",
     "output_type": "stream",
     "text": [
      "15it [18:29, 74.90s/it]"
     ]
    },
    {
     "name": "stdout",
     "output_type": "stream",
     "text": [
      "Collection_to_query_from: ['Scotland']\n",
      "The Collection: Scotland is empty(0)/Not Empty(1): False\n",
      "The retrieved documents are:\n",
      "0 - Content: SCOTTISH STATUTORY INSTRUMENTS\n",
      "2018 No. 140\n",
      "LAND R... - MetaData: {'year': '2018', 'legislation': 'Scottish Statutory Instruments', 'title': 'The Community Right to Buy (Abandoned, Neglected or Detrimental Land) (Applications, Ballots and Miscellaneous Provisions) (Scotland) Regulations 2018.txt', 'legislationType': 'Exclusively or primarily applies to Scotland', 'country': 'Scotland'}\n"
     ]
    },
    {
     "name": "stderr",
     "output_type": "stream",
     "text": [
      "16it [19:14, 65.86s/it]"
     ]
    },
    {
     "name": "stdout",
     "output_type": "stream",
     "text": [
      "Collection_to_query_from: ['Scotland']\n",
      "The Collection: Scotland is empty(0)/Not Empty(1): False\n",
      "The retrieved documents are:\n",
      "0 - Content: SCOTTISH STATUTORY INSTRUMENTS\n",
      "2021 No. 471\n",
      "EQUAL ... - MetaData: {'title': 'The Equality Act 2010 (Specification of Public Authorities) (Scotland) Order 2021.txt', 'legislation': 'Scottish Statutory Instruments', 'legislationType': 'Exclusively or primarily applies to Scotland', 'year': '2021', 'country': 'Scotland'}\n"
     ]
    },
    {
     "name": "stderr",
     "output_type": "stream",
     "text": [
      "17it [20:16, 64.54s/it]"
     ]
    },
    {
     "name": "stdout",
     "output_type": "stream",
     "text": [
      "Collection_to_query_from: ['Scotland']\n",
      "The Collection: Scotland is empty(0)/Not Empty(1): False\n",
      "The retrieved documents are:\n",
      "0 - Content: Cost of Living (Tenant Protection) (Scotland) Act ... - MetaData: {'legislationType': 'Exclusively or primarily applies to Scotland', 'legislation': 'Acts of the Scottish Parliament', 'year': '2022', 'title': 'Cost of Living (Tenant Protection) (Scotland) Act 2022.txt', 'country': 'Scotland'}\n"
     ]
    },
    {
     "name": "stderr",
     "output_type": "stream",
     "text": [
      "18it [21:22, 64.99s/it]"
     ]
    },
    {
     "name": "stdout",
     "output_type": "stream",
     "text": [
      "Collection_to_query_from: ['Scotland']\n",
      "The Collection: Scotland is empty(0)/Not Empty(1): False\n",
      "The retrieved documents are:\n",
      "0 - Content: SCOTTISH STATUTORY INSTRUMENTS\n",
      "2020\n",
      "\n",
      "No. 66 (C. 4)... - MetaData: {'year': '2020', 'legislation': 'Scottish Statutory Instruments', 'legislationType': 'Exclusively or primarily applies to Scotland', 'title': 'The Climate Change (Emissions Reduction Targets) (Scotland) Act 2019 (Commencement) Regulations 2020.txt', 'country': 'Scotland'}\n"
     ]
    },
    {
     "name": "stderr",
     "output_type": "stream",
     "text": [
      "19it [22:19, 62.68s/it]"
     ]
    },
    {
     "name": "stdout",
     "output_type": "stream",
     "text": [
      "Collection_to_query_from: ['Uk', 'Scotland']\n",
      "The Collection: Uk is empty(0)/Not Empty(1): False\n",
      "The retrieved documents are:\n",
      "0 - Content: For article 7 of the Scottish Parliamentary Corpor... - MetaData: {'year': '2018', 'legislation': 'UK Public General Acts', 'title': 'Data Protection Act 2018.txt', 'legislationType': 'Exclusively or primarily applies to UK', 'country': 'Uk'}\n",
      "The Collection: Scotland is empty(0)/Not Empty(1): False\n",
      "The retrieved documents are:\n",
      "0 - Content: For article 7 of the Scottish Parliamentary Corpor... - MetaData: {'year': '2018', 'legislation': 'UK Public General Acts', 'title': 'Data Protection Act 2018.txt', 'legislationType': 'May contain legislation that applies to Scotland', 'country': 'Scotland'}\n"
     ]
    },
    {
     "name": "stderr",
     "output_type": "stream",
     "text": [
      "20it [24:40, 74.04s/it]\n"
     ]
    }
   ],
   "source": [
    "# responses = []\n",
    "# for idxrow, row in tqdm(df.iterrows()):\n",
    "#     country = row['Country']\n",
    "#     prompt = row['Question']\n",
    "#     response = bot.query(query=country+' '+prompt, k=1, search_type='Hybrid')\n",
    "#     responses.append(response)"
   ]
  },
  {
   "cell_type": "code",
   "execution_count": 7,
   "metadata": {},
   "outputs": [
    {
     "data": {
      "text/html": [
       "<div>\n",
       "<style scoped>\n",
       "    .dataframe tbody tr th:only-of-type {\n",
       "        vertical-align: middle;\n",
       "    }\n",
       "\n",
       "    .dataframe tbody tr th {\n",
       "        vertical-align: top;\n",
       "    }\n",
       "\n",
       "    .dataframe thead th {\n",
       "        text-align: right;\n",
       "    }\n",
       "</style>\n",
       "<table border=\"1\" class=\"dataframe\">\n",
       "  <thead>\n",
       "    <tr style=\"text-align: right;\">\n",
       "      <th></th>\n",
       "      <th>Country</th>\n",
       "      <th>Question</th>\n",
       "      <th>Actual Answer</th>\n",
       "      <th>Response</th>\n",
       "    </tr>\n",
       "  </thead>\n",
       "  <tbody>\n",
       "    <tr>\n",
       "      <th>0</th>\n",
       "      <td>uk</td>\n",
       "      <td>In the context of the Environmental Protection...</td>\n",
       "      <td>The Environmental Land Management (ELM) scheme...</td>\n",
       "      <td>The provided text focuses on environmental reg...</td>\n",
       "    </tr>\n",
       "    <tr>\n",
       "      <th>1</th>\n",
       "      <td>uk</td>\n",
       "      <td>Under the Employment Rights Act 1996, as amend...</td>\n",
       "      <td>The Employment Rights Act 1996, as amended by ...</td>\n",
       "      <td>Under the Employment Rights Act 1996 as amende...</td>\n",
       "    </tr>\n",
       "    <tr>\n",
       "      <th>2</th>\n",
       "      <td>uk</td>\n",
       "      <td>In light of the Data Protection Act 2018, inco...</td>\n",
       "      <td>The situation described involves potential bre...</td>\n",
       "      <td>Under the UK Data Protection Act 2018 (DPA), t...</td>\n",
       "    </tr>\n",
       "    <tr>\n",
       "      <th>3</th>\n",
       "      <td>uk</td>\n",
       "      <td>Following the passage of the Renters' Reform B...</td>\n",
       "      <td>The Renters' Reform Bill, expected to receive ...</td>\n",
       "      <td>The passage you provided focuses on the Leaseh...</td>\n",
       "    </tr>\n",
       "    <tr>\n",
       "      <th>4</th>\n",
       "      <td>uk</td>\n",
       "      <td>Under the Building Safety Act 2022, a construc...</td>\n",
       "      <td>The Building Safety Act 2022 introduces string...</td>\n",
       "      <td>The Building Safety Act 2022 specifically addr...</td>\n",
       "    </tr>\n",
       "    <tr>\n",
       "      <th>5</th>\n",
       "      <td>Wales</td>\n",
       "      <td>In light of the Welsh Language (Wales) Measure...</td>\n",
       "      <td>The Welsh Language (Wales) Measure 2011 establ...</td>\n",
       "      <td>Public bodies in Wales are required to accommo...</td>\n",
       "    </tr>\n",
       "    <tr>\n",
       "      <th>6</th>\n",
       "      <td>Wales</td>\n",
       "      <td>Considering the Environment (Wales) Act 2016 a...</td>\n",
       "      <td>The Environment (Wales) Act 2016 and the Agric...</td>\n",
       "      <td>The provided text focuses on the \"Agriculture ...</td>\n",
       "    </tr>\n",
       "    <tr>\n",
       "      <th>7</th>\n",
       "      <td>Wales</td>\n",
       "      <td>Under the Renting Homes (Wales) Act 2016, as a...</td>\n",
       "      <td>The Renting Homes (Wales) Act 2016, amended by...</td>\n",
       "      <td>The Renting Homes (Wales) Act 2016 introduced ...</td>\n",
       "    </tr>\n",
       "    <tr>\n",
       "      <th>8</th>\n",
       "      <td>Wales</td>\n",
       "      <td>Following the implementation of the Additional...</td>\n",
       "      <td>The Additional Learning Needs and Education Tr...</td>\n",
       "      <td>The Additional Learning Needs and Education Tr...</td>\n",
       "    </tr>\n",
       "    <tr>\n",
       "      <th>9</th>\n",
       "      <td>Wales</td>\n",
       "      <td>In the context of the Planning (Wales) Act 201...</td>\n",
       "      <td>The Planning (Wales) Act 2015 and the Well-bei...</td>\n",
       "      <td>The Planning (Wales) Act 2015, along with the ...</td>\n",
       "    </tr>\n",
       "    <tr>\n",
       "      <th>10</th>\n",
       "      <td>NothernIreland</td>\n",
       "      <td>In light of the Environment (Northern Ireland)...</td>\n",
       "      <td>The Environment (Northern Ireland) Order 2002,...</td>\n",
       "      <td>The provided context focuses on amending legis...</td>\n",
       "    </tr>\n",
       "    <tr>\n",
       "      <th>11</th>\n",
       "      <td>NothernIreland</td>\n",
       "      <td>With reference to the Employment (Northern Ire...</td>\n",
       "      <td>The Employment (Northern Ireland) Order 2003, ...</td>\n",
       "      <td>The provided text focuses on the \"Fair Employm...</td>\n",
       "    </tr>\n",
       "    <tr>\n",
       "      <th>12</th>\n",
       "      <td>NothernIreland</td>\n",
       "      <td>Under the Planning Act (Northern Ireland) 2011...</td>\n",
       "      <td>The Planning Act (Northern Ireland) 2011, as a...</td>\n",
       "      <td>Based on the provided text, developers in Nort...</td>\n",
       "    </tr>\n",
       "    <tr>\n",
       "      <th>13</th>\n",
       "      <td>NothernIreland</td>\n",
       "      <td>In the context of the Data Protection Act 2018...</td>\n",
       "      <td>The Data Protection Act 2018, in conjunction w...</td>\n",
       "      <td>Public sector organizations in Northern Irelan...</td>\n",
       "    </tr>\n",
       "    <tr>\n",
       "      <th>14</th>\n",
       "      <td>NothernIreland</td>\n",
       "      <td>Considering the Health and Safety at Work (Nor...</td>\n",
       "      <td>The Health and Safety at Work (Northern Irelan...</td>\n",
       "      <td>Based on the context provided, I can tell you ...</td>\n",
       "    </tr>\n",
       "    <tr>\n",
       "      <th>15</th>\n",
       "      <td>Scotland</td>\n",
       "      <td>With reference to the Land Reform (Scotland) A...</td>\n",
       "      <td>The Land Reform (Scotland) Act 2016, along wit...</td>\n",
       "      <td>The provided context focuses on the \"Community...</td>\n",
       "    </tr>\n",
       "    <tr>\n",
       "      <th>16</th>\n",
       "      <td>Scotland</td>\n",
       "      <td>In the context of the Fair Work Framework (Sco...</td>\n",
       "      <td>The Fair Work Framework (Scotland) 2016, reinf...</td>\n",
       "      <td>The information provided focuses on the Equali...</td>\n",
       "    </tr>\n",
       "    <tr>\n",
       "      <th>17</th>\n",
       "      <td>Scotland</td>\n",
       "      <td>Under the Private Housing (Tenancies) (Scotlan...</td>\n",
       "      <td>The Private Housing (Tenancies) (Scotland) Act...</td>\n",
       "      <td>The provided context focuses on the Cost of Li...</td>\n",
       "    </tr>\n",
       "    <tr>\n",
       "      <th>18</th>\n",
       "      <td>Scotland</td>\n",
       "      <td>Considering the Planning (Scotland) Act 2019 a...</td>\n",
       "      <td>The Planning (Scotland) Act 2019, alongside th...</td>\n",
       "      <td>According to the provided text, planning autho...</td>\n",
       "    </tr>\n",
       "    <tr>\n",
       "      <th>19</th>\n",
       "      <td>Scotland</td>\n",
       "      <td>In the context of the Data Protection Act 2018...</td>\n",
       "      <td>The Data Protection Act 2018, coupled with the...</td>\n",
       "      <td>Public sector organizations in Scotland, under...</td>\n",
       "    </tr>\n",
       "  </tbody>\n",
       "</table>\n",
       "</div>"
      ],
      "text/plain": [
       "           Country                                           Question  \\\n",
       "0               uk  In the context of the Environmental Protection...   \n",
       "1               uk  Under the Employment Rights Act 1996, as amend...   \n",
       "2               uk  In light of the Data Protection Act 2018, inco...   \n",
       "3               uk  Following the passage of the Renters' Reform B...   \n",
       "4               uk  Under the Building Safety Act 2022, a construc...   \n",
       "5            Wales  In light of the Welsh Language (Wales) Measure...   \n",
       "6            Wales  Considering the Environment (Wales) Act 2016 a...   \n",
       "7            Wales  Under the Renting Homes (Wales) Act 2016, as a...   \n",
       "8            Wales  Following the implementation of the Additional...   \n",
       "9            Wales  In the context of the Planning (Wales) Act 201...   \n",
       "10  NothernIreland  In light of the Environment (Northern Ireland)...   \n",
       "11  NothernIreland  With reference to the Employment (Northern Ire...   \n",
       "12  NothernIreland  Under the Planning Act (Northern Ireland) 2011...   \n",
       "13  NothernIreland  In the context of the Data Protection Act 2018...   \n",
       "14  NothernIreland  Considering the Health and Safety at Work (Nor...   \n",
       "15        Scotland  With reference to the Land Reform (Scotland) A...   \n",
       "16        Scotland  In the context of the Fair Work Framework (Sco...   \n",
       "17        Scotland  Under the Private Housing (Tenancies) (Scotlan...   \n",
       "18        Scotland  Considering the Planning (Scotland) Act 2019 a...   \n",
       "19        Scotland  In the context of the Data Protection Act 2018...   \n",
       "\n",
       "                                        Actual Answer  \\\n",
       "0   The Environmental Land Management (ELM) scheme...   \n",
       "1   The Employment Rights Act 1996, as amended by ...   \n",
       "2   The situation described involves potential bre...   \n",
       "3   The Renters' Reform Bill, expected to receive ...   \n",
       "4   The Building Safety Act 2022 introduces string...   \n",
       "5   The Welsh Language (Wales) Measure 2011 establ...   \n",
       "6   The Environment (Wales) Act 2016 and the Agric...   \n",
       "7   The Renting Homes (Wales) Act 2016, amended by...   \n",
       "8   The Additional Learning Needs and Education Tr...   \n",
       "9   The Planning (Wales) Act 2015 and the Well-bei...   \n",
       "10  The Environment (Northern Ireland) Order 2002,...   \n",
       "11  The Employment (Northern Ireland) Order 2003, ...   \n",
       "12  The Planning Act (Northern Ireland) 2011, as a...   \n",
       "13  The Data Protection Act 2018, in conjunction w...   \n",
       "14  The Health and Safety at Work (Northern Irelan...   \n",
       "15  The Land Reform (Scotland) Act 2016, along wit...   \n",
       "16  The Fair Work Framework (Scotland) 2016, reinf...   \n",
       "17  The Private Housing (Tenancies) (Scotland) Act...   \n",
       "18  The Planning (Scotland) Act 2019, alongside th...   \n",
       "19  The Data Protection Act 2018, coupled with the...   \n",
       "\n",
       "                                             Response  \n",
       "0   The provided text focuses on environmental reg...  \n",
       "1   Under the Employment Rights Act 1996 as amende...  \n",
       "2   Under the UK Data Protection Act 2018 (DPA), t...  \n",
       "3   The passage you provided focuses on the Leaseh...  \n",
       "4   The Building Safety Act 2022 specifically addr...  \n",
       "5   Public bodies in Wales are required to accommo...  \n",
       "6   The provided text focuses on the \"Agriculture ...  \n",
       "7   The Renting Homes (Wales) Act 2016 introduced ...  \n",
       "8   The Additional Learning Needs and Education Tr...  \n",
       "9   The Planning (Wales) Act 2015, along with the ...  \n",
       "10  The provided context focuses on amending legis...  \n",
       "11  The provided text focuses on the \"Fair Employm...  \n",
       "12  Based on the provided text, developers in Nort...  \n",
       "13  Public sector organizations in Northern Irelan...  \n",
       "14  Based on the context provided, I can tell you ...  \n",
       "15  The provided context focuses on the \"Community...  \n",
       "16  The information provided focuses on the Equali...  \n",
       "17  The provided context focuses on the Cost of Li...  \n",
       "18  According to the provided text, planning autho...  \n",
       "19  Public sector organizations in Scotland, under...  "
      ]
     },
     "execution_count": 7,
     "metadata": {},
     "output_type": "execute_result"
    }
   ],
   "source": [
    "# df['Response'] = responses\n",
    "# df.to_csv('./RAG_Bot_Responses.csv', index=False)\n",
    "# df"
   ]
  },
  {
   "cell_type": "markdown",
   "metadata": {},
   "source": [
    "# Now Getting the Metric Values"
   ]
  },
  {
   "cell_type": "code",
   "execution_count": 3,
   "metadata": {},
   "outputs": [
    {
     "data": {
      "text/html": [
       "<div>\n",
       "<style scoped>\n",
       "    .dataframe tbody tr th:only-of-type {\n",
       "        vertical-align: middle;\n",
       "    }\n",
       "\n",
       "    .dataframe tbody tr th {\n",
       "        vertical-align: top;\n",
       "    }\n",
       "\n",
       "    .dataframe thead th {\n",
       "        text-align: right;\n",
       "    }\n",
       "</style>\n",
       "<table border=\"1\" class=\"dataframe\">\n",
       "  <thead>\n",
       "    <tr style=\"text-align: right;\">\n",
       "      <th></th>\n",
       "      <th>Country</th>\n",
       "      <th>Question</th>\n",
       "      <th>Actual Answer</th>\n",
       "      <th>Response</th>\n",
       "    </tr>\n",
       "  </thead>\n",
       "  <tbody>\n",
       "    <tr>\n",
       "      <th>0</th>\n",
       "      <td>uk</td>\n",
       "      <td>In the context of the Environmental Protection...</td>\n",
       "      <td>The Environmental Land Management (ELM) scheme...</td>\n",
       "      <td>The provided text focuses on environmental reg...</td>\n",
       "    </tr>\n",
       "    <tr>\n",
       "      <th>1</th>\n",
       "      <td>uk</td>\n",
       "      <td>Under the Employment Rights Act 1996, as amend...</td>\n",
       "      <td>The Employment Rights Act 1996, as amended by ...</td>\n",
       "      <td>Under the Employment Rights Act 1996 as amende...</td>\n",
       "    </tr>\n",
       "    <tr>\n",
       "      <th>2</th>\n",
       "      <td>uk</td>\n",
       "      <td>In light of the Data Protection Act 2018, inco...</td>\n",
       "      <td>The situation described involves potential bre...</td>\n",
       "      <td>Under the UK Data Protection Act 2018 (DPA), t...</td>\n",
       "    </tr>\n",
       "    <tr>\n",
       "      <th>3</th>\n",
       "      <td>uk</td>\n",
       "      <td>Following the passage of the Renters' Reform B...</td>\n",
       "      <td>The Renters' Reform Bill, expected to receive ...</td>\n",
       "      <td>The passage you provided focuses on the Leaseh...</td>\n",
       "    </tr>\n",
       "    <tr>\n",
       "      <th>4</th>\n",
       "      <td>uk</td>\n",
       "      <td>Under the Building Safety Act 2022, a construc...</td>\n",
       "      <td>The Building Safety Act 2022 introduces string...</td>\n",
       "      <td>The Building Safety Act 2022 specifically addr...</td>\n",
       "    </tr>\n",
       "    <tr>\n",
       "      <th>5</th>\n",
       "      <td>Wales</td>\n",
       "      <td>In light of the Welsh Language (Wales) Measure...</td>\n",
       "      <td>The Welsh Language (Wales) Measure 2011 establ...</td>\n",
       "      <td>Public bodies in Wales are required to accommo...</td>\n",
       "    </tr>\n",
       "    <tr>\n",
       "      <th>6</th>\n",
       "      <td>Wales</td>\n",
       "      <td>Considering the Environment (Wales) Act 2016 a...</td>\n",
       "      <td>The Environment (Wales) Act 2016 and the Agric...</td>\n",
       "      <td>The provided text focuses on the \"Agriculture ...</td>\n",
       "    </tr>\n",
       "    <tr>\n",
       "      <th>7</th>\n",
       "      <td>Wales</td>\n",
       "      <td>Under the Renting Homes (Wales) Act 2016, as a...</td>\n",
       "      <td>The Renting Homes (Wales) Act 2016, amended by...</td>\n",
       "      <td>The Renting Homes (Wales) Act 2016 introduced ...</td>\n",
       "    </tr>\n",
       "    <tr>\n",
       "      <th>8</th>\n",
       "      <td>Wales</td>\n",
       "      <td>Following the implementation of the Additional...</td>\n",
       "      <td>The Additional Learning Needs and Education Tr...</td>\n",
       "      <td>The Additional Learning Needs and Education Tr...</td>\n",
       "    </tr>\n",
       "    <tr>\n",
       "      <th>9</th>\n",
       "      <td>Wales</td>\n",
       "      <td>In the context of the Planning (Wales) Act 201...</td>\n",
       "      <td>The Planning (Wales) Act 2015 and the Well-bei...</td>\n",
       "      <td>The Planning (Wales) Act 2015, along with the ...</td>\n",
       "    </tr>\n",
       "    <tr>\n",
       "      <th>10</th>\n",
       "      <td>NothernIreland</td>\n",
       "      <td>In light of the Environment (Northern Ireland)...</td>\n",
       "      <td>The Environment (Northern Ireland) Order 2002,...</td>\n",
       "      <td>The provided context focuses on amending legis...</td>\n",
       "    </tr>\n",
       "    <tr>\n",
       "      <th>11</th>\n",
       "      <td>NothernIreland</td>\n",
       "      <td>With reference to the Employment (Northern Ire...</td>\n",
       "      <td>The Employment (Northern Ireland) Order 2003, ...</td>\n",
       "      <td>The provided text focuses on the \"Fair Employm...</td>\n",
       "    </tr>\n",
       "    <tr>\n",
       "      <th>12</th>\n",
       "      <td>NothernIreland</td>\n",
       "      <td>Under the Planning Act (Northern Ireland) 2011...</td>\n",
       "      <td>The Planning Act (Northern Ireland) 2011, as a...</td>\n",
       "      <td>Based on the provided text, developers in Nort...</td>\n",
       "    </tr>\n",
       "    <tr>\n",
       "      <th>13</th>\n",
       "      <td>NothernIreland</td>\n",
       "      <td>In the context of the Data Protection Act 2018...</td>\n",
       "      <td>The Data Protection Act 2018, in conjunction w...</td>\n",
       "      <td>Public sector organizations in Northern Irelan...</td>\n",
       "    </tr>\n",
       "    <tr>\n",
       "      <th>14</th>\n",
       "      <td>NothernIreland</td>\n",
       "      <td>Considering the Health and Safety at Work (Nor...</td>\n",
       "      <td>The Health and Safety at Work (Northern Irelan...</td>\n",
       "      <td>Based on the context provided, I can tell you ...</td>\n",
       "    </tr>\n",
       "    <tr>\n",
       "      <th>15</th>\n",
       "      <td>Scotland</td>\n",
       "      <td>With reference to the Land Reform (Scotland) A...</td>\n",
       "      <td>The Land Reform (Scotland) Act 2016, along wit...</td>\n",
       "      <td>The provided context focuses on the \"Community...</td>\n",
       "    </tr>\n",
       "    <tr>\n",
       "      <th>16</th>\n",
       "      <td>Scotland</td>\n",
       "      <td>In the context of the Fair Work Framework (Sco...</td>\n",
       "      <td>The Fair Work Framework (Scotland) 2016, reinf...</td>\n",
       "      <td>The information provided focuses on the Equali...</td>\n",
       "    </tr>\n",
       "    <tr>\n",
       "      <th>17</th>\n",
       "      <td>Scotland</td>\n",
       "      <td>Under the Private Housing (Tenancies) (Scotlan...</td>\n",
       "      <td>The Private Housing (Tenancies) (Scotland) Act...</td>\n",
       "      <td>The provided context focuses on the Cost of Li...</td>\n",
       "    </tr>\n",
       "    <tr>\n",
       "      <th>18</th>\n",
       "      <td>Scotland</td>\n",
       "      <td>Considering the Planning (Scotland) Act 2019 a...</td>\n",
       "      <td>The Planning (Scotland) Act 2019, alongside th...</td>\n",
       "      <td>According to the provided text, planning autho...</td>\n",
       "    </tr>\n",
       "    <tr>\n",
       "      <th>19</th>\n",
       "      <td>Scotland</td>\n",
       "      <td>In the context of the Data Protection Act 2018...</td>\n",
       "      <td>The Data Protection Act 2018, coupled with the...</td>\n",
       "      <td>Public sector organizations in Scotland, under...</td>\n",
       "    </tr>\n",
       "  </tbody>\n",
       "</table>\n",
       "</div>"
      ],
      "text/plain": [
       "           Country                                           Question  \\\n",
       "0               uk  In the context of the Environmental Protection...   \n",
       "1               uk  Under the Employment Rights Act 1996, as amend...   \n",
       "2               uk  In light of the Data Protection Act 2018, inco...   \n",
       "3               uk  Following the passage of the Renters' Reform B...   \n",
       "4               uk  Under the Building Safety Act 2022, a construc...   \n",
       "5            Wales  In light of the Welsh Language (Wales) Measure...   \n",
       "6            Wales  Considering the Environment (Wales) Act 2016 a...   \n",
       "7            Wales  Under the Renting Homes (Wales) Act 2016, as a...   \n",
       "8            Wales  Following the implementation of the Additional...   \n",
       "9            Wales  In the context of the Planning (Wales) Act 201...   \n",
       "10  NothernIreland  In light of the Environment (Northern Ireland)...   \n",
       "11  NothernIreland  With reference to the Employment (Northern Ire...   \n",
       "12  NothernIreland  Under the Planning Act (Northern Ireland) 2011...   \n",
       "13  NothernIreland  In the context of the Data Protection Act 2018...   \n",
       "14  NothernIreland  Considering the Health and Safety at Work (Nor...   \n",
       "15        Scotland  With reference to the Land Reform (Scotland) A...   \n",
       "16        Scotland  In the context of the Fair Work Framework (Sco...   \n",
       "17        Scotland  Under the Private Housing (Tenancies) (Scotlan...   \n",
       "18        Scotland  Considering the Planning (Scotland) Act 2019 a...   \n",
       "19        Scotland  In the context of the Data Protection Act 2018...   \n",
       "\n",
       "                                        Actual Answer  \\\n",
       "0   The Environmental Land Management (ELM) scheme...   \n",
       "1   The Employment Rights Act 1996, as amended by ...   \n",
       "2   The situation described involves potential bre...   \n",
       "3   The Renters' Reform Bill, expected to receive ...   \n",
       "4   The Building Safety Act 2022 introduces string...   \n",
       "5   The Welsh Language (Wales) Measure 2011 establ...   \n",
       "6   The Environment (Wales) Act 2016 and the Agric...   \n",
       "7   The Renting Homes (Wales) Act 2016, amended by...   \n",
       "8   The Additional Learning Needs and Education Tr...   \n",
       "9   The Planning (Wales) Act 2015 and the Well-bei...   \n",
       "10  The Environment (Northern Ireland) Order 2002,...   \n",
       "11  The Employment (Northern Ireland) Order 2003, ...   \n",
       "12  The Planning Act (Northern Ireland) 2011, as a...   \n",
       "13  The Data Protection Act 2018, in conjunction w...   \n",
       "14  The Health and Safety at Work (Northern Irelan...   \n",
       "15  The Land Reform (Scotland) Act 2016, along wit...   \n",
       "16  The Fair Work Framework (Scotland) 2016, reinf...   \n",
       "17  The Private Housing (Tenancies) (Scotland) Act...   \n",
       "18  The Planning (Scotland) Act 2019, alongside th...   \n",
       "19  The Data Protection Act 2018, coupled with the...   \n",
       "\n",
       "                                             Response  \n",
       "0   The provided text focuses on environmental reg...  \n",
       "1   Under the Employment Rights Act 1996 as amende...  \n",
       "2   Under the UK Data Protection Act 2018 (DPA), t...  \n",
       "3   The passage you provided focuses on the Leaseh...  \n",
       "4   The Building Safety Act 2022 specifically addr...  \n",
       "5   Public bodies in Wales are required to accommo...  \n",
       "6   The provided text focuses on the \"Agriculture ...  \n",
       "7   The Renting Homes (Wales) Act 2016 introduced ...  \n",
       "8   The Additional Learning Needs and Education Tr...  \n",
       "9   The Planning (Wales) Act 2015, along with the ...  \n",
       "10  The provided context focuses on amending legis...  \n",
       "11  The provided text focuses on the \"Fair Employm...  \n",
       "12  Based on the provided text, developers in Nort...  \n",
       "13  Public sector organizations in Northern Irelan...  \n",
       "14  Based on the context provided, I can tell you ...  \n",
       "15  The provided context focuses on the \"Community...  \n",
       "16  The information provided focuses on the Equali...  \n",
       "17  The provided context focuses on the Cost of Li...  \n",
       "18  According to the provided text, planning autho...  \n",
       "19  Public sector organizations in Scotland, under...  "
      ]
     },
     "execution_count": 3,
     "metadata": {},
     "output_type": "execute_result"
    }
   ],
   "source": [
    "df = pd.read_csv('./RAG_Bot_Responses.csv')\n",
    "df"
   ]
  },
  {
   "cell_type": "code",
   "execution_count": 21,
   "metadata": {},
   "outputs": [
    {
     "name": "stderr",
     "output_type": "stream",
     "text": [
      "Evaluating: 100%|██████████| 2/2 [00:16<00:00,  8.14s/it]\n"
     ]
    },
    {
     "name": "stdout",
     "output_type": "stream",
     "text": [
      "{'faithfulness': 0.2500, 'answer_relevancy': 0.0000}\n"
     ]
    },
    {
     "name": "stderr",
     "output_type": "stream",
     "text": [
      "Evaluating: 100%|██████████| 2/2 [00:17<00:00,  8.73s/it]\n"
     ]
    },
    {
     "name": "stdout",
     "output_type": "stream",
     "text": [
      "{'faithfulness': 0.5238, 'answer_relevancy': 0.9389}\n"
     ]
    },
    {
     "name": "stderr",
     "output_type": "stream",
     "text": [
      "Evaluating: 100%|██████████| 2/2 [00:17<00:00,  8.86s/it]\n"
     ]
    },
    {
     "name": "stdout",
     "output_type": "stream",
     "text": [
      "{'faithfulness': 0.5000, 'answer_relevancy': 0.9378}\n"
     ]
    },
    {
     "name": "stderr",
     "output_type": "stream",
     "text": [
      "Evaluating: 100%|██████████| 2/2 [00:13<00:00,  6.57s/it]\n"
     ]
    },
    {
     "name": "stdout",
     "output_type": "stream",
     "text": [
      "{'faithfulness': 0.0000, 'answer_relevancy': 0.0000}\n"
     ]
    },
    {
     "name": "stderr",
     "output_type": "stream",
     "text": [
      "Evaluating: 100%|██████████| 2/2 [00:09<00:00,  4.81s/it]\n"
     ]
    },
    {
     "name": "stdout",
     "output_type": "stream",
     "text": [
      "{'faithfulness': 0.5833, 'answer_relevancy': 0.9340}\n"
     ]
    },
    {
     "name": "stderr",
     "output_type": "stream",
     "text": [
      "Evaluating: 100%|██████████| 2/2 [00:08<00:00,  4.37s/it]\n"
     ]
    },
    {
     "name": "stdout",
     "output_type": "stream",
     "text": [
      "{'faithfulness': 0.4545, 'answer_relevancy': 0.9145}\n"
     ]
    },
    {
     "name": "stderr",
     "output_type": "stream",
     "text": [
      "Evaluating: 100%|██████████| 2/2 [00:15<00:00,  7.76s/it]\n"
     ]
    },
    {
     "name": "stdout",
     "output_type": "stream",
     "text": [
      "{'faithfulness': 0.0000, 'answer_relevancy': 0.0000}\n"
     ]
    },
    {
     "name": "stderr",
     "output_type": "stream",
     "text": [
      "Evaluating: 100%|██████████| 2/2 [00:13<00:00,  6.52s/it]\n"
     ]
    },
    {
     "name": "stdout",
     "output_type": "stream",
     "text": [
      "{'faithfulness': 0.5217, 'answer_relevancy': 0.9108}\n"
     ]
    },
    {
     "name": "stderr",
     "output_type": "stream",
     "text": [
      "Evaluating: 100%|██████████| 2/2 [00:12<00:00,  6.10s/it]\n"
     ]
    },
    {
     "name": "stdout",
     "output_type": "stream",
     "text": [
      "{'faithfulness': 0.4000, 'answer_relevancy': 0.9404}\n"
     ]
    },
    {
     "name": "stderr",
     "output_type": "stream",
     "text": [
      "Evaluating: 100%|██████████| 2/2 [00:16<00:00,  8.12s/it]\n"
     ]
    },
    {
     "name": "stdout",
     "output_type": "stream",
     "text": [
      "{'faithfulness': 0.6538, 'answer_relevancy': 0.9276}\n"
     ]
    },
    {
     "name": "stderr",
     "output_type": "stream",
     "text": [
      "Evaluating: 100%|██████████| 2/2 [00:13<00:00,  6.64s/it]\n"
     ]
    },
    {
     "name": "stdout",
     "output_type": "stream",
     "text": [
      "{'faithfulness': 0.0000, 'answer_relevancy': 0.9377}\n"
     ]
    },
    {
     "name": "stderr",
     "output_type": "stream",
     "text": [
      "Evaluating: 100%|██████████| 2/2 [00:15<00:00,  7.76s/it]\n"
     ]
    },
    {
     "name": "stdout",
     "output_type": "stream",
     "text": [
      "{'faithfulness': 0.0476, 'answer_relevancy': 0.8933}\n"
     ]
    },
    {
     "name": "stderr",
     "output_type": "stream",
     "text": [
      "Evaluating: 100%|██████████| 2/2 [00:15<00:00,  7.53s/it]\n"
     ]
    },
    {
     "name": "stdout",
     "output_type": "stream",
     "text": [
      "{'faithfulness': 0.3333, 'answer_relevancy': 0.9289}\n"
     ]
    },
    {
     "name": "stderr",
     "output_type": "stream",
     "text": [
      "Evaluating: 100%|██████████| 2/2 [00:15<00:00,  7.77s/it]\n"
     ]
    },
    {
     "name": "stdout",
     "output_type": "stream",
     "text": [
      "{'faithfulness': 0.7500, 'answer_relevancy': 0.9483}\n"
     ]
    },
    {
     "name": "stderr",
     "output_type": "stream",
     "text": [
      "Evaluating: 100%|██████████| 2/2 [00:19<00:00,  9.63s/it]\n"
     ]
    },
    {
     "name": "stdout",
     "output_type": "stream",
     "text": [
      "{'faithfulness': 0.0000, 'answer_relevancy': 0.8859}\n"
     ]
    },
    {
     "name": "stderr",
     "output_type": "stream",
     "text": [
      "Evaluating: 100%|██████████| 2/2 [00:15<00:00,  7.53s/it]\n"
     ]
    },
    {
     "name": "stdout",
     "output_type": "stream",
     "text": [
      "{'faithfulness': 0.0000, 'answer_relevancy': 0.9308}\n"
     ]
    },
    {
     "name": "stderr",
     "output_type": "stream",
     "text": [
      "Evaluating: 100%|██████████| 2/2 [00:14<00:00,  7.37s/it]\n"
     ]
    },
    {
     "name": "stdout",
     "output_type": "stream",
     "text": [
      "{'faithfulness': 0.1852, 'answer_relevancy': 0.9258}\n"
     ]
    },
    {
     "name": "stderr",
     "output_type": "stream",
     "text": [
      "Evaluating: 100%|██████████| 2/2 [00:14<00:00,  7.15s/it]\n"
     ]
    },
    {
     "name": "stdout",
     "output_type": "stream",
     "text": [
      "{'faithfulness': 0.2692, 'answer_relevancy': 0.0000}\n"
     ]
    },
    {
     "name": "stderr",
     "output_type": "stream",
     "text": [
      "Evaluating: 100%|██████████| 2/2 [00:12<00:00,  6.06s/it]\n"
     ]
    },
    {
     "name": "stdout",
     "output_type": "stream",
     "text": [
      "{'faithfulness': 0.6471, 'answer_relevancy': 0.9079}\n"
     ]
    },
    {
     "name": "stderr",
     "output_type": "stream",
     "text": [
      "Evaluating: 100%|██████████| 2/2 [00:16<00:00,  8.43s/it]\n"
     ]
    },
    {
     "name": "stdout",
     "output_type": "stream",
     "text": [
      "{'faithfulness': 0.6800, 'answer_relevancy': 0.9451}\n",
      "\n",
      "Mean Value of Faithfulness: 0.33998503774334976\n",
      "Mean Value of Answer Relevancy: 0.740382633925366\n"
     ]
    }
   ],
   "source": [
    "Faithfulness_List = []\n",
    "Answer_Relevancy_List = []\n",
    "for idxdata, data in df.iterrows():\n",
    "    data_sample = {\n",
    "        'question': [data['Question']],\n",
    "        'answer': [data['Actual Answer']],\n",
    "        'contexts': [[data['Response']]],\n",
    "    }\n",
    "    dataset = Dataset.from_dict(data_sample)\n",
    "    score = evaluate(dataset,metrics=[faithfulness, answer_relevancy])\n",
    "    score.to_pandas()\n",
    "    Faithfulness_List.append(score['faithfulness'])\n",
    "    Answer_Relevancy_List.append(score['answer_relevancy'])\n",
    "    print(score)\n",
    "    \n",
    "print(f'\\nMean Value of Faithfulness: {np.mean(Faithfulness_List)}')\n",
    "print(f'Mean Value of Answer Relevancy: {np.mean(Answer_Relevancy_List)}')"
   ]
  }
 ],
 "metadata": {
  "kernelspec": {
   "display_name": "env",
   "language": "python",
   "name": "python3"
  },
  "language_info": {
   "codemirror_mode": {
    "name": "ipython",
    "version": 3
   },
   "file_extension": ".py",
   "mimetype": "text/x-python",
   "name": "python",
   "nbconvert_exporter": "python",
   "pygments_lexer": "ipython3",
   "version": "3.11.6"
  }
 },
 "nbformat": 4,
 "nbformat_minor": 2
}
