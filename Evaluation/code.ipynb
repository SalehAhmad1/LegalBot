{
 "cells": [
  {
   "cell_type": "code",
   "execution_count": 18,
   "metadata": {},
   "outputs": [],
   "source": [
    "import sys\n",
    "sys.path.append('../LegalBot')\n",
    "\n",
    "from RAG_v1 import RAG_Bot\n",
    "\n",
    "import numpy as np\n",
    "import pandas as pd\n",
    "from tqdm import tqdm\n",
    "\n",
    "from ragas.metrics import faithfulness, answer_relevancy, FaithulnesswithHHEM, context_precision, context_recall\n",
    "from nltk.translate.bleu_score import sentence_bleu\n",
    "from ragas import evaluate\n",
    "from datasets import Dataset "
   ]
  },
  {
   "cell_type": "code",
   "execution_count": 9,
   "metadata": {},
   "outputs": [
    {
     "name": "stdout",
     "output_type": "stream",
     "text": [
      "Cluster_URL: https://gwqaighsqp6gtrk8kwmnmg.c0.us-west3.gcp.weaviate.cloud, Cluster_API: 2xKmTTGUawzXYItFrMR9JgTjY2oRkfzHFLWN\n",
      "Creating 4 Weaviate Clusters - Option 3\n",
      "Country.capitalize(): Uk\n",
      "The collection: Uk already exists in the Weaviate Cluster\n",
      "Country.capitalize(): Wales\n",
      "The collection: Wales already exists in the Weaviate Cluster\n",
      "Country.capitalize(): Nothernireland\n",
      "The collection: NothernIreland already exists in the Weaviate Cluster\n",
      "Country.capitalize(): Scotland\n",
      "The collection: Scotland already exists in the Weaviate Cluster\n"
     ]
    }
   ],
   "source": [
    "# collection_names = ['Uk', 'Wales', 'NothernIreland', 'Scotland']\n",
    "# bot = RAG_Bot(collection_names=collection_names, text_splitter='SpaCy', embedding_model=\"SentenceTransformers\")"
   ]
  },
  {
   "cell_type": "code",
   "execution_count": 10,
   "metadata": {},
   "outputs": [
    {
     "data": {
      "text/html": [
       "<div>\n",
       "<style scoped>\n",
       "    .dataframe tbody tr th:only-of-type {\n",
       "        vertical-align: middle;\n",
       "    }\n",
       "\n",
       "    .dataframe tbody tr th {\n",
       "        vertical-align: top;\n",
       "    }\n",
       "\n",
       "    .dataframe thead th {\n",
       "        text-align: right;\n",
       "    }\n",
       "</style>\n",
       "<table border=\"1\" class=\"dataframe\">\n",
       "  <thead>\n",
       "    <tr style=\"text-align: right;\">\n",
       "      <th></th>\n",
       "      <th>Country</th>\n",
       "      <th>Question</th>\n",
       "      <th>Actual Answer</th>\n",
       "    </tr>\n",
       "  </thead>\n",
       "  <tbody>\n",
       "    <tr>\n",
       "      <th>0</th>\n",
       "      <td>uk</td>\n",
       "      <td>In the context of the Environmental Protection...</td>\n",
       "      <td>The Environmental Land Management (ELM) scheme...</td>\n",
       "    </tr>\n",
       "    <tr>\n",
       "      <th>1</th>\n",
       "      <td>uk</td>\n",
       "      <td>Under the Employment Rights Act 1996, as amend...</td>\n",
       "      <td>The Employment Rights Act 1996, as amended by ...</td>\n",
       "    </tr>\n",
       "    <tr>\n",
       "      <th>2</th>\n",
       "      <td>uk</td>\n",
       "      <td>In light of the Data Protection Act 2018, inco...</td>\n",
       "      <td>The situation described involves potential bre...</td>\n",
       "    </tr>\n",
       "    <tr>\n",
       "      <th>3</th>\n",
       "      <td>uk</td>\n",
       "      <td>Following the passage of the Renters' Reform B...</td>\n",
       "      <td>The Renters' Reform Bill, expected to receive ...</td>\n",
       "    </tr>\n",
       "    <tr>\n",
       "      <th>4</th>\n",
       "      <td>uk</td>\n",
       "      <td>Under the Building Safety Act 2022, a construc...</td>\n",
       "      <td>The Building Safety Act 2022 introduces string...</td>\n",
       "    </tr>\n",
       "    <tr>\n",
       "      <th>5</th>\n",
       "      <td>Wales</td>\n",
       "      <td>In light of the Welsh Language (Wales) Measure...</td>\n",
       "      <td>The Welsh Language (Wales) Measure 2011 establ...</td>\n",
       "    </tr>\n",
       "    <tr>\n",
       "      <th>6</th>\n",
       "      <td>Wales</td>\n",
       "      <td>Considering the Environment (Wales) Act 2016 a...</td>\n",
       "      <td>The Environment (Wales) Act 2016 and the Agric...</td>\n",
       "    </tr>\n",
       "    <tr>\n",
       "      <th>7</th>\n",
       "      <td>Wales</td>\n",
       "      <td>Under the Renting Homes (Wales) Act 2016, as a...</td>\n",
       "      <td>The Renting Homes (Wales) Act 2016, amended by...</td>\n",
       "    </tr>\n",
       "    <tr>\n",
       "      <th>8</th>\n",
       "      <td>Wales</td>\n",
       "      <td>Following the implementation of the Additional...</td>\n",
       "      <td>The Additional Learning Needs and Education Tr...</td>\n",
       "    </tr>\n",
       "    <tr>\n",
       "      <th>9</th>\n",
       "      <td>Wales</td>\n",
       "      <td>In the context of the Planning (Wales) Act 201...</td>\n",
       "      <td>The Planning (Wales) Act 2015 and the Well-bei...</td>\n",
       "    </tr>\n",
       "    <tr>\n",
       "      <th>10</th>\n",
       "      <td>NothernIreland</td>\n",
       "      <td>In light of the Environment (Northern Ireland)...</td>\n",
       "      <td>The Environment (Northern Ireland) Order 2002,...</td>\n",
       "    </tr>\n",
       "    <tr>\n",
       "      <th>11</th>\n",
       "      <td>NothernIreland</td>\n",
       "      <td>With reference to the Employment (Northern Ire...</td>\n",
       "      <td>The Employment (Northern Ireland) Order 2003, ...</td>\n",
       "    </tr>\n",
       "    <tr>\n",
       "      <th>12</th>\n",
       "      <td>NothernIreland</td>\n",
       "      <td>Under the Planning Act (Northern Ireland) 2011...</td>\n",
       "      <td>The Planning Act (Northern Ireland) 2011, as a...</td>\n",
       "    </tr>\n",
       "    <tr>\n",
       "      <th>13</th>\n",
       "      <td>NothernIreland</td>\n",
       "      <td>In the context of the Data Protection Act 2018...</td>\n",
       "      <td>The Data Protection Act 2018, in conjunction w...</td>\n",
       "    </tr>\n",
       "    <tr>\n",
       "      <th>14</th>\n",
       "      <td>NothernIreland</td>\n",
       "      <td>Considering the Health and Safety at Work (Nor...</td>\n",
       "      <td>The Health and Safety at Work (Northern Irelan...</td>\n",
       "    </tr>\n",
       "    <tr>\n",
       "      <th>15</th>\n",
       "      <td>Scotland</td>\n",
       "      <td>With reference to the Land Reform (Scotland) A...</td>\n",
       "      <td>The Land Reform (Scotland) Act 2016, along wit...</td>\n",
       "    </tr>\n",
       "    <tr>\n",
       "      <th>16</th>\n",
       "      <td>Scotland</td>\n",
       "      <td>In the context of the Fair Work Framework (Sco...</td>\n",
       "      <td>The Fair Work Framework (Scotland) 2016, reinf...</td>\n",
       "    </tr>\n",
       "    <tr>\n",
       "      <th>17</th>\n",
       "      <td>Scotland</td>\n",
       "      <td>Under the Private Housing (Tenancies) (Scotlan...</td>\n",
       "      <td>The Private Housing (Tenancies) (Scotland) Act...</td>\n",
       "    </tr>\n",
       "    <tr>\n",
       "      <th>18</th>\n",
       "      <td>Scotland</td>\n",
       "      <td>Considering the Planning (Scotland) Act 2019 a...</td>\n",
       "      <td>The Planning (Scotland) Act 2019, alongside th...</td>\n",
       "    </tr>\n",
       "    <tr>\n",
       "      <th>19</th>\n",
       "      <td>Scotland</td>\n",
       "      <td>In the context of the Data Protection Act 2018...</td>\n",
       "      <td>The Data Protection Act 2018, coupled with the...</td>\n",
       "    </tr>\n",
       "  </tbody>\n",
       "</table>\n",
       "</div>"
      ],
      "text/plain": [
       "           Country                                           Question  \\\n",
       "0               uk  In the context of the Environmental Protection...   \n",
       "1               uk  Under the Employment Rights Act 1996, as amend...   \n",
       "2               uk  In light of the Data Protection Act 2018, inco...   \n",
       "3               uk  Following the passage of the Renters' Reform B...   \n",
       "4               uk  Under the Building Safety Act 2022, a construc...   \n",
       "5            Wales  In light of the Welsh Language (Wales) Measure...   \n",
       "6            Wales  Considering the Environment (Wales) Act 2016 a...   \n",
       "7            Wales  Under the Renting Homes (Wales) Act 2016, as a...   \n",
       "8            Wales  Following the implementation of the Additional...   \n",
       "9            Wales  In the context of the Planning (Wales) Act 201...   \n",
       "10  NothernIreland  In light of the Environment (Northern Ireland)...   \n",
       "11  NothernIreland  With reference to the Employment (Northern Ire...   \n",
       "12  NothernIreland  Under the Planning Act (Northern Ireland) 2011...   \n",
       "13  NothernIreland  In the context of the Data Protection Act 2018...   \n",
       "14  NothernIreland  Considering the Health and Safety at Work (Nor...   \n",
       "15        Scotland  With reference to the Land Reform (Scotland) A...   \n",
       "16        Scotland  In the context of the Fair Work Framework (Sco...   \n",
       "17        Scotland  Under the Private Housing (Tenancies) (Scotlan...   \n",
       "18        Scotland  Considering the Planning (Scotland) Act 2019 a...   \n",
       "19        Scotland  In the context of the Data Protection Act 2018...   \n",
       "\n",
       "                                        Actual Answer  \n",
       "0   The Environmental Land Management (ELM) scheme...  \n",
       "1   The Employment Rights Act 1996, as amended by ...  \n",
       "2   The situation described involves potential bre...  \n",
       "3   The Renters' Reform Bill, expected to receive ...  \n",
       "4   The Building Safety Act 2022 introduces string...  \n",
       "5   The Welsh Language (Wales) Measure 2011 establ...  \n",
       "6   The Environment (Wales) Act 2016 and the Agric...  \n",
       "7   The Renting Homes (Wales) Act 2016, amended by...  \n",
       "8   The Additional Learning Needs and Education Tr...  \n",
       "9   The Planning (Wales) Act 2015 and the Well-bei...  \n",
       "10  The Environment (Northern Ireland) Order 2002,...  \n",
       "11  The Employment (Northern Ireland) Order 2003, ...  \n",
       "12  The Planning Act (Northern Ireland) 2011, as a...  \n",
       "13  The Data Protection Act 2018, in conjunction w...  \n",
       "14  The Health and Safety at Work (Northern Irelan...  \n",
       "15  The Land Reform (Scotland) Act 2016, along wit...  \n",
       "16  The Fair Work Framework (Scotland) 2016, reinf...  \n",
       "17  The Private Housing (Tenancies) (Scotland) Act...  \n",
       "18  The Planning (Scotland) Act 2019, alongside th...  \n",
       "19  The Data Protection Act 2018, coupled with the...  "
      ]
     },
     "execution_count": 10,
     "metadata": {},
     "output_type": "execute_result"
    }
   ],
   "source": [
    "# df = pd.read_csv('./Benchmark-Data.csv')\n",
    "# df"
   ]
  },
  {
   "cell_type": "code",
   "execution_count": 11,
   "metadata": {},
   "outputs": [
    {
     "name": "stderr",
     "output_type": "stream",
     "text": [
      "0it [00:00, ?it/s]"
     ]
    },
    {
     "name": "stdout",
     "output_type": "stream",
     "text": [
      "Collection_to_query_from: ['Uk']\n",
      "The Collection: Uk is empty(0)/Not Empty(1): False\n"
     ]
    },
    {
     "name": "stderr",
     "output_type": "stream",
     "text": [
      "1it [02:47, 167.38s/it]"
     ]
    },
    {
     "name": "stdout",
     "output_type": "stream",
     "text": [
      "Collection_to_query_from: ['Uk']\n",
      "The Collection: Uk is empty(0)/Not Empty(1): False\n"
     ]
    },
    {
     "name": "stderr",
     "output_type": "stream",
     "text": [
      "2it [06:30, 200.10s/it]"
     ]
    },
    {
     "name": "stdout",
     "output_type": "stream",
     "text": [
      "Collection_to_query_from: ['Uk']\n",
      "The Collection: Uk is empty(0)/Not Empty(1): False\n"
     ]
    },
    {
     "name": "stderr",
     "output_type": "stream",
     "text": [
      "3it [10:16, 212.00s/it]"
     ]
    },
    {
     "name": "stdout",
     "output_type": "stream",
     "text": [
      "Collection_to_query_from: ['Uk']\n",
      "The Collection: Uk is empty(0)/Not Empty(1): False\n"
     ]
    },
    {
     "name": "stderr",
     "output_type": "stream",
     "text": [
      "4it [14:45, 234.39s/it]"
     ]
    },
    {
     "name": "stdout",
     "output_type": "stream",
     "text": [
      "Collection_to_query_from: ['Uk']\n",
      "The Collection: Uk is empty(0)/Not Empty(1): False\n"
     ]
    },
    {
     "name": "stderr",
     "output_type": "stream",
     "text": [
      "5it [16:47, 193.98s/it]"
     ]
    },
    {
     "name": "stdout",
     "output_type": "stream",
     "text": [
      "Collection_to_query_from: ['Wales']\n",
      "The Collection: Wales is empty(0)/Not Empty(1): False\n"
     ]
    },
    {
     "name": "stderr",
     "output_type": "stream",
     "text": [
      "6it [19:22, 180.81s/it]"
     ]
    },
    {
     "name": "stdout",
     "output_type": "stream",
     "text": [
      "Collection_to_query_from: ['Wales']\n",
      "The Collection: Wales is empty(0)/Not Empty(1): False\n"
     ]
    },
    {
     "name": "stderr",
     "output_type": "stream",
     "text": [
      "7it [21:49, 169.65s/it]"
     ]
    },
    {
     "name": "stdout",
     "output_type": "stream",
     "text": [
      "Collection_to_query_from: ['Wales']\n",
      "The Collection: Wales is empty(0)/Not Empty(1): False\n"
     ]
    },
    {
     "name": "stderr",
     "output_type": "stream",
     "text": [
      "8it [25:01, 176.83s/it]"
     ]
    },
    {
     "name": "stdout",
     "output_type": "stream",
     "text": [
      "Collection_to_query_from: ['Wales']\n",
      "The Collection: Wales is empty(0)/Not Empty(1): False\n"
     ]
    },
    {
     "name": "stderr",
     "output_type": "stream",
     "text": [
      "9it [27:24, 166.23s/it]"
     ]
    },
    {
     "name": "stdout",
     "output_type": "stream",
     "text": [
      "Collection_to_query_from: ['Wales']\n",
      "The Collection: Wales is empty(0)/Not Empty(1): False\n"
     ]
    },
    {
     "name": "stderr",
     "output_type": "stream",
     "text": [
      "10it [30:41, 175.75s/it]"
     ]
    },
    {
     "name": "stdout",
     "output_type": "stream",
     "text": [
      "Collection_to_query_from: ['NothernIreland']\n",
      "The Collection: NothernIreland is empty(0)/Not Empty(1): False\n"
     ]
    },
    {
     "name": "stderr",
     "output_type": "stream",
     "text": [
      "11it [35:11, 204.65s/it]"
     ]
    },
    {
     "name": "stdout",
     "output_type": "stream",
     "text": [
      "Collection_to_query_from: ['NothernIreland']\n",
      "The Collection: NothernIreland is empty(0)/Not Empty(1): False\n"
     ]
    },
    {
     "name": "stderr",
     "output_type": "stream",
     "text": [
      "12it [37:52, 191.12s/it]"
     ]
    },
    {
     "name": "stdout",
     "output_type": "stream",
     "text": [
      "Collection_to_query_from: ['NothernIreland']\n",
      "The Collection: NothernIreland is empty(0)/Not Empty(1): False\n"
     ]
    },
    {
     "name": "stderr",
     "output_type": "stream",
     "text": [
      "13it [41:46, 204.37s/it]"
     ]
    },
    {
     "name": "stdout",
     "output_type": "stream",
     "text": [
      "Collection_to_query_from: ['Uk', 'NothernIreland']\n",
      "The Collection: Uk is empty(0)/Not Empty(1): False\n",
      "The Collection: NothernIreland is empty(0)/Not Empty(1): False\n"
     ]
    },
    {
     "name": "stderr",
     "output_type": "stream",
     "text": [
      "14it [45:16, 205.89s/it]"
     ]
    },
    {
     "name": "stdout",
     "output_type": "stream",
     "text": [
      "Collection_to_query_from: ['NothernIreland']\n",
      "The Collection: NothernIreland is empty(0)/Not Empty(1): False\n"
     ]
    },
    {
     "name": "stderr",
     "output_type": "stream",
     "text": [
      "15it [48:40, 205.41s/it]"
     ]
    },
    {
     "name": "stdout",
     "output_type": "stream",
     "text": [
      "Collection_to_query_from: ['Scotland']\n",
      "The Collection: Scotland is empty(0)/Not Empty(1): False\n"
     ]
    },
    {
     "name": "stderr",
     "output_type": "stream",
     "text": [
      "16it [51:47, 199.70s/it]"
     ]
    },
    {
     "name": "stdout",
     "output_type": "stream",
     "text": [
      "Collection_to_query_from: ['Scotland']\n",
      "The Collection: Scotland is empty(0)/Not Empty(1): False\n"
     ]
    },
    {
     "name": "stderr",
     "output_type": "stream",
     "text": [
      "17it [54:51, 194.98s/it]"
     ]
    },
    {
     "name": "stdout",
     "output_type": "stream",
     "text": [
      "Collection_to_query_from: ['Scotland']\n",
      "The Collection: Scotland is empty(0)/Not Empty(1): False\n"
     ]
    },
    {
     "name": "stderr",
     "output_type": "stream",
     "text": [
      "18it [58:10, 196.30s/it]"
     ]
    },
    {
     "name": "stdout",
     "output_type": "stream",
     "text": [
      "Collection_to_query_from: ['Scotland']\n",
      "The Collection: Scotland is empty(0)/Not Empty(1): False\n"
     ]
    },
    {
     "name": "stderr",
     "output_type": "stream",
     "text": [
      "19it [1:02:30, 215.43s/it]"
     ]
    },
    {
     "name": "stdout",
     "output_type": "stream",
     "text": [
      "Collection_to_query_from: ['Uk', 'Scotland']\n",
      "The Collection: Uk is empty(0)/Not Empty(1): False\n",
      "The Collection: Scotland is empty(0)/Not Empty(1): False\n"
     ]
    },
    {
     "name": "stderr",
     "output_type": "stream",
     "text": [
      "20it [1:05:56, 197.83s/it]\n"
     ]
    }
   ],
   "source": [
    "# responses = []\n",
    "# docs1 = []\n",
    "# docs2 = []\n",
    "# docs3 = []\n",
    "# for idxrow, row in tqdm(df.iterrows()):\n",
    "#     country = row['Country']\n",
    "#     prompt = row['Question']\n",
    "#     response, docs = bot.query(query=country+' '+prompt, k=3, search_type='Vector',get_docs=True, verbose=False)\n",
    "#     responses.append(response)\n",
    "#     docs1.append(docs[0])\n",
    "#     docs2.append(docs[1])\n",
    "#     docs3.append(docs[2])"
   ]
  },
  {
   "cell_type": "code",
   "execution_count": 12,
   "metadata": {},
   "outputs": [
    {
     "data": {
      "text/html": [
       "<div>\n",
       "<style scoped>\n",
       "    .dataframe tbody tr th:only-of-type {\n",
       "        vertical-align: middle;\n",
       "    }\n",
       "\n",
       "    .dataframe tbody tr th {\n",
       "        vertical-align: top;\n",
       "    }\n",
       "\n",
       "    .dataframe thead th {\n",
       "        text-align: right;\n",
       "    }\n",
       "</style>\n",
       "<table border=\"1\" class=\"dataframe\">\n",
       "  <thead>\n",
       "    <tr style=\"text-align: right;\">\n",
       "      <th></th>\n",
       "      <th>Country</th>\n",
       "      <th>Question</th>\n",
       "      <th>Actual Answer</th>\n",
       "      <th>Response</th>\n",
       "      <th>Response1</th>\n",
       "      <th>Response2</th>\n",
       "      <th>Response3</th>\n",
       "    </tr>\n",
       "  </thead>\n",
       "  <tbody>\n",
       "    <tr>\n",
       "      <th>0</th>\n",
       "      <td>uk</td>\n",
       "      <td>In the context of the Environmental Protection...</td>\n",
       "      <td>The Environmental Land Management (ELM) scheme...</td>\n",
       "      <td>The introduction of the ELM scheme in England ...</td>\n",
       "      <td>(2) Where the risk assessment prepared in acco...</td>\n",
       "      <td>(2) Where the risk assessment prepared in acco...</td>\n",
       "      <td>Commencement Information\\nI5\\nSch.\\n\\n2 para.\\...</td>\n",
       "    </tr>\n",
       "    <tr>\n",
       "      <th>1</th>\n",
       "      <td>uk</td>\n",
       "      <td>Under the Employment Rights Act 1996, as amend...</td>\n",
       "      <td>The Employment Rights Act 1996, as amended by ...</td>\n",
       "      <td>Under the amended Employment Rights Act 1996, ...</td>\n",
       "      <td>Employment Relations (Flexible Working) Act 20...</td>\n",
       "      <td>STATUTORY INSTRUMENTS\\n2024\\n\\nNo. 438 (C. 24)...</td>\n",
       "      <td>STATUTORY INSTRUMENTS\\n2023 No. 1328\\nTERMS AN...</td>\n",
       "    </tr>\n",
       "    <tr>\n",
       "      <th>2</th>\n",
       "      <td>uk</td>\n",
       "      <td>In light of the Data Protection Act 2018, inco...</td>\n",
       "      <td>The situation described involves potential bre...</td>\n",
       "      <td>Here's a breakdown of the legal consequences f...</td>\n",
       "      <td>(7)\\n\\n\\nIn Article 6(1) of the GDPR (lawfulne...</td>\n",
       "      <td>Data Protection Act 2018\\n2018 CHAPTER 12\\nAn ...</td>\n",
       "      <td>1(1)\\nModifications etc. (not altering text)\\n...</td>\n",
       "    </tr>\n",
       "    <tr>\n",
       "      <th>3</th>\n",
       "      <td>uk</td>\n",
       "      <td>Following the passage of the Renters' Reform B...</td>\n",
       "      <td>The Renters' Reform Bill, expected to receive ...</td>\n",
       "      <td>The abolition of Section 21 \"no-fault\" evictio...</td>\n",
       "      <td>Leasehold and Freehold Reform Act 2024\\n2024 C...</td>\n",
       "      <td>STATUTORY INSTRUMENTS\\n2021 No. 564\\nLANDLORD ...</td>\n",
       "      <td>It introduces schedules 1 and 2 of the 2022 Ac...</td>\n",
       "    </tr>\n",
       "    <tr>\n",
       "      <th>4</th>\n",
       "      <td>uk</td>\n",
       "      <td>Under the Building Safety Act 2022, a construc...</td>\n",
       "      <td>The Building Safety Act 2022 introduces string...</td>\n",
       "      <td>Here's a breakdown of how the Building Safety ...</td>\n",
       "      <td>Building Safety Act 2022\\n2022 CHAPTER 30\\nAn ...</td>\n",
       "      <td>Regulations 2010(3).\\n\\n\\n(1)\\nParagraphs 4A a...</td>\n",
       "      <td>STATUTORY INSTRUMENTS\\n2022\\n\\nNo. 1210 (C. 95...</td>\n",
       "    </tr>\n",
       "    <tr>\n",
       "      <th>5</th>\n",
       "      <td>Wales</td>\n",
       "      <td>In light of the Welsh Language (Wales) Measure...</td>\n",
       "      <td>The Welsh Language (Wales) Measure 2011 establ...</td>\n",
       "      <td>Public bodies in Wales have a legal obligation...</td>\n",
       "      <td>17 Standards for raising awareness about Welsh...</td>\n",
       "      <td>17 Standards for raising awareness about Welsh...</td>\n",
       "      <td>Standard 39: If you have a Welsh language web ...</td>\n",
       "    </tr>\n",
       "    <tr>\n",
       "      <th>6</th>\n",
       "      <td>Wales</td>\n",
       "      <td>Considering the Environment (Wales) Act 2016 a...</td>\n",
       "      <td>The Environment (Wales) Act 2016 and the Agric...</td>\n",
       "      <td>The Agriculture (Wales) Act of 2023 introduces...</td>\n",
       "      <td>Agriculture (Wales) Act 2023\\n2023 asc 4\\nAn A...</td>\n",
       "      <td>Commencement Information\\nI1\\nS. 4 in force at...</td>\n",
       "      <td>Commencement Information\\nI1\\nS. 7 in force at...</td>\n",
       "    </tr>\n",
       "    <tr>\n",
       "      <th>7</th>\n",
       "      <td>Wales</td>\n",
       "      <td>Under the Renting Homes (Wales) Act 2016, as a...</td>\n",
       "      <td>The Renting Homes (Wales) Act 2016, amended by...</td>\n",
       "      <td>##  Wales Under Renting Homes (Wales) Act 2016...</td>\n",
       "      <td>(1)\\nS.I. 2022/244 (W. 72).\\n\\nForm RHW17 is g...</td>\n",
       "      <td>There are other amendments to section 19 which...</td>\n",
       "      <td>There are other amendments to section 19 which...</td>\n",
       "    </tr>\n",
       "    <tr>\n",
       "      <th>8</th>\n",
       "      <td>Wales</td>\n",
       "      <td>Following the implementation of the Additional...</td>\n",
       "      <td>The Additional Learning Needs and Education Tr...</td>\n",
       "      <td>This excerpt outlines a significant legal fram...</td>\n",
       "      <td>Additional Learning Needs and Education Tribun...</td>\n",
       "      <td>This article applies to a child who on 1 Janua...</td>\n",
       "      <td>This article applies to a child who on 1 Janua...</td>\n",
       "    </tr>\n",
       "    <tr>\n",
       "      <th>9</th>\n",
       "      <td>Wales</td>\n",
       "      <td>In the context of the Planning (Wales) Act 201...</td>\n",
       "      <td>The Planning (Wales) Act 2015 and the Well-bei...</td>\n",
       "      <td>Here's an analysis of how Welsh planning autho...</td>\n",
       "      <td>WELSH STATUTORY INSTRUMENTS\\n2021 No. 7 (W. 3)...</td>\n",
       "      <td>WELSH STATUTORY INSTRUMENTS\\n2021 No. 7 (W. 3)...</td>\n",
       "      <td>WELSH STATUTORY INSTRUMENTS\\n2020\\n\\nNo. 1216 ...</td>\n",
       "    </tr>\n",
       "    <tr>\n",
       "      <th>10</th>\n",
       "      <td>NothernIreland</td>\n",
       "      <td>In light of the Environment (Northern Ireland)...</td>\n",
       "      <td>The Environment (Northern Ireland) Order 2002,...</td>\n",
       "      <td>Let's break down the changes to waste manageme...</td>\n",
       "      <td>No L312, 22.11.2008, p. 3) (“the Waste Framewo...</td>\n",
       "      <td>STATUTORY RULES OF NORTHERN IRELAND\\n2019 No. ...</td>\n",
       "      <td>The Hazardous Waste Regulations (Northern Irel...</td>\n",
       "    </tr>\n",
       "    <tr>\n",
       "      <th>11</th>\n",
       "      <td>NothernIreland</td>\n",
       "      <td>With reference to the Employment (Northern Ire...</td>\n",
       "      <td>The Employment (Northern Ireland) Order 2003, ...</td>\n",
       "      <td>##  How Recent Developments in Northern Irelan...</td>\n",
       "      <td>STATUTORY RULES OF NORTHERN IRELAND\\n2023 No. ...</td>\n",
       "      <td>Commencement Information\\nI1\\nArt. 4 in operat...</td>\n",
       "      <td>STATUTORY RULES OF NORTHERN IRELAND\\n2019 No. ...</td>\n",
       "    </tr>\n",
       "    <tr>\n",
       "      <th>12</th>\n",
       "      <td>NothernIreland</td>\n",
       "      <td>Under the Planning Act (Northern Ireland) 2011...</td>\n",
       "      <td>The Planning Act (Northern Ireland) 2011, as a...</td>\n",
       "      <td>The Planning Act (Northern Ireland) 2011, as a...</td>\n",
       "      <td>The Directives were previously implemented for...</td>\n",
       "      <td>STATUTORY RULES OF NORTHERN IRELAND\\n2019 No. ...</td>\n",
       "      <td>(2) The developer must also provide any furthe...</td>\n",
       "    </tr>\n",
       "    <tr>\n",
       "      <th>13</th>\n",
       "      <td>NothernIreland</td>\n",
       "      <td>In the context of the Data Protection Act 2018...</td>\n",
       "      <td>The Data Protection Act 2018, in conjunction w...</td>\n",
       "      <td>Here's a breakdown of how Northern Ireland's p...</td>\n",
       "      <td>(5)\\nSubsection (1) does not limit the circums...</td>\n",
       "      <td>1(3); S.I. 2023/1092, art.\\n\\n2(g)48\\nNorthern...</td>\n",
       "      <td>For article 7 of the Scottish Parliamentary Co...</td>\n",
       "    </tr>\n",
       "    <tr>\n",
       "      <th>14</th>\n",
       "      <td>NothernIreland</td>\n",
       "      <td>Considering the Health and Safety at Work (Nor...</td>\n",
       "      <td>The Health and Safety at Work (Northern Irelan...</td>\n",
       "      <td>Let's break down the responsibilities of princ...</td>\n",
       "      <td>(3)\\nSection 2(2) and Schedule 1 (amendments o...</td>\n",
       "      <td>STATUTORY RULES OF NORTHERN IRELAND\\n2022 No. ...</td>\n",
       "      <td>1(2), 3(a)3\\nThe regulator: objectives and reg...</td>\n",
       "    </tr>\n",
       "    <tr>\n",
       "      <th>15</th>\n",
       "      <td>Scotland</td>\n",
       "      <td>With reference to the Land Reform (Scotland) A...</td>\n",
       "      <td>The Land Reform (Scotland) Act 2016, along wit...</td>\n",
       "      <td>The provided text focuses on regulations relat...</td>\n",
       "      <td>SCOTTISH STATUTORY INSTRUMENTS\\n2018 No. 140\\n...</td>\n",
       "      <td>Draft Regulations laid before the Scottish Par...</td>\n",
       "      <td>SCOTTISH STATUTORY INSTRUMENTS\\n2020\\n\\nNo. 11...</td>\n",
       "    </tr>\n",
       "    <tr>\n",
       "      <th>16</th>\n",
       "      <td>Scotland</td>\n",
       "      <td>In the context of the Fair Work Framework (Sco...</td>\n",
       "      <td>The Fair Work Framework (Scotland) 2016, reinf...</td>\n",
       "      <td>Let's break down how employer obligations rela...</td>\n",
       "      <td>SCOTTISH STATUTORY INSTRUMENTS\\n2021 No. 471\\n...</td>\n",
       "      <td>SCOTTISH STATUTORY INSTRUMENTS\\n2021 No. 473\\n...</td>\n",
       "      <td>Draft Regulations laid before the Scottish Par...</td>\n",
       "    </tr>\n",
       "    <tr>\n",
       "      <th>17</th>\n",
       "      <td>Scotland</td>\n",
       "      <td>Under the Private Housing (Tenancies) (Scotlan...</td>\n",
       "      <td>The Private Housing (Tenancies) (Scotland) Act...</td>\n",
       "      <td>This text excerpt outlines the evolution of te...</td>\n",
       "      <td>Cost of Living (Tenant Protection) (Scotland) ...</td>\n",
       "      <td>1(2), 2(2))\\n\\n(with savings in S.S.I. 2024/19...</td>\n",
       "      <td>(1)\\nPart 1 of the Cost of Living (Tenant Prot...</td>\n",
       "    </tr>\n",
       "    <tr>\n",
       "      <th>18</th>\n",
       "      <td>Scotland</td>\n",
       "      <td>Considering the Planning (Scotland) Act 2019 a...</td>\n",
       "      <td>The Planning (Scotland) Act 2019, alongside th...</td>\n",
       "      <td>The provided context details regulations relat...</td>\n",
       "      <td>SCOTTISH STATUTORY INSTRUMENTS\\n2020\\n\\nNo. 66...</td>\n",
       "      <td>Draft Order laid before the Scottish Parliamen...</td>\n",
       "      <td>Draft Regulations laid before the Scottish Par...</td>\n",
       "    </tr>\n",
       "    <tr>\n",
       "      <th>19</th>\n",
       "      <td>Scotland</td>\n",
       "      <td>In the context of the Data Protection Act 2018...</td>\n",
       "      <td>The Data Protection Act 2018, coupled with the...</td>\n",
       "      <td>## Public Sector Responsibilities in Scotland ...</td>\n",
       "      <td>For article 7 of the Scottish Parliamentary Co...</td>\n",
       "      <td>(3)\\nThe controller—\\n(a)\\nmust ensure that th...</td>\n",
       "      <td>[F8(d)\\nin Part 7 of this Act, sections 170 an...</td>\n",
       "    </tr>\n",
       "  </tbody>\n",
       "</table>\n",
       "</div>"
      ],
      "text/plain": [
       "           Country                                           Question  \\\n",
       "0               uk  In the context of the Environmental Protection...   \n",
       "1               uk  Under the Employment Rights Act 1996, as amend...   \n",
       "2               uk  In light of the Data Protection Act 2018, inco...   \n",
       "3               uk  Following the passage of the Renters' Reform B...   \n",
       "4               uk  Under the Building Safety Act 2022, a construc...   \n",
       "5            Wales  In light of the Welsh Language (Wales) Measure...   \n",
       "6            Wales  Considering the Environment (Wales) Act 2016 a...   \n",
       "7            Wales  Under the Renting Homes (Wales) Act 2016, as a...   \n",
       "8            Wales  Following the implementation of the Additional...   \n",
       "9            Wales  In the context of the Planning (Wales) Act 201...   \n",
       "10  NothernIreland  In light of the Environment (Northern Ireland)...   \n",
       "11  NothernIreland  With reference to the Employment (Northern Ire...   \n",
       "12  NothernIreland  Under the Planning Act (Northern Ireland) 2011...   \n",
       "13  NothernIreland  In the context of the Data Protection Act 2018...   \n",
       "14  NothernIreland  Considering the Health and Safety at Work (Nor...   \n",
       "15        Scotland  With reference to the Land Reform (Scotland) A...   \n",
       "16        Scotland  In the context of the Fair Work Framework (Sco...   \n",
       "17        Scotland  Under the Private Housing (Tenancies) (Scotlan...   \n",
       "18        Scotland  Considering the Planning (Scotland) Act 2019 a...   \n",
       "19        Scotland  In the context of the Data Protection Act 2018...   \n",
       "\n",
       "                                        Actual Answer  \\\n",
       "0   The Environmental Land Management (ELM) scheme...   \n",
       "1   The Employment Rights Act 1996, as amended by ...   \n",
       "2   The situation described involves potential bre...   \n",
       "3   The Renters' Reform Bill, expected to receive ...   \n",
       "4   The Building Safety Act 2022 introduces string...   \n",
       "5   The Welsh Language (Wales) Measure 2011 establ...   \n",
       "6   The Environment (Wales) Act 2016 and the Agric...   \n",
       "7   The Renting Homes (Wales) Act 2016, amended by...   \n",
       "8   The Additional Learning Needs and Education Tr...   \n",
       "9   The Planning (Wales) Act 2015 and the Well-bei...   \n",
       "10  The Environment (Northern Ireland) Order 2002,...   \n",
       "11  The Employment (Northern Ireland) Order 2003, ...   \n",
       "12  The Planning Act (Northern Ireland) 2011, as a...   \n",
       "13  The Data Protection Act 2018, in conjunction w...   \n",
       "14  The Health and Safety at Work (Northern Irelan...   \n",
       "15  The Land Reform (Scotland) Act 2016, along wit...   \n",
       "16  The Fair Work Framework (Scotland) 2016, reinf...   \n",
       "17  The Private Housing (Tenancies) (Scotland) Act...   \n",
       "18  The Planning (Scotland) Act 2019, alongside th...   \n",
       "19  The Data Protection Act 2018, coupled with the...   \n",
       "\n",
       "                                             Response  \\\n",
       "0   The introduction of the ELM scheme in England ...   \n",
       "1   Under the amended Employment Rights Act 1996, ...   \n",
       "2   Here's a breakdown of the legal consequences f...   \n",
       "3   The abolition of Section 21 \"no-fault\" evictio...   \n",
       "4   Here's a breakdown of how the Building Safety ...   \n",
       "5   Public bodies in Wales have a legal obligation...   \n",
       "6   The Agriculture (Wales) Act of 2023 introduces...   \n",
       "7   ##  Wales Under Renting Homes (Wales) Act 2016...   \n",
       "8   This excerpt outlines a significant legal fram...   \n",
       "9   Here's an analysis of how Welsh planning autho...   \n",
       "10  Let's break down the changes to waste manageme...   \n",
       "11  ##  How Recent Developments in Northern Irelan...   \n",
       "12  The Planning Act (Northern Ireland) 2011, as a...   \n",
       "13  Here's a breakdown of how Northern Ireland's p...   \n",
       "14  Let's break down the responsibilities of princ...   \n",
       "15  The provided text focuses on regulations relat...   \n",
       "16  Let's break down how employer obligations rela...   \n",
       "17  This text excerpt outlines the evolution of te...   \n",
       "18  The provided context details regulations relat...   \n",
       "19  ## Public Sector Responsibilities in Scotland ...   \n",
       "\n",
       "                                            Response1  \\\n",
       "0   (2) Where the risk assessment prepared in acco...   \n",
       "1   Employment Relations (Flexible Working) Act 20...   \n",
       "2   (7)\\n\\n\\nIn Article 6(1) of the GDPR (lawfulne...   \n",
       "3   Leasehold and Freehold Reform Act 2024\\n2024 C...   \n",
       "4   Building Safety Act 2022\\n2022 CHAPTER 30\\nAn ...   \n",
       "5   17 Standards for raising awareness about Welsh...   \n",
       "6   Agriculture (Wales) Act 2023\\n2023 asc 4\\nAn A...   \n",
       "7   (1)\\nS.I. 2022/244 (W. 72).\\n\\nForm RHW17 is g...   \n",
       "8   Additional Learning Needs and Education Tribun...   \n",
       "9   WELSH STATUTORY INSTRUMENTS\\n2021 No. 7 (W. 3)...   \n",
       "10  No L312, 22.11.2008, p. 3) (“the Waste Framewo...   \n",
       "11  STATUTORY RULES OF NORTHERN IRELAND\\n2023 No. ...   \n",
       "12  The Directives were previously implemented for...   \n",
       "13  (5)\\nSubsection (1) does not limit the circums...   \n",
       "14  (3)\\nSection 2(2) and Schedule 1 (amendments o...   \n",
       "15  SCOTTISH STATUTORY INSTRUMENTS\\n2018 No. 140\\n...   \n",
       "16  SCOTTISH STATUTORY INSTRUMENTS\\n2021 No. 471\\n...   \n",
       "17  Cost of Living (Tenant Protection) (Scotland) ...   \n",
       "18  SCOTTISH STATUTORY INSTRUMENTS\\n2020\\n\\nNo. 66...   \n",
       "19  For article 7 of the Scottish Parliamentary Co...   \n",
       "\n",
       "                                            Response2  \\\n",
       "0   (2) Where the risk assessment prepared in acco...   \n",
       "1   STATUTORY INSTRUMENTS\\n2024\\n\\nNo. 438 (C. 24)...   \n",
       "2   Data Protection Act 2018\\n2018 CHAPTER 12\\nAn ...   \n",
       "3   STATUTORY INSTRUMENTS\\n2021 No. 564\\nLANDLORD ...   \n",
       "4   Regulations 2010(3).\\n\\n\\n(1)\\nParagraphs 4A a...   \n",
       "5   17 Standards for raising awareness about Welsh...   \n",
       "6   Commencement Information\\nI1\\nS. 4 in force at...   \n",
       "7   There are other amendments to section 19 which...   \n",
       "8   This article applies to a child who on 1 Janua...   \n",
       "9   WELSH STATUTORY INSTRUMENTS\\n2021 No. 7 (W. 3)...   \n",
       "10  STATUTORY RULES OF NORTHERN IRELAND\\n2019 No. ...   \n",
       "11  Commencement Information\\nI1\\nArt. 4 in operat...   \n",
       "12  STATUTORY RULES OF NORTHERN IRELAND\\n2019 No. ...   \n",
       "13  1(3); S.I. 2023/1092, art.\\n\\n2(g)48\\nNorthern...   \n",
       "14  STATUTORY RULES OF NORTHERN IRELAND\\n2022 No. ...   \n",
       "15  Draft Regulations laid before the Scottish Par...   \n",
       "16  SCOTTISH STATUTORY INSTRUMENTS\\n2021 No. 473\\n...   \n",
       "17  1(2), 2(2))\\n\\n(with savings in S.S.I. 2024/19...   \n",
       "18  Draft Order laid before the Scottish Parliamen...   \n",
       "19  (3)\\nThe controller—\\n(a)\\nmust ensure that th...   \n",
       "\n",
       "                                            Response3  \n",
       "0   Commencement Information\\nI5\\nSch.\\n\\n2 para.\\...  \n",
       "1   STATUTORY INSTRUMENTS\\n2023 No. 1328\\nTERMS AN...  \n",
       "2   1(1)\\nModifications etc. (not altering text)\\n...  \n",
       "3   It introduces schedules 1 and 2 of the 2022 Ac...  \n",
       "4   STATUTORY INSTRUMENTS\\n2022\\n\\nNo. 1210 (C. 95...  \n",
       "5   Standard 39: If you have a Welsh language web ...  \n",
       "6   Commencement Information\\nI1\\nS. 7 in force at...  \n",
       "7   There are other amendments to section 19 which...  \n",
       "8   This article applies to a child who on 1 Janua...  \n",
       "9   WELSH STATUTORY INSTRUMENTS\\n2020\\n\\nNo. 1216 ...  \n",
       "10  The Hazardous Waste Regulations (Northern Irel...  \n",
       "11  STATUTORY RULES OF NORTHERN IRELAND\\n2019 No. ...  \n",
       "12  (2) The developer must also provide any furthe...  \n",
       "13  For article 7 of the Scottish Parliamentary Co...  \n",
       "14  1(2), 3(a)3\\nThe regulator: objectives and reg...  \n",
       "15  SCOTTISH STATUTORY INSTRUMENTS\\n2020\\n\\nNo. 11...  \n",
       "16  Draft Regulations laid before the Scottish Par...  \n",
       "17  (1)\\nPart 1 of the Cost of Living (Tenant Prot...  \n",
       "18  Draft Regulations laid before the Scottish Par...  \n",
       "19  [F8(d)\\nin Part 7 of this Act, sections 170 an...  "
      ]
     },
     "execution_count": 12,
     "metadata": {},
     "output_type": "execute_result"
    }
   ],
   "source": [
    "# df['Response'] = responses\n",
    "# df['Response1'] = docs1\n",
    "# df['Response2'] = docs2\n",
    "# df['Response3'] = docs3\n",
    "# df.to_csv('./RAG_Bot_Responses_Vector_k3.csv', index=False)\n",
    "# df"
   ]
  },
  {
   "cell_type": "markdown",
   "metadata": {},
   "source": [
    "# Now Getting the Metric Values"
   ]
  },
  {
   "cell_type": "code",
   "execution_count": 16,
   "metadata": {},
   "outputs": [
    {
     "data": {
      "text/html": [
       "<div>\n",
       "<style scoped>\n",
       "    .dataframe tbody tr th:only-of-type {\n",
       "        vertical-align: middle;\n",
       "    }\n",
       "\n",
       "    .dataframe tbody tr th {\n",
       "        vertical-align: top;\n",
       "    }\n",
       "\n",
       "    .dataframe thead th {\n",
       "        text-align: right;\n",
       "    }\n",
       "</style>\n",
       "<table border=\"1\" class=\"dataframe\">\n",
       "  <thead>\n",
       "    <tr style=\"text-align: right;\">\n",
       "      <th></th>\n",
       "      <th>Country</th>\n",
       "      <th>Question</th>\n",
       "      <th>Actual Answer</th>\n",
       "      <th>Response</th>\n",
       "      <th>Response1</th>\n",
       "      <th>Response2</th>\n",
       "      <th>Response3</th>\n",
       "    </tr>\n",
       "  </thead>\n",
       "  <tbody>\n",
       "    <tr>\n",
       "      <th>0</th>\n",
       "      <td>uk</td>\n",
       "      <td>In the context of the Environmental Protection...</td>\n",
       "      <td>The Environmental Land Management (ELM) scheme...</td>\n",
       "      <td>The introduction of the ELM scheme in England ...</td>\n",
       "      <td>(2) Where the risk assessment prepared in acco...</td>\n",
       "      <td>(2) Where the risk assessment prepared in acco...</td>\n",
       "      <td>Commencement Information\\nI5\\nSch.\\n\\n2 para.\\...</td>\n",
       "    </tr>\n",
       "    <tr>\n",
       "      <th>1</th>\n",
       "      <td>uk</td>\n",
       "      <td>Under the Employment Rights Act 1996, as amend...</td>\n",
       "      <td>The Employment Rights Act 1996, as amended by ...</td>\n",
       "      <td>Under the amended Employment Rights Act 1996, ...</td>\n",
       "      <td>Employment Relations (Flexible Working) Act 20...</td>\n",
       "      <td>STATUTORY INSTRUMENTS\\n2024\\n\\nNo. 438 (C. 24)...</td>\n",
       "      <td>STATUTORY INSTRUMENTS\\n2023 No. 1328\\nTERMS AN...</td>\n",
       "    </tr>\n",
       "    <tr>\n",
       "      <th>2</th>\n",
       "      <td>uk</td>\n",
       "      <td>In light of the Data Protection Act 2018, inco...</td>\n",
       "      <td>The situation described involves potential bre...</td>\n",
       "      <td>Here's a breakdown of the legal consequences f...</td>\n",
       "      <td>(7)\\n\\n\\nIn Article 6(1) of the GDPR (lawfulne...</td>\n",
       "      <td>Data Protection Act 2018\\n2018 CHAPTER 12\\nAn ...</td>\n",
       "      <td>1(1)\\nModifications etc. (not altering text)\\n...</td>\n",
       "    </tr>\n",
       "    <tr>\n",
       "      <th>3</th>\n",
       "      <td>uk</td>\n",
       "      <td>Following the passage of the Renters' Reform B...</td>\n",
       "      <td>The Renters' Reform Bill, expected to receive ...</td>\n",
       "      <td>The abolition of Section 21 \"no-fault\" evictio...</td>\n",
       "      <td>Leasehold and Freehold Reform Act 2024\\n2024 C...</td>\n",
       "      <td>STATUTORY INSTRUMENTS\\n2021 No. 564\\nLANDLORD ...</td>\n",
       "      <td>It introduces schedules 1 and 2 of the 2022 Ac...</td>\n",
       "    </tr>\n",
       "    <tr>\n",
       "      <th>4</th>\n",
       "      <td>uk</td>\n",
       "      <td>Under the Building Safety Act 2022, a construc...</td>\n",
       "      <td>The Building Safety Act 2022 introduces string...</td>\n",
       "      <td>Here's a breakdown of how the Building Safety ...</td>\n",
       "      <td>Building Safety Act 2022\\n2022 CHAPTER 30\\nAn ...</td>\n",
       "      <td>Regulations 2010(3).\\n\\n\\n(1)\\nParagraphs 4A a...</td>\n",
       "      <td>STATUTORY INSTRUMENTS\\n2022\\n\\nNo. 1210 (C. 95...</td>\n",
       "    </tr>\n",
       "    <tr>\n",
       "      <th>5</th>\n",
       "      <td>Wales</td>\n",
       "      <td>In light of the Welsh Language (Wales) Measure...</td>\n",
       "      <td>The Welsh Language (Wales) Measure 2011 establ...</td>\n",
       "      <td>Public bodies in Wales have a legal obligation...</td>\n",
       "      <td>17 Standards for raising awareness about Welsh...</td>\n",
       "      <td>17 Standards for raising awareness about Welsh...</td>\n",
       "      <td>Standard 39: If you have a Welsh language web ...</td>\n",
       "    </tr>\n",
       "    <tr>\n",
       "      <th>6</th>\n",
       "      <td>Wales</td>\n",
       "      <td>Considering the Environment (Wales) Act 2016 a...</td>\n",
       "      <td>The Environment (Wales) Act 2016 and the Agric...</td>\n",
       "      <td>The Agriculture (Wales) Act of 2023 introduces...</td>\n",
       "      <td>Agriculture (Wales) Act 2023\\n2023 asc 4\\nAn A...</td>\n",
       "      <td>Commencement Information\\nI1\\nS. 4 in force at...</td>\n",
       "      <td>Commencement Information\\nI1\\nS. 7 in force at...</td>\n",
       "    </tr>\n",
       "    <tr>\n",
       "      <th>7</th>\n",
       "      <td>Wales</td>\n",
       "      <td>Under the Renting Homes (Wales) Act 2016, as a...</td>\n",
       "      <td>The Renting Homes (Wales) Act 2016, amended by...</td>\n",
       "      <td>##  Wales Under Renting Homes (Wales) Act 2016...</td>\n",
       "      <td>(1)\\nS.I. 2022/244 (W. 72).\\n\\nForm RHW17 is g...</td>\n",
       "      <td>There are other amendments to section 19 which...</td>\n",
       "      <td>There are other amendments to section 19 which...</td>\n",
       "    </tr>\n",
       "    <tr>\n",
       "      <th>8</th>\n",
       "      <td>Wales</td>\n",
       "      <td>Following the implementation of the Additional...</td>\n",
       "      <td>The Additional Learning Needs and Education Tr...</td>\n",
       "      <td>This excerpt outlines a significant legal fram...</td>\n",
       "      <td>Additional Learning Needs and Education Tribun...</td>\n",
       "      <td>This article applies to a child who on 1 Janua...</td>\n",
       "      <td>This article applies to a child who on 1 Janua...</td>\n",
       "    </tr>\n",
       "    <tr>\n",
       "      <th>9</th>\n",
       "      <td>Wales</td>\n",
       "      <td>In the context of the Planning (Wales) Act 201...</td>\n",
       "      <td>The Planning (Wales) Act 2015 and the Well-bei...</td>\n",
       "      <td>Here's an analysis of how Welsh planning autho...</td>\n",
       "      <td>WELSH STATUTORY INSTRUMENTS\\n2021 No. 7 (W. 3)...</td>\n",
       "      <td>WELSH STATUTORY INSTRUMENTS\\n2021 No. 7 (W. 3)...</td>\n",
       "      <td>WELSH STATUTORY INSTRUMENTS\\n2020\\n\\nNo. 1216 ...</td>\n",
       "    </tr>\n",
       "    <tr>\n",
       "      <th>10</th>\n",
       "      <td>NothernIreland</td>\n",
       "      <td>In light of the Environment (Northern Ireland)...</td>\n",
       "      <td>The Environment (Northern Ireland) Order 2002,...</td>\n",
       "      <td>Let's break down the changes to waste manageme...</td>\n",
       "      <td>No L312, 22.11.2008, p. 3) (“the Waste Framewo...</td>\n",
       "      <td>STATUTORY RULES OF NORTHERN IRELAND\\n2019 No. ...</td>\n",
       "      <td>The Hazardous Waste Regulations (Northern Irel...</td>\n",
       "    </tr>\n",
       "    <tr>\n",
       "      <th>11</th>\n",
       "      <td>NothernIreland</td>\n",
       "      <td>With reference to the Employment (Northern Ire...</td>\n",
       "      <td>The Employment (Northern Ireland) Order 2003, ...</td>\n",
       "      <td>##  How Recent Developments in Northern Irelan...</td>\n",
       "      <td>STATUTORY RULES OF NORTHERN IRELAND\\n2023 No. ...</td>\n",
       "      <td>Commencement Information\\nI1\\nArt. 4 in operat...</td>\n",
       "      <td>STATUTORY RULES OF NORTHERN IRELAND\\n2019 No. ...</td>\n",
       "    </tr>\n",
       "    <tr>\n",
       "      <th>12</th>\n",
       "      <td>NothernIreland</td>\n",
       "      <td>Under the Planning Act (Northern Ireland) 2011...</td>\n",
       "      <td>The Planning Act (Northern Ireland) 2011, as a...</td>\n",
       "      <td>The Planning Act (Northern Ireland) 2011, as a...</td>\n",
       "      <td>The Directives were previously implemented for...</td>\n",
       "      <td>STATUTORY RULES OF NORTHERN IRELAND\\n2019 No. ...</td>\n",
       "      <td>(2) The developer must also provide any furthe...</td>\n",
       "    </tr>\n",
       "    <tr>\n",
       "      <th>13</th>\n",
       "      <td>NothernIreland</td>\n",
       "      <td>In the context of the Data Protection Act 2018...</td>\n",
       "      <td>The Data Protection Act 2018, in conjunction w...</td>\n",
       "      <td>Here's a breakdown of how Northern Ireland's p...</td>\n",
       "      <td>(5)\\nSubsection (1) does not limit the circums...</td>\n",
       "      <td>1(3); S.I. 2023/1092, art.\\n\\n2(g)48\\nNorthern...</td>\n",
       "      <td>For article 7 of the Scottish Parliamentary Co...</td>\n",
       "    </tr>\n",
       "    <tr>\n",
       "      <th>14</th>\n",
       "      <td>NothernIreland</td>\n",
       "      <td>Considering the Health and Safety at Work (Nor...</td>\n",
       "      <td>The Health and Safety at Work (Northern Irelan...</td>\n",
       "      <td>Let's break down the responsibilities of princ...</td>\n",
       "      <td>(3)\\nSection 2(2) and Schedule 1 (amendments o...</td>\n",
       "      <td>STATUTORY RULES OF NORTHERN IRELAND\\n2022 No. ...</td>\n",
       "      <td>1(2), 3(a)3\\nThe regulator: objectives and reg...</td>\n",
       "    </tr>\n",
       "    <tr>\n",
       "      <th>15</th>\n",
       "      <td>Scotland</td>\n",
       "      <td>With reference to the Land Reform (Scotland) A...</td>\n",
       "      <td>The Land Reform (Scotland) Act 2016, along wit...</td>\n",
       "      <td>The provided text focuses on regulations relat...</td>\n",
       "      <td>SCOTTISH STATUTORY INSTRUMENTS\\n2018 No. 140\\n...</td>\n",
       "      <td>Draft Regulations laid before the Scottish Par...</td>\n",
       "      <td>SCOTTISH STATUTORY INSTRUMENTS\\n2020\\n\\nNo. 11...</td>\n",
       "    </tr>\n",
       "    <tr>\n",
       "      <th>16</th>\n",
       "      <td>Scotland</td>\n",
       "      <td>In the context of the Fair Work Framework (Sco...</td>\n",
       "      <td>The Fair Work Framework (Scotland) 2016, reinf...</td>\n",
       "      <td>Let's break down how employer obligations rela...</td>\n",
       "      <td>SCOTTISH STATUTORY INSTRUMENTS\\n2021 No. 471\\n...</td>\n",
       "      <td>SCOTTISH STATUTORY INSTRUMENTS\\n2021 No. 473\\n...</td>\n",
       "      <td>Draft Regulations laid before the Scottish Par...</td>\n",
       "    </tr>\n",
       "    <tr>\n",
       "      <th>17</th>\n",
       "      <td>Scotland</td>\n",
       "      <td>Under the Private Housing (Tenancies) (Scotlan...</td>\n",
       "      <td>The Private Housing (Tenancies) (Scotland) Act...</td>\n",
       "      <td>This text excerpt outlines the evolution of te...</td>\n",
       "      <td>Cost of Living (Tenant Protection) (Scotland) ...</td>\n",
       "      <td>1(2), 2(2))\\n\\n(with savings in S.S.I. 2024/19...</td>\n",
       "      <td>(1)\\nPart 1 of the Cost of Living (Tenant Prot...</td>\n",
       "    </tr>\n",
       "    <tr>\n",
       "      <th>18</th>\n",
       "      <td>Scotland</td>\n",
       "      <td>Considering the Planning (Scotland) Act 2019 a...</td>\n",
       "      <td>The Planning (Scotland) Act 2019, alongside th...</td>\n",
       "      <td>The provided context details regulations relat...</td>\n",
       "      <td>SCOTTISH STATUTORY INSTRUMENTS\\n2020\\n\\nNo. 66...</td>\n",
       "      <td>Draft Order laid before the Scottish Parliamen...</td>\n",
       "      <td>Draft Regulations laid before the Scottish Par...</td>\n",
       "    </tr>\n",
       "    <tr>\n",
       "      <th>19</th>\n",
       "      <td>Scotland</td>\n",
       "      <td>In the context of the Data Protection Act 2018...</td>\n",
       "      <td>The Data Protection Act 2018, coupled with the...</td>\n",
       "      <td>## Public Sector Responsibilities in Scotland ...</td>\n",
       "      <td>For article 7 of the Scottish Parliamentary Co...</td>\n",
       "      <td>(3)\\nThe controller—\\n(a)\\nmust ensure that th...</td>\n",
       "      <td>[F8(d)\\nin Part 7 of this Act, sections 170 an...</td>\n",
       "    </tr>\n",
       "  </tbody>\n",
       "</table>\n",
       "</div>"
      ],
      "text/plain": [
       "           Country                                           Question  \\\n",
       "0               uk  In the context of the Environmental Protection...   \n",
       "1               uk  Under the Employment Rights Act 1996, as amend...   \n",
       "2               uk  In light of the Data Protection Act 2018, inco...   \n",
       "3               uk  Following the passage of the Renters' Reform B...   \n",
       "4               uk  Under the Building Safety Act 2022, a construc...   \n",
       "5            Wales  In light of the Welsh Language (Wales) Measure...   \n",
       "6            Wales  Considering the Environment (Wales) Act 2016 a...   \n",
       "7            Wales  Under the Renting Homes (Wales) Act 2016, as a...   \n",
       "8            Wales  Following the implementation of the Additional...   \n",
       "9            Wales  In the context of the Planning (Wales) Act 201...   \n",
       "10  NothernIreland  In light of the Environment (Northern Ireland)...   \n",
       "11  NothernIreland  With reference to the Employment (Northern Ire...   \n",
       "12  NothernIreland  Under the Planning Act (Northern Ireland) 2011...   \n",
       "13  NothernIreland  In the context of the Data Protection Act 2018...   \n",
       "14  NothernIreland  Considering the Health and Safety at Work (Nor...   \n",
       "15        Scotland  With reference to the Land Reform (Scotland) A...   \n",
       "16        Scotland  In the context of the Fair Work Framework (Sco...   \n",
       "17        Scotland  Under the Private Housing (Tenancies) (Scotlan...   \n",
       "18        Scotland  Considering the Planning (Scotland) Act 2019 a...   \n",
       "19        Scotland  In the context of the Data Protection Act 2018...   \n",
       "\n",
       "                                        Actual Answer  \\\n",
       "0   The Environmental Land Management (ELM) scheme...   \n",
       "1   The Employment Rights Act 1996, as amended by ...   \n",
       "2   The situation described involves potential bre...   \n",
       "3   The Renters' Reform Bill, expected to receive ...   \n",
       "4   The Building Safety Act 2022 introduces string...   \n",
       "5   The Welsh Language (Wales) Measure 2011 establ...   \n",
       "6   The Environment (Wales) Act 2016 and the Agric...   \n",
       "7   The Renting Homes (Wales) Act 2016, amended by...   \n",
       "8   The Additional Learning Needs and Education Tr...   \n",
       "9   The Planning (Wales) Act 2015 and the Well-bei...   \n",
       "10  The Environment (Northern Ireland) Order 2002,...   \n",
       "11  The Employment (Northern Ireland) Order 2003, ...   \n",
       "12  The Planning Act (Northern Ireland) 2011, as a...   \n",
       "13  The Data Protection Act 2018, in conjunction w...   \n",
       "14  The Health and Safety at Work (Northern Irelan...   \n",
       "15  The Land Reform (Scotland) Act 2016, along wit...   \n",
       "16  The Fair Work Framework (Scotland) 2016, reinf...   \n",
       "17  The Private Housing (Tenancies) (Scotland) Act...   \n",
       "18  The Planning (Scotland) Act 2019, alongside th...   \n",
       "19  The Data Protection Act 2018, coupled with the...   \n",
       "\n",
       "                                             Response  \\\n",
       "0   The introduction of the ELM scheme in England ...   \n",
       "1   Under the amended Employment Rights Act 1996, ...   \n",
       "2   Here's a breakdown of the legal consequences f...   \n",
       "3   The abolition of Section 21 \"no-fault\" evictio...   \n",
       "4   Here's a breakdown of how the Building Safety ...   \n",
       "5   Public bodies in Wales have a legal obligation...   \n",
       "6   The Agriculture (Wales) Act of 2023 introduces...   \n",
       "7   ##  Wales Under Renting Homes (Wales) Act 2016...   \n",
       "8   This excerpt outlines a significant legal fram...   \n",
       "9   Here's an analysis of how Welsh planning autho...   \n",
       "10  Let's break down the changes to waste manageme...   \n",
       "11  ##  How Recent Developments in Northern Irelan...   \n",
       "12  The Planning Act (Northern Ireland) 2011, as a...   \n",
       "13  Here's a breakdown of how Northern Ireland's p...   \n",
       "14  Let's break down the responsibilities of princ...   \n",
       "15  The provided text focuses on regulations relat...   \n",
       "16  Let's break down how employer obligations rela...   \n",
       "17  This text excerpt outlines the evolution of te...   \n",
       "18  The provided context details regulations relat...   \n",
       "19  ## Public Sector Responsibilities in Scotland ...   \n",
       "\n",
       "                                            Response1  \\\n",
       "0   (2) Where the risk assessment prepared in acco...   \n",
       "1   Employment Relations (Flexible Working) Act 20...   \n",
       "2   (7)\\n\\n\\nIn Article 6(1) of the GDPR (lawfulne...   \n",
       "3   Leasehold and Freehold Reform Act 2024\\n2024 C...   \n",
       "4   Building Safety Act 2022\\n2022 CHAPTER 30\\nAn ...   \n",
       "5   17 Standards for raising awareness about Welsh...   \n",
       "6   Agriculture (Wales) Act 2023\\n2023 asc 4\\nAn A...   \n",
       "7   (1)\\nS.I. 2022/244 (W. 72).\\n\\nForm RHW17 is g...   \n",
       "8   Additional Learning Needs and Education Tribun...   \n",
       "9   WELSH STATUTORY INSTRUMENTS\\n2021 No. 7 (W. 3)...   \n",
       "10  No L312, 22.11.2008, p. 3) (“the Waste Framewo...   \n",
       "11  STATUTORY RULES OF NORTHERN IRELAND\\n2023 No. ...   \n",
       "12  The Directives were previously implemented for...   \n",
       "13  (5)\\nSubsection (1) does not limit the circums...   \n",
       "14  (3)\\nSection 2(2) and Schedule 1 (amendments o...   \n",
       "15  SCOTTISH STATUTORY INSTRUMENTS\\n2018 No. 140\\n...   \n",
       "16  SCOTTISH STATUTORY INSTRUMENTS\\n2021 No. 471\\n...   \n",
       "17  Cost of Living (Tenant Protection) (Scotland) ...   \n",
       "18  SCOTTISH STATUTORY INSTRUMENTS\\n2020\\n\\nNo. 66...   \n",
       "19  For article 7 of the Scottish Parliamentary Co...   \n",
       "\n",
       "                                            Response2  \\\n",
       "0   (2) Where the risk assessment prepared in acco...   \n",
       "1   STATUTORY INSTRUMENTS\\n2024\\n\\nNo. 438 (C. 24)...   \n",
       "2   Data Protection Act 2018\\n2018 CHAPTER 12\\nAn ...   \n",
       "3   STATUTORY INSTRUMENTS\\n2021 No. 564\\nLANDLORD ...   \n",
       "4   Regulations 2010(3).\\n\\n\\n(1)\\nParagraphs 4A a...   \n",
       "5   17 Standards for raising awareness about Welsh...   \n",
       "6   Commencement Information\\nI1\\nS. 4 in force at...   \n",
       "7   There are other amendments to section 19 which...   \n",
       "8   This article applies to a child who on 1 Janua...   \n",
       "9   WELSH STATUTORY INSTRUMENTS\\n2021 No. 7 (W. 3)...   \n",
       "10  STATUTORY RULES OF NORTHERN IRELAND\\n2019 No. ...   \n",
       "11  Commencement Information\\nI1\\nArt. 4 in operat...   \n",
       "12  STATUTORY RULES OF NORTHERN IRELAND\\n2019 No. ...   \n",
       "13  1(3); S.I. 2023/1092, art.\\n\\n2(g)48\\nNorthern...   \n",
       "14  STATUTORY RULES OF NORTHERN IRELAND\\n2022 No. ...   \n",
       "15  Draft Regulations laid before the Scottish Par...   \n",
       "16  SCOTTISH STATUTORY INSTRUMENTS\\n2021 No. 473\\n...   \n",
       "17  1(2), 2(2))\\n\\n(with savings in S.S.I. 2024/19...   \n",
       "18  Draft Order laid before the Scottish Parliamen...   \n",
       "19  (3)\\nThe controller—\\n(a)\\nmust ensure that th...   \n",
       "\n",
       "                                            Response3  \n",
       "0   Commencement Information\\nI5\\nSch.\\n\\n2 para.\\...  \n",
       "1   STATUTORY INSTRUMENTS\\n2023 No. 1328\\nTERMS AN...  \n",
       "2   1(1)\\nModifications etc. (not altering text)\\n...  \n",
       "3   It introduces schedules 1 and 2 of the 2022 Ac...  \n",
       "4   STATUTORY INSTRUMENTS\\n2022\\n\\nNo. 1210 (C. 95...  \n",
       "5   Standard 39: If you have a Welsh language web ...  \n",
       "6   Commencement Information\\nI1\\nS. 7 in force at...  \n",
       "7   There are other amendments to section 19 which...  \n",
       "8   This article applies to a child who on 1 Janua...  \n",
       "9   WELSH STATUTORY INSTRUMENTS\\n2020\\n\\nNo. 1216 ...  \n",
       "10  The Hazardous Waste Regulations (Northern Irel...  \n",
       "11  STATUTORY RULES OF NORTHERN IRELAND\\n2019 No. ...  \n",
       "12  (2) The developer must also provide any furthe...  \n",
       "13  For article 7 of the Scottish Parliamentary Co...  \n",
       "14  1(2), 3(a)3\\nThe regulator: objectives and reg...  \n",
       "15  SCOTTISH STATUTORY INSTRUMENTS\\n2020\\n\\nNo. 11...  \n",
       "16  Draft Regulations laid before the Scottish Par...  \n",
       "17  (1)\\nPart 1 of the Cost of Living (Tenant Prot...  \n",
       "18  Draft Regulations laid before the Scottish Par...  \n",
       "19  [F8(d)\\nin Part 7 of this Act, sections 170 an...  "
      ]
     },
     "execution_count": 16,
     "metadata": {},
     "output_type": "execute_result"
    }
   ],
   "source": [
    "df = pd.read_csv('./RAG_Bot_Responses_Vector_k3.csv')\n",
    "df"
   ]
  },
  {
   "cell_type": "code",
   "execution_count": 25,
   "metadata": {},
   "outputs": [
    {
     "name": "stderr",
     "output_type": "stream",
     "text": [
      "You are using a model of type HHEMv2Config to instantiate a model of type HHEMv2. This is not supported for all configurations of models and can yield errors.\n",
      "Evaluating: 100%|██████████| 1/1 [00:27<00:00, 27.40s/it]\n",
      "Evaluating: 100%|██████████| 1/1 [00:03<00:00,  3.10s/it]\n",
      "Evaluating: 100%|██████████| 1/1 [00:05<00:00,  5.90s/it]\n",
      "Evaluating: 100%|██████████| 1/1 [00:09<00:00,  9.33s/it]\n"
     ]
    },
    {
     "name": "stdout",
     "output_type": "stream",
     "text": [
      "faithfulness Scores: 0.0\n",
      "answer_relavancy Scores: 0.9310266577211651\n",
      "context_precision Scores: 0.9999999999666667\n",
      "context_recall Scores: 0.3333333333333333\n",
      "Blue Score: 0.09641440177419695\n"
     ]
    },
    {
     "name": "stderr",
     "output_type": "stream",
     "text": [
      "Evaluating: 100%|██████████| 1/1 [00:24<00:00, 24.76s/it]\n",
      "Evaluating: 100%|██████████| 1/1 [00:02<00:00,  2.83s/it]\n",
      "Evaluating: 100%|██████████| 1/1 [00:04<00:00,  4.48s/it]\n",
      "Evaluating: 100%|██████████| 1/1 [00:09<00:00,  9.06s/it]\n"
     ]
    },
    {
     "name": "stdout",
     "output_type": "stream",
     "text": [
      "faithfulness Scores: 0.0\n",
      "answer_relavancy Scores: 0.8985107120165438\n",
      "context_precision Scores: 0.0\n",
      "context_recall Scores: 0.0\n",
      "Blue Score: 0.044162816183707425\n"
     ]
    },
    {
     "name": "stderr",
     "output_type": "stream",
     "text": [
      "Evaluating: 100%|██████████| 1/1 [00:40<00:00, 40.94s/it]\n",
      "Evaluating: 100%|██████████| 1/1 [00:02<00:00,  2.44s/it]\n",
      "Evaluating: 100%|██████████| 1/1 [00:04<00:00,  4.71s/it]\n",
      "Evaluating: 100%|██████████| 1/1 [00:11<00:00, 11.58s/it]\n"
     ]
    },
    {
     "name": "stdout",
     "output_type": "stream",
     "text": [
      "faithfulness Scores: 0.0\n",
      "answer_relavancy Scores: 0.9136120149951651\n",
      "context_precision Scores: 0.0\n",
      "context_recall Scores: 0.0\n",
      "Blue Score: 0.08313653115474468\n"
     ]
    },
    {
     "name": "stderr",
     "output_type": "stream",
     "text": [
      "Evaluating: 100%|██████████| 1/1 [00:29<00:00, 29.47s/it]\n",
      "Evaluating: 100%|██████████| 1/1 [00:03<00:00,  3.18s/it]\n",
      "Evaluating: 100%|██████████| 1/1 [00:05<00:00,  5.78s/it]\n",
      "Evaluating: 100%|██████████| 1/1 [00:07<00:00,  7.67s/it]\n"
     ]
    },
    {
     "name": "stdout",
     "output_type": "stream",
     "text": [
      "faithfulness Scores: 0.0\n",
      "answer_relavancy Scores: 0.8972598810698279\n",
      "context_precision Scores: 0.0\n",
      "context_recall Scores: 0.0\n",
      "Blue Score: 0.08470476998086661\n"
     ]
    },
    {
     "name": "stderr",
     "output_type": "stream",
     "text": [
      "Evaluating: 100%|██████████| 1/1 [00:16<00:00, 16.45s/it]\n",
      "Evaluating: 100%|██████████| 1/1 [00:03<00:00,  3.48s/it]\n",
      "Evaluating: 100%|██████████| 1/1 [00:05<00:00,  5.89s/it]\n",
      "Evaluating: 100%|██████████| 1/1 [00:06<00:00,  6.71s/it]\n"
     ]
    },
    {
     "name": "stdout",
     "output_type": "stream",
     "text": [
      "faithfulness Scores: 0.0\n",
      "answer_relavancy Scores: 0.9047152958942543\n",
      "context_precision Scores: 0.3333333333\n",
      "context_recall Scores: 0.0\n",
      "Blue Score: 0.07784396223240841\n"
     ]
    },
    {
     "name": "stderr",
     "output_type": "stream",
     "text": [
      "Evaluating: 100%|██████████| 1/1 [00:12<00:00, 12.74s/it]\n",
      "Evaluating: 100%|██████████| 1/1 [00:02<00:00,  2.30s/it]\n",
      "Evaluating: 100%|██████████| 1/1 [00:05<00:00,  5.79s/it]\n",
      "Evaluating: 100%|██████████| 1/1 [00:03<00:00,  3.74s/it]\n"
     ]
    },
    {
     "name": "stdout",
     "output_type": "stream",
     "text": [
      "faithfulness Scores: 0.0\n",
      "answer_relavancy Scores: 0.9159376921179705\n",
      "context_precision Scores: 0.0\n",
      "context_recall Scores: 0.0\n",
      "Blue Score: 0.09205153764964634\n"
     ]
    },
    {
     "name": "stderr",
     "output_type": "stream",
     "text": [
      "Evaluating: 100%|██████████| 1/1 [00:23<00:00, 23.50s/it]\n",
      "Evaluating: 100%|██████████| 1/1 [00:03<00:00,  3.36s/it]\n",
      "Evaluating: 100%|██████████| 1/1 [00:06<00:00,  6.33s/it]\n",
      "Evaluating: 100%|██████████| 1/1 [00:08<00:00,  8.54s/it]\n"
     ]
    },
    {
     "name": "stdout",
     "output_type": "stream",
     "text": [
      "faithfulness Scores: 0.0\n",
      "answer_relavancy Scores: 0.9331161900030005\n",
      "context_precision Scores: 0.0\n",
      "context_recall Scores: 0.0\n",
      "Blue Score: 0.06641632065223398\n"
     ]
    },
    {
     "name": "stderr",
     "output_type": "stream",
     "text": [
      "Evaluating: 100%|██████████| 1/1 [00:21<00:00, 21.74s/it]\n",
      "Evaluating: 100%|██████████| 1/1 [00:02<00:00,  2.37s/it]\n",
      "Evaluating: 100%|██████████| 1/1 [00:04<00:00,  4.14s/it]\n",
      "Evaluating: 100%|██████████| 1/1 [00:06<00:00,  6.01s/it]\n"
     ]
    },
    {
     "name": "stdout",
     "output_type": "stream",
     "text": [
      "faithfulness Scores: 0.0\n",
      "answer_relavancy Scores: 0.9107616514855684\n",
      "context_precision Scores: 0.0\n",
      "context_recall Scores: 0.0\n",
      "Blue Score: 0.04386650597500975\n"
     ]
    },
    {
     "name": "stderr",
     "output_type": "stream",
     "text": [
      "Evaluating: 100%|██████████| 1/1 [00:27<00:00, 27.10s/it]\n",
      "Evaluating: 100%|██████████| 1/1 [00:02<00:00,  2.69s/it]\n",
      "Evaluating: 100%|██████████| 1/1 [00:03<00:00,  3.93s/it]\n",
      "Evaluating: 100%|██████████| 1/1 [00:07<00:00,  7.35s/it]\n"
     ]
    },
    {
     "name": "stdout",
     "output_type": "stream",
     "text": [
      "faithfulness Scores: 0.0\n",
      "answer_relavancy Scores: 0.9056592192530614\n",
      "context_precision Scores: 0.0\n",
      "context_recall Scores: 0.0\n",
      "Blue Score: 0.08502662422695313\n"
     ]
    },
    {
     "name": "stderr",
     "output_type": "stream",
     "text": [
      "Evaluating: 100%|██████████| 1/1 [00:36<00:00, 36.28s/it]\n",
      "Evaluating: 100%|██████████| 1/1 [00:02<00:00,  2.58s/it]\n",
      "Evaluating: 100%|██████████| 1/1 [00:07<00:00,  7.44s/it]\n",
      "Evaluating: 100%|██████████| 1/1 [00:08<00:00,  8.62s/it]\n"
     ]
    },
    {
     "name": "stdout",
     "output_type": "stream",
     "text": [
      "faithfulness Scores: 0.0\n",
      "answer_relavancy Scores: 0.9247253019959084\n",
      "context_precision Scores: 0.0\n",
      "context_recall Scores: 0.0\n",
      "Blue Score: 0.09196157401972714\n"
     ]
    },
    {
     "name": "stderr",
     "output_type": "stream",
     "text": [
      "Evaluating: 100%|██████████| 1/1 [00:31<00:00, 31.62s/it]\n",
      "Evaluating: 100%|██████████| 1/1 [00:02<00:00,  2.97s/it]\n",
      "Evaluating: 100%|██████████| 1/1 [00:05<00:00,  5.48s/it]\n",
      "Evaluating: 100%|██████████| 1/1 [00:08<00:00,  8.76s/it]\n"
     ]
    },
    {
     "name": "stdout",
     "output_type": "stream",
     "text": [
      "faithfulness Scores: 0.0\n",
      "answer_relavancy Scores: 0.9376586573671175\n",
      "context_precision Scores: 0.3333333333\n",
      "context_recall Scores: 0.0\n",
      "Blue Score: 0.06173347319662926\n"
     ]
    },
    {
     "name": "stderr",
     "output_type": "stream",
     "text": [
      "Evaluating: 100%|██████████| 1/1 [00:28<00:00, 28.66s/it]\n",
      "Evaluating: 100%|██████████| 1/1 [00:02<00:00,  2.66s/it]\n",
      "Evaluating: 100%|██████████| 1/1 [00:04<00:00,  4.55s/it]\n",
      "Evaluating: 100%|██████████| 1/1 [00:08<00:00,  8.06s/it]\n"
     ]
    },
    {
     "name": "stdout",
     "output_type": "stream",
     "text": [
      "faithfulness Scores: 0.0\n",
      "answer_relavancy Scores: 0.8933456658304628\n",
      "context_precision Scores: 0.0\n",
      "context_recall Scores: 0.0\n",
      "Blue Score: 0.061436780757687375\n"
     ]
    },
    {
     "name": "stderr",
     "output_type": "stream",
     "text": [
      "Evaluating: 100%|██████████| 1/1 [00:22<00:00, 22.14s/it]\n",
      "Evaluating: 100%|██████████| 1/1 [00:02<00:00,  2.50s/it]\n",
      "Evaluating: 100%|██████████| 1/1 [00:04<00:00,  4.47s/it]\n",
      "Evaluating: 100%|██████████| 1/1 [00:06<00:00,  6.77s/it]\n"
     ]
    },
    {
     "name": "stdout",
     "output_type": "stream",
     "text": [
      "faithfulness Scores: 0.0\n",
      "answer_relavancy Scores: 0.9387955586025044\n",
      "context_precision Scores: 0.9999999999666667\n",
      "context_recall Scores: 0.0\n",
      "Blue Score: 0.10553804735904154\n"
     ]
    },
    {
     "name": "stderr",
     "output_type": "stream",
     "text": [
      "Evaluating: 100%|██████████| 1/1 [00:37<00:00, 37.30s/it]\n",
      "Evaluating: 100%|██████████| 1/1 [00:03<00:00,  3.59s/it]\n",
      "Evaluating: 100%|██████████| 1/1 [00:07<00:00,  7.62s/it]\n",
      "Evaluating: 100%|██████████| 1/1 [00:28<00:00, 28.99s/it]\n"
     ]
    },
    {
     "name": "stdout",
     "output_type": "stream",
     "text": [
      "faithfulness Scores: 0.0\n",
      "answer_relavancy Scores: 0.9471530751266503\n",
      "context_precision Scores: 0.0\n",
      "context_recall Scores: 0.0\n",
      "Blue Score: 0.06608227495568829\n"
     ]
    },
    {
     "name": "stderr",
     "output_type": "stream",
     "text": [
      "Evaluating: 100%|██████████| 1/1 [00:33<00:00, 33.38s/it]\n",
      "Evaluating: 100%|██████████| 1/1 [00:05<00:00,  5.09s/it]\n",
      "Evaluating: 100%|██████████| 1/1 [00:08<00:00,  8.36s/it]\n",
      "Evaluating: 100%|██████████| 1/1 [00:06<00:00,  6.07s/it]\n"
     ]
    },
    {
     "name": "stdout",
     "output_type": "stream",
     "text": [
      "faithfulness Scores: 0.0\n",
      "answer_relavancy Scores: 0.8858509100150181\n",
      "context_precision Scores: 0.0\n",
      "context_recall Scores: 0.0\n",
      "Blue Score: 0.10406080692402231\n"
     ]
    },
    {
     "name": "stderr",
     "output_type": "stream",
     "text": [
      "Evaluating: 100%|██████████| 1/1 [00:12<00:00, 12.57s/it]\n",
      "Evaluating: 100%|██████████| 1/1 [00:02<00:00,  2.87s/it]\n",
      "Evaluating: 100%|██████████| 1/1 [00:05<00:00,  5.09s/it]\n",
      "Evaluating: 100%|██████████| 1/1 [00:14<00:00, 14.63s/it]\n"
     ]
    },
    {
     "name": "stdout",
     "output_type": "stream",
     "text": [
      "faithfulness Scores: 0.07692307692307693\n",
      "answer_relavancy Scores: 0.9308397395348841\n",
      "context_precision Scores: 0.0\n",
      "context_recall Scores: 0.0\n",
      "Blue Score: 0.0852087257214674\n"
     ]
    },
    {
     "name": "stderr",
     "output_type": "stream",
     "text": [
      "Evaluating: 100%|██████████| 1/1 [00:28<00:00, 28.27s/it]\n",
      "Evaluating: 100%|██████████| 1/1 [00:04<00:00,  4.04s/it]\n",
      "Evaluating: 100%|██████████| 1/1 [00:05<00:00,  5.68s/it]\n",
      "Evaluating: 100%|██████████| 1/1 [00:09<00:00,  9.13s/it]\n"
     ]
    },
    {
     "name": "stdout",
     "output_type": "stream",
     "text": [
      "faithfulness Scores: 0.0\n",
      "answer_relavancy Scores: 0.9258022418784572\n",
      "context_precision Scores: 0.0\n",
      "context_recall Scores: 0.0\n",
      "Blue Score: 0.08581835545969035\n"
     ]
    },
    {
     "name": "stderr",
     "output_type": "stream",
     "text": [
      "Evaluating: 100%|██████████| 1/1 [00:28<00:00, 28.73s/it]\n",
      "Evaluating: 100%|██████████| 1/1 [00:02<00:00,  2.67s/it]\n",
      "Evaluating: 100%|██████████| 1/1 [00:04<00:00,  4.67s/it]\n",
      "Evaluating: 100%|██████████| 1/1 [00:10<00:00, 10.03s/it]\n"
     ]
    },
    {
     "name": "stdout",
     "output_type": "stream",
     "text": [
      "faithfulness Scores: 0.0\n",
      "answer_relavancy Scores: 0.9339965316763648\n",
      "context_precision Scores: 0.0\n",
      "context_recall Scores: 0.0\n",
      "Blue Score: 0.05605154193207532\n"
     ]
    },
    {
     "name": "stderr",
     "output_type": "stream",
     "text": [
      "Evaluating: 100%|██████████| 1/1 [00:20<00:00, 20.66s/it]\n",
      "Evaluating: 100%|██████████| 1/1 [00:05<00:00,  5.42s/it]\n",
      "Evaluating: 100%|██████████| 1/1 [00:04<00:00,  4.83s/it]\n",
      "Evaluating: 100%|██████████| 1/1 [00:07<00:00,  8.00s/it]\n"
     ]
    },
    {
     "name": "stdout",
     "output_type": "stream",
     "text": [
      "faithfulness Scores: 0.1\n",
      "answer_relavancy Scores: 0.9449292616345802\n",
      "context_precision Scores: 0.3333333333\n",
      "context_recall Scores: 0.0\n",
      "Blue Score: 0.08313959165081589\n"
     ]
    },
    {
     "name": "stderr",
     "output_type": "stream",
     "text": [
      "Evaluating: 100%|██████████| 1/1 [00:41<00:00, 41.03s/it]\n",
      "Evaluating: 100%|██████████| 1/1 [00:02<00:00,  2.79s/it]\n",
      "Evaluating: 100%|██████████| 1/1 [00:04<00:00,  4.20s/it]\n",
      "Evaluating: 100%|██████████| 1/1 [00:11<00:00, 11.23s/it]\n"
     ]
    },
    {
     "name": "stdout",
     "output_type": "stream",
     "text": [
      "faithfulness Scores: 0.0\n",
      "answer_relavancy Scores: 0.9273027020699546\n",
      "context_precision Scores: 0.0\n",
      "context_recall Scores: 0.0\n",
      "Blue Score: 0.0606755583936463\n",
      "\n",
      "Mean Value of Faithfulness: 0.008846153846153847\n",
      "Mean Value of Answer Relevancy: 0.9200499480144231\n",
      "Mean Value of Blue Score: 0.07676651001001292\n",
      "Mean Value of Context Precision: 0.14999999999166666\n",
      "Mean Value of Context Recall: 0.016666666666666666\n"
     ]
    }
   ],
   "source": [
    "Faithfulness_List = []\n",
    "Answer_Relevancy_List = []\n",
    "Blue_Score_List = []\n",
    "Context_Precision_List = []\n",
    "Context_Recall_List = []\n",
    "faithfulness_with_hhem = FaithulnesswithHHEM(device='cpu', batch_size=1)\n",
    "for idxdata, data in df.iterrows():\n",
    "    selected_cols = df[['Response1', 'Response2', 'Response3']]\n",
    "    reshaped = selected_cols.apply(lambda x: [x.values.tolist()], axis=1).values.tolist()\n",
    "\n",
    "    data_sample = {\n",
    "        'question': [data['Question']],\n",
    "        'answer': [data['Response']],\n",
    "        'contexts': reshaped[0],\n",
    "    }\n",
    "    dataset = Dataset.from_dict(data_sample)\n",
    "    faithfulness_score = evaluate(dataset,metrics=[faithfulness])\n",
    "    # faithfulness_score = evaluate(dataset,metrics=[faithfulness_with_hhem])\n",
    "    faithfulness_score.to_pandas()\n",
    "    # Faithfulness_List.append(faithfulness_score['faithfulness_with_hhem'])\n",
    "    Faithfulness_List.append(faithfulness_score['faithfulness'])\n",
    "    \n",
    "    data_sample = {\n",
    "        'question': [data['Question']],\n",
    "        'answer': [data['Actual Answer']],\n",
    "        'contexts': [[data['Response']]],\n",
    "    }\n",
    "    dataset = Dataset.from_dict(data_sample)\n",
    "    answer_relavancy_score = evaluate(dataset,metrics=[answer_relevancy])\n",
    "    answer_relavancy_score.to_pandas()\n",
    "    Answer_Relevancy_List.append(answer_relavancy_score['answer_relevancy'])\n",
    "    \n",
    "    data_sample = {\n",
    "        'question': [data['Question']],\n",
    "        'ground_truth': [data['Actual Answer']],\n",
    "        'contexts': reshaped[0],\n",
    "    }\n",
    "    dataset = Dataset.from_dict(data_sample)\n",
    "    \n",
    "    context_precision_score = evaluate(dataset,metrics=[context_precision])\n",
    "    context_precision_score.to_pandas()\n",
    "    Context_Precision_List.append(context_precision_score['context_precision'])\n",
    "    \n",
    "    context_recall_score = evaluate(dataset,metrics=[context_recall])\n",
    "    context_recall_score.to_pandas()\n",
    "    Context_Recall_List.append(context_recall_score['context_recall'])\n",
    "    \n",
    "    blue_score = sentence_bleu([data['Actual Answer'].split()], data['Response'].split())\n",
    "    Blue_Score_List.append(blue_score)\n",
    "    \n",
    "    # print(f'faithfulness Scores: {faithfulness_score[\"faithfulness_with_hhem\"]}')\n",
    "    print(f'faithfulness Scores: {faithfulness_score[\"faithfulness\"]}')\n",
    "    print(f'answer_relavancy Scores: {answer_relavancy_score[\"answer_relevancy\"]}')\n",
    "    print(f'context_precision Scores: {context_precision_score[\"context_precision\"]}')\n",
    "    print(f'context_recall Scores: {context_recall_score[\"context_recall\"]}')\n",
    "    print(f'Blue Score: {blue_score}')\n",
    "    \n",
    "print(f'\\nMean Value of Faithfulness: {np.mean(Faithfulness_List)}')\n",
    "print(f'Mean Value of Answer Relevancy: {np.mean(Answer_Relevancy_List)}')\n",
    "print(f'Mean Value of Blue Score: {np.mean(Blue_Score_List)}')\n",
    "print(f'Mean Value of Context Precision: {np.mean(Context_Precision_List)}')\n",
    "print(f'Mean Value of Context Recall: {np.mean(Context_Recall_List)}')"
   ]
  },
  {
   "cell_type": "code",
   "execution_count": null,
   "metadata": {},
   "outputs": [],
   "source": []
  }
 ],
 "metadata": {
  "kernelspec": {
   "display_name": "env",
   "language": "python",
   "name": "python3"
  },
  "language_info": {
   "codemirror_mode": {
    "name": "ipython",
    "version": 3
   },
   "file_extension": ".py",
   "mimetype": "text/x-python",
   "name": "python",
   "nbconvert_exporter": "python",
   "pygments_lexer": "ipython3",
   "version": "3.11.10"
  }
 },
 "nbformat": 4,
 "nbformat_minor": 2
}
